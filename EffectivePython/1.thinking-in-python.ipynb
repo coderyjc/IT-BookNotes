{
 "cells": [
  {
   "cell_type": "markdown",
   "metadata": {},
   "source": [
    "## Item 1. 查询自己使用的Python版本"
   ]
  },
  {
   "cell_type": "code",
   "execution_count": 1,
   "metadata": {},
   "outputs": [
    {
     "name": "stdout",
     "output_type": "stream",
     "text": [
      "Python 3.9.19\n"
     ]
    }
   ],
   "source": [
    "# 通过输入指令查看Python版本\n",
    "\n",
    "!python --version"
   ]
  },
  {
   "cell_type": "code",
   "execution_count": 2,
   "metadata": {},
   "outputs": [
    {
     "name": "stdout",
     "output_type": "stream",
     "text": [
      "sys.version_info(major=3, minor=9, micro=19, releaselevel='final', serial=0)\n",
      "3.9.19 (main, Mar 21 2024, 17:21:27) [MSC v.1916 64 bit (AMD64)]\n"
     ]
    }
   ],
   "source": [
    "# 通过使用内置sys模块查询相关的值确定当前使用的Python版本\n",
    "\n",
    "import sys\n",
    "\n",
    "print(sys.version_info)\n",
    "print(sys.version)"
   ]
  },
  {
   "cell_type": "markdown",
   "metadata": {},
   "source": [
    "## Item 2. 遵循PEP 8风格指南 "
   ]
  },
  {
   "cell_type": "markdown",
   "metadata": {},
   "source": [
    "**与空白有关的建议**\n",
    "\n",
    "- 用空格（space）表示缩进，而不要用制表符（tab）。\n",
    "- 和语法相关的每一层缩进都用4个空格表示。\n",
    "- 每行不超过79个字符。\n",
    "- 对于占据多行的长表达式来说，除了首行之外的其余各行都应该在通常的缩进级别之上再加4个空格。\n",
    "- 在同一份文件中，函数与类之间用两个空行隔开。\n",
    "- 在同一个类中，方法与方法之间用一个空行隔开。\n",
    "- 使用字典时，键与冒号之间不加空格，写在同一行的冒号和值之间应该加一个空格。\n",
    "- 给变量赋值时，赋值符号的左边和右边各加一个空格，并且只加一个空格就好。\n",
    "- 给变量的类型做注解（annotation）时，不要把变量名和冒号隔开，但在类型信息前应该有一个空格。"
   ]
  },
  {
   "cell_type": "markdown",
   "metadata": {},
   "source": [
    "**与命名有关的建议**\n",
    "\n",
    "- 函数、变量及属性用小写字母来拼写，各单词之间用下划线相连，例如：lowercase_underscore。\n",
    "- 受保护的实例属性，用一个下划线开头，例如：_leading_underscore。\n",
    "- 私有的实例属性，用两个下划线开头，例如：__double_leading_underscore。\n",
    "- 类（包括异常）命名时，每个单词的首字母均大写，例如：CapitalizedWord。\n",
    "- 模块级别的常量，所有字母都大写，各单词之间用下划线相连，例如：ALL_CAPS。\n",
    "- 类中的实例方法，应该把第一个参数命名为self，用来表示该对象本身。\n",
    "- 类方法的第一个参数，应该命名为cls，用来表示这个类本身。"
   ]
  },
  {
   "cell_type": "markdown",
   "metadata": {},
   "source": [
    "**与表达式和语句有关的建议**\n",
    "\n",
    "- 采用行内否定，即把否定词直接写在要否定的内容前面，而不要放在整个表达式的前面，例如应该写if a is not b，而不是if not a is b。\n",
    "- 不要通过长度判断容器或序列是不是空的，例如不要通过if len(somelist) == 0判断somelist是否为[]或''等空值，而是应该采用if not somelist这样的写法来判断，因为Python会把空值自动评估为False。\n",
    "- 如果要判断容器或序列里面有没有内容（比如要判断somelist是否为[1]或'hi'这样非空的值），也不应该通过长度来判断，而是应该采用if somelist语句，因为Python会把非空的值自动判定为True。\n",
    "- 不要把if语句、for循环、while循环及except复合语句挤在一行。\n",
    "- 应该把这些语句分成多行来写，这样更加清晰。如果表达式一行写不下，可以用括号将其括起来，而且要适当地添加换行与缩进以便于阅读。\n",
    "- 多行的表达式，应该用括号括起来，而不要用\\符号续行。"
   ]
  },
  {
   "cell_type": "markdown",
   "metadata": {},
   "source": [
    "**与引入有关的建议**\n",
    "\n",
    "- import语句（含from x import y）总是应该放在文件开头。\n",
    "- 引入模块时，总是应该使用绝对名称，而不应该根据当前模块路径来使用相对名称。例如，要引入bar包中的foo模块，应该完整地写出from bar import foo，即便当前路径为bar包里，也不应该简写为import foo。\n",
    "- 如果一定要用相对名称来编写import语句，那就应该明确地写成：from . import foo。- 文件中的import语句应该按顺序划分成三个部分：首先引入标准库里的模块，然后引入第三方模块，最后引入自己的模块。\n",
    "- 属于同一个部分的import语句按字母顺序排列。"
   ]
  },
  {
   "cell_type": "markdown",
   "metadata": {},
   "source": [
    "## Item 3. 了解bytes与str的区别"
   ]
  },
  {
   "cell_type": "code",
   "execution_count": 3,
   "metadata": {},
   "outputs": [
    {
     "name": "stdout",
     "output_type": "stream",
     "text": [
      "[104, 101, 108, 108, 111]\n",
      "b'hello'\n"
     ]
    }
   ],
   "source": [
    "# bytes 包含的是原始数据\n",
    "\n",
    "a = b'h\\x65llo'\n",
    "\n",
    "print(list(a))\n",
    "print(a)"
   ]
  },
  {
   "cell_type": "code",
   "execution_count": 4,
   "metadata": {},
   "outputs": [
    {
     "name": "stdout",
     "output_type": "stream",
     "text": [
      "['a', '̀', ' ', 'p', 'r', 'o', 'p', 'o', 's']\n",
      "à propos\n"
     ]
    }
   ],
   "source": [
    "# str包含的是Unicode码点\n",
    "\n",
    "a = 'a\\u0300 propos'\n",
    "\n",
    "print(list(a))\n",
    "print(a)"
   ]
  },
  {
   "cell_type": "markdown",
   "metadata": {},
   "source": [
    "我们通常需要编写两个辅助函数（helper function），以便在这两种情况之间转换，确保输入值类型符合开发者的预期形式。"
   ]
  },
  {
   "cell_type": "code",
   "execution_count": 6,
   "metadata": {},
   "outputs": [
    {
     "name": "stdout",
     "output_type": "stream",
     "text": [
      "'foo'\n",
      "'foo'\n"
     ]
    }
   ],
   "source": [
    "# 第一个辅助函数接受bytes或str实例，并返回str\n",
    "\n",
    "def to_str(bytes_or_str):\n",
    "    if isinstance(bytes_or_str, bytes):\n",
    "        value = bytes_or_str.decode('utf-8')\n",
    "    else:\n",
    "        value = bytes_or_str\n",
    "    return value # Instance of str\n",
    "\n",
    "print(repr(to_str(b'foo')))\n",
    "print(repr(to_str('foo')))"
   ]
  },
  {
   "cell_type": "code",
   "execution_count": 8,
   "metadata": {},
   "outputs": [
    {
     "name": "stdout",
     "output_type": "stream",
     "text": [
      "b'foo'\n",
      "b'foo'\n"
     ]
    }
   ],
   "source": [
    "# 第二个辅助函数也接受bytes或str实例，但它返回的是bytes\n",
    "\n",
    "def to_bytes(bytes_or_str):\n",
    "    if isinstance(bytes_or_str, str):\n",
    "        value = bytes_or_str.encode('utf-8')\n",
    "    else:\n",
    "        value = bytes_or_str\n",
    "    return value # Instance of bytes\n",
    "\n",
    "print(repr(to_bytes(b'foo')))\n",
    "print(repr(to_bytes('foo')))"
   ]
  },
  {
   "cell_type": "markdown",
   "metadata": {},
   "source": [
    "在Python中使用原始的8位值与Unicode字符串时，有两个问题要注意。"
   ]
  },
  {
   "cell_type": "code",
   "execution_count": 14,
   "metadata": {},
   "outputs": [
    {
     "name": "stdout",
     "output_type": "stream",
     "text": [
      "b'onetwo'\n",
      "onetwo\n",
      "type error 1\n",
      "type error 2\n"
     ]
    }
   ],
   "source": [
    "# 1. bytes与str这两种类型似乎是以相同的方式工作的，但其实例并不相互兼容，\n",
    "#    所以在传递字符序列的时候必须考虑好其类型。\n",
    "\n",
    "# 可以用+链接\n",
    "print(b'one' + b'two')\n",
    "print('one' + 'two')\n",
    "\n",
    "# 但是不能互相连接\n",
    "\n",
    "try:\n",
    "    print(b'one' + 'two')\n",
    "except TypeError:\n",
    "    print('type error 1')\n",
    "try:\n",
    "    print('one' + b'two')\n",
    "except TypeError:\n",
    "    print('type error 2')"
   ]
  },
  {
   "cell_type": "code",
   "execution_count": 15,
   "metadata": {},
   "outputs": [
    {
     "name": "stdout",
     "output_type": "stream",
     "text": [
      "False\n",
      "False\n",
      "False\n",
      "False\n"
     ]
    }
   ],
   "source": [
    "# 2. 比较运算符\n",
    "\n",
    "# 可以用+链接\n",
    "print(b'one' == b'two')\n",
    "print('one' == 'two')\n",
    "\n",
    "# 但是不能互相连接\n",
    "\n",
    "try:\n",
    "    print(b'one' == 'two')\n",
    "except TypeError:\n",
    "    print('type error 1')\n",
    "try:\n",
    "    print('one' == b'two')\n",
    "except TypeError:\n",
    "    print('type error 2')"
   ]
  },
  {
   "cell_type": "code",
   "execution_count": null,
   "metadata": {},
   "outputs": [],
   "source": []
  },
  {
   "cell_type": "code",
   "execution_count": null,
   "metadata": {},
   "outputs": [],
   "source": []
  },
  {
   "cell_type": "code",
   "execution_count": null,
   "metadata": {},
   "outputs": [],
   "source": []
  },
  {
   "cell_type": "code",
   "execution_count": null,
   "metadata": {},
   "outputs": [],
   "source": []
  }
 ],
 "metadata": {
  "kernelspec": {
   "display_name": "d2l",
   "language": "python",
   "name": "python3"
  },
  "language_info": {
   "codemirror_mode": {
    "name": "ipython",
    "version": 3
   },
   "file_extension": ".py",
   "mimetype": "text/x-python",
   "name": "python",
   "nbconvert_exporter": "python",
   "pygments_lexer": "ipython3",
   "version": "3.9.19"
  }
 },
 "nbformat": 4,
 "nbformat_minor": 2
}
