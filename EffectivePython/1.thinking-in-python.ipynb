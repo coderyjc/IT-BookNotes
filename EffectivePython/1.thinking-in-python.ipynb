{
 "cells": [
  {
   "cell_type": "markdown",
   "metadata": {},
   "source": [
    "### 1. 查询自己使用的Python版本"
   ]
  },
  {
   "cell_type": "code",
   "execution_count": 1,
   "metadata": {},
   "outputs": [
    {
     "name": "stdout",
     "output_type": "stream",
     "text": [
      "Python 3.9.19\n"
     ]
    }
   ],
   "source": [
    "# 通过输入指令查看Python版本\n",
    "\n",
    "!python --version"
   ]
  },
  {
   "cell_type": "code",
   "execution_count": 2,
   "metadata": {},
   "outputs": [
    {
     "name": "stdout",
     "output_type": "stream",
     "text": [
      "sys.version_info(major=3, minor=9, micro=19, releaselevel='final', serial=0)\n",
      "3.9.19 (main, Mar 21 2024, 17:21:27) [MSC v.1916 64 bit (AMD64)]\n"
     ]
    }
   ],
   "source": [
    "# 通过使用内置sys模块查询相关的值确定当前使用的Python版本\n",
    "\n",
    "import sys\n",
    "\n",
    "print(sys.version_info)\n",
    "print(sys.version)"
   ]
  },
  {
   "cell_type": "markdown",
   "metadata": {},
   "source": "### 2. PEP 8风格指南"
  },
  {
   "cell_type": "markdown",
   "metadata": {},
   "source": [
    "**与空白有关的建议**\n",
    "\n",
    "- 用空格（space）表示缩进，而不要用制表符（tab）。\n",
    "- 和语法相关的每一层缩进都用4个空格表示。\n",
    "- 每行不超过79个字符。\n",
    "- 对于占据多行的长表达式来说，除了首行之外的其余各行都应该在通常的缩进级别之上再加4个空格。\n",
    "- 在同一份文件中，函数与类之间用两个空行隔开。\n",
    "- 在同一个类中，方法与方法之间用一个空行隔开。\n",
    "- 使用字典时，键与冒号之间不加空格，写在同一行的冒号和值之间应该加一个空格。\n",
    "- 给变量赋值时，赋值符号的左边和右边各加一个空格，并且只加一个空格就好。\n",
    "- 给变量的类型做注解（annotation）时，不要把变量名和冒号隔开，但在类型信息前应该有一个空格。"
   ]
  },
  {
   "cell_type": "markdown",
   "metadata": {},
   "source": [
    "**与命名有关的建议**\n",
    "\n",
    "- 函数、变量及属性用小写字母来拼写，各单词之间用下划线相连，例如：lowercase_underscore。\n",
    "- 受保护的实例属性，用一个下划线开头，例如：_leading_underscore。\n",
    "- 私有的实例属性，用两个下划线开头，例如：__double_leading_underscore。\n",
    "- 类（包括异常）命名时，每个单词的首字母均大写，例如：CapitalizedWord。\n",
    "- 模块级别的常量，所有字母都大写，各单词之间用下划线相连，例如：ALL_CAPS。\n",
    "- 类中的实例方法，应该把第一个参数命名为self，用来表示该对象本身。\n",
    "- 类方法的第一个参数，应该命名为cls，用来表示这个类本身。"
   ]
  },
  {
   "cell_type": "markdown",
   "metadata": {},
   "source": [
    "**与表达式和语句有关的建议**\n",
    "\n",
    "- 采用行内否定，即把否定词直接写在要否定的内容前面，而不要放在整个表达式的前面，例如应该写if a is not b，而不是if not a is b。\n",
    "- 不要通过长度判断容器或序列是不是空的，例如不要通过if len(somelist) == 0判断somelist是否为[]或''等空值，而是应该采用if not somelist这样的写法来判断，因为Python会把空值自动评估为False。\n",
    "- 如果要判断容器或序列里面有没有内容（比如要判断somelist是否为[1]或'hi'这样非空的值），也不应该通过长度来判断，而是应该采用if somelist语句，因为Python会把非空的值自动判定为True。\n",
    "- 不要把if语句、for循环、while循环及except复合语句挤在一行。\n",
    "- 应该把这些语句分成多行来写，这样更加清晰。如果表达式一行写不下，可以用括号将其括起来，而且要适当地添加换行与缩进以便于阅读。\n",
    "- 多行的表达式，应该用括号括起来，而不要用\\符号续行。"
   ]
  },
  {
   "cell_type": "markdown",
   "metadata": {},
   "source": [
    "**与引入有关的建议**\n",
    "\n",
    "- import语句（含from x import y）总是应该放在文件开头。\n",
    "- 引入模块时，总是应该使用绝对名称，而不应该根据当前模块路径来使用相对名称。例如，要引入bar包中的foo模块，应该完整地写出from bar import foo，即便当前路径为bar包里，也不应该简写为import foo。\n",
    "- 如果一定要用相对名称来编写import语句，那就应该明确地写成：from . import foo。- 文件中的import语句应该按顺序划分成三个部分：首先引入标准库里的模块，然后引入第三方模块，最后引入自己的模块。\n",
    "- 属于同一个部分的import语句按字母顺序排列。"
   ]
  },
  {
   "cell_type": "markdown",
   "metadata": {},
   "source": "### 3. 了解bytes与str的区别（用的时候注意）"
  },
  {
   "cell_type": "code",
   "execution_count": 3,
   "metadata": {},
   "outputs": [
    {
     "name": "stdout",
     "output_type": "stream",
     "text": [
      "[104, 101, 108, 108, 111]\n",
      "b'hello'\n"
     ]
    }
   ],
   "source": [
    "# bytes 包含的是原始数据\n",
    "\n",
    "a = b'h\\x65llo'\n",
    "\n",
    "print(list(a))\n",
    "print(a)"
   ]
  },
  {
   "cell_type": "code",
   "execution_count": 4,
   "metadata": {},
   "outputs": [
    {
     "name": "stdout",
     "output_type": "stream",
     "text": [
      "['a', '̀', ' ', 'p', 'r', 'o', 'p', 'o', 's']\n",
      "à propos\n"
     ]
    }
   ],
   "source": [
    "# str包含的是Unicode码点\n",
    "\n",
    "a = 'a\\u0300 propos'\n",
    "\n",
    "print(list(a))\n",
    "print(a)"
   ]
  },
  {
   "cell_type": "markdown",
   "metadata": {},
   "source": [
    "我们通常需要编写两个辅助函数（helper function），以便在这两种情况之间转换，确保输入值类型符合开发者的预期形式。"
   ]
  },
  {
   "cell_type": "code",
   "execution_count": 6,
   "metadata": {},
   "outputs": [
    {
     "name": "stdout",
     "output_type": "stream",
     "text": [
      "'foo'\n",
      "'foo'\n"
     ]
    }
   ],
   "source": [
    "# 第一个辅助函数接受bytes或str实例，并返回str\n",
    "\n",
    "def to_str(bytes_or_str):\n",
    "    if isinstance(bytes_or_str, bytes):\n",
    "        value = bytes_or_str.decode('utf-8')\n",
    "    else:\n",
    "        value = bytes_or_str\n",
    "    return value # Instance of str\n",
    "\n",
    "print(repr(to_str(b'foo')))\n",
    "print(repr(to_str('foo')))"
   ]
  },
  {
   "cell_type": "code",
   "execution_count": 8,
   "metadata": {},
   "outputs": [
    {
     "name": "stdout",
     "output_type": "stream",
     "text": [
      "b'foo'\n",
      "b'foo'\n"
     ]
    }
   ],
   "source": [
    "# 第二个辅助函数也接受bytes或str实例，但它返回的是bytes\n",
    "\n",
    "def to_bytes(bytes_or_str):\n",
    "    if isinstance(bytes_or_str, str):\n",
    "        value = bytes_or_str.encode('utf-8')\n",
    "    else:\n",
    "        value = bytes_or_str\n",
    "    return value # Instance of bytes\n",
    "\n",
    "print(repr(to_bytes(b'foo')))\n",
    "print(repr(to_bytes('foo')))"
   ]
  },
  {
   "cell_type": "markdown",
   "metadata": {},
   "source": [
    "在Python中使用原始的8位值与Unicode字符串时，有两个问题要注意。"
   ]
  },
  {
   "cell_type": "markdown",
   "metadata": {},
   "source": [
    "1. bytes与str这两种类型似乎是以相同的方式工作的，但其实例并不相互兼容，所以在传递字符序列的时候必须考虑好其类型。"
   ]
  },
  {
   "cell_type": "code",
   "execution_count": 14,
   "metadata": {},
   "outputs": [
    {
     "name": "stdout",
     "output_type": "stream",
     "text": [
      "b'onetwo'\n",
      "onetwo\n",
      "type error 1\n",
      "type error 2\n"
     ]
    }
   ],
   "source": [
    "# 1. bytes与str这两种类型似乎是以相同的方式工作的，但其实例并不相互兼容，\n",
    "#    所以在传递字符序列的时候必须考虑好其类型。\n",
    "\n",
    "# 可以用+链接\n",
    "print(b'one' + b'two')\n",
    "print('one' + 'two')\n",
    "\n",
    "# 但是不能互相连接\n",
    "\n",
    "try:\n",
    "    print(b'one' + 'two')\n",
    "except TypeError:\n",
    "    print('type error 1')\n",
    "try:\n",
    "    print('one' + b'two')\n",
    "except TypeError:\n",
    "    print('type error 2')"
   ]
  },
  {
   "cell_type": "code",
   "execution_count": 15,
   "metadata": {},
   "outputs": [
    {
     "name": "stdout",
     "output_type": "stream",
     "text": [
      "False\n",
      "False\n",
      "False\n",
      "False\n"
     ]
    }
   ],
   "source": [
    "# 2. 比较运算符\n",
    "\n",
    "# 可以用+链接\n",
    "print(b'one' == b'two')\n",
    "print('one' == 'two')\n",
    "\n",
    "# 但是不能互相连接\n",
    "\n",
    "try:\n",
    "    print(b'one' == 'two')\n",
    "except TypeError:\n",
    "    print('type error 1')\n",
    "try:\n",
    "    print('one' == b'two')\n",
    "except TypeError:\n",
    "    print('type error 2')"
   ]
  },
  {
   "cell_type": "code",
   "execution_count": 1,
   "metadata": {},
   "outputs": [
    {
     "name": "stdout",
     "output_type": "stream",
     "text": [
      "b'red blue'\n",
      "red blue\n"
     ]
    }
   ],
   "source": [
    "# 两种类型的实例都可以出现在%的右侧，用来替换左侧那个格式字符串里的%s\n",
    "\n",
    "print(b'red %s' % b'blue')\n",
    "print('red %s' % 'blue')"
   ]
  },
  {
   "cell_type": "code",
   "execution_count": 2,
   "metadata": {},
   "outputs": [
    {
     "ename": "TypeError",
     "evalue": "%b requires a bytes-like object, or an object that implements __bytes__, not 'str'",
     "output_type": "error",
     "traceback": [
      "\u001B[1;31m---------------------------------------------------------------------------\u001B[0m",
      "\u001B[1;31mTypeError\u001B[0m                                 Traceback (most recent call last)",
      "Cell \u001B[1;32mIn[2], line 3\u001B[0m\n\u001B[0;32m      1\u001B[0m \u001B[38;5;66;03m# 如果格式字符串是bytes类型，那么不能用str替换%s，因为Python不知道str应该按照什么方案来编码\u001B[39;00m\n\u001B[1;32m----> 3\u001B[0m \u001B[38;5;28mprint\u001B[39m(\u001B[38;5;124;43mb\u001B[39;49m\u001B[38;5;124;43m'\u001B[39;49m\u001B[38;5;124;43mred \u001B[39;49m\u001B[38;5;132;43;01m%s\u001B[39;49;00m\u001B[38;5;124;43m'\u001B[39;49m\u001B[43m \u001B[49m\u001B[38;5;241;43m%\u001B[39;49m\u001B[43m \u001B[49m\u001B[38;5;124;43m'\u001B[39;49m\u001B[38;5;124;43mblue\u001B[39;49m\u001B[38;5;124;43m'\u001B[39;49m)\n",
      "\u001B[1;31mTypeError\u001B[0m: %b requires a bytes-like object, or an object that implements __bytes__, not 'str'"
     ]
    }
   ],
   "source": [
    "# 如果格式字符串是bytes类型，那么不能用str替换%s，因为Python不知道str应该按照什么方案来编码\n",
    "\n",
    "print(b'red %s' % 'blue')"
   ]
  },
  {
   "cell_type": "code",
   "execution_count": 3,
   "metadata": {},
   "outputs": [
    {
     "name": "stdout",
     "output_type": "stream",
     "text": [
      "red b'blue'\n"
     ]
    }
   ],
   "source": [
    "# 但是反过来可以，但是可能不会得到想要的结果。\n",
    "# 因为会直接调用byte类型的repr函数进行表示\n",
    "print('red %s' % b'blue')"
   ]
  },
  {
   "cell_type": "markdown",
   "metadata": {},
   "source": [
    "2. 操作文件句柄的时候"
   ]
  },
  {
   "cell_type": "code",
   "execution_count": 10,
   "metadata": {},
   "outputs": [
    {
     "name": "stdout",
     "output_type": "stream",
     "text": [
      "error\n"
     ]
    }
   ],
   "source": [
    "# open函数返回的句柄。这样的句柄默认需要使用Unicode字符串操作，\n",
    "# 而不能采用原始的bytes。\n",
    "\n",
    "with open('./assets/data.bin', 'w') as f:\n",
    "    try:\n",
    "        f.write(b'\\xf1\\xf1\\xf1\\xf1\\xf1')\n",
    "    except:\n",
    "        print('error')"
   ]
  },
  {
   "cell_type": "code",
   "execution_count": 11,
   "metadata": {},
   "outputs": [
    {
     "name": "stdout",
     "output_type": "stream",
     "text": [
      "success\n"
     ]
    }
   ],
   "source": [
    "# 想要写入二进制文件，必须手动指明wb\n",
    "with open('./assets/data.bin', 'wb') as f:\n",
    "    try:\n",
    "        f.write(b'\\xf1\\xf1\\xf1\\xf1\\xf1')\n",
    "        print('success')\n",
    "    except:\n",
    "        print('error')"
   ]
  },
  {
   "cell_type": "code",
   "execution_count": 12,
   "metadata": {},
   "outputs": [
    {
     "name": "stdout",
     "output_type": "stream",
     "text": [
      "ñññññ\n"
     ]
    }
   ],
   "source": [
    "# 另一种方式是通过encoding参数指定编码的标准\n",
    "with open('./assets/data.bin', 'r', encoding='cp1252') as f:\n",
    "    data = f.read()\n",
    "\n",
    "print(data)"
   ]
  },
  {
   "cell_type": "markdown",
   "metadata": {},
   "source": [
    "读文件的时候同理"
   ]
  },
  {
   "cell_type": "markdown",
   "metadata": {},
   "source": "### 4. 强烈建议使用f-string"
  },
  {
   "cell_type": "code",
   "execution_count": 19,
   "metadata": {},
   "outputs": [],
   "source": [
    "# 不好的方法：C语言风格的字符串【代码略】\n",
    "\n",
    "# --- 缺点1：值的顺序的变化引起的转换类型不兼容的问题。\n",
    "\n",
    "# --- 缺点2：填充模板之前如果进行处理，那么表达式就会变得很长，不易读\n",
    "\n",
    "# --- 缺点3：如果想用同一个值来填充格式字符串里的多个位置，那么必须在%操作符右侧的元组中相应地多次重复该值。\n",
    "\n",
    "# --- 缺点4：把dict写到格式化表达式里面会让代码变多。"
   ]
  },
  {
   "cell_type": "code",
   "execution_count": 22,
   "metadata": {},
   "outputs": [
    {
     "name": "stdout",
     "output_type": "stream",
     "text": [
      "name = zhangsan\n",
      "name       = zh\n",
      "zhangsan = name\n"
     ]
    }
   ],
   "source": [
    "# 不好的方法：str.format()\n",
    "\n",
    "k = 'name'\n",
    "v = 'zhangsan'\n",
    "# format\n",
    "print('{} = {}'.format(k, v))\n",
    "# format的对齐方式\n",
    "print('{:<10} = {:.2s}'.format(k, v))\n",
    "# format的下标\n",
    "print('{1} = {0}'.format(k, v))"
   ]
  },
  {
   "cell_type": "code",
   "execution_count": 24,
   "metadata": {},
   "outputs": [
    {
     "name": "stdout",
     "output_type": "stream",
     "text": [
      "my_var = 1.234\n"
     ]
    }
   ],
   "source": [
    "# 好的方法：插值字符串 f-string\n",
    "# 可以在字符串中嵌入任意的Python表达式\n",
    "\n",
    "key = 'my_var'\n",
    "value = 1.234\n",
    "\n",
    "formatted = f'{key} = {value}'\n",
    "\n",
    "print(formatted)"
   ]
  },
  {
   "cell_type": "code",
   "execution_count": 25,
   "metadata": {},
   "outputs": [
    {
     "name": "stdout",
     "output_type": "stream",
     "text": [
      "'my_var'   = 1.23\n"
     ]
    }
   ],
   "source": [
    "formatted = f'{key!r:<10} = {value:.2f}'\n",
    "print(formatted)"
   ]
  },
  {
   "cell_type": "code",
   "execution_count": 27,
   "metadata": {},
   "outputs": [
    {
     "name": "stdout",
     "output_type": "stream",
     "text": [
      "#1 zhangsan  12\n",
      "#2 lisi      23\n",
      "#3 wangwu    32\n"
     ]
    }
   ],
   "source": [
    "# 方便+灵活\n",
    "stu = [('zhangsan', 12), ('lisi', 23), ('wangwu', 32)]\n",
    "\n",
    "for i, (name, age) in enumerate(stu):\n",
    "    print(f'#{i+1} '\n",
    "          f'{name:<10s}'\n",
    "          f'{age}')"
   ]
  },
  {
   "cell_type": "code",
   "execution_count": 28,
   "metadata": {},
   "outputs": [
    {
     "name": "stdout",
     "output_type": "stream",
     "text": [
      "My number is 1.235\n"
     ]
    }
   ],
   "source": [
    "# Python表达式也出现在格式说明符中。\n",
    "places = 3\n",
    "number = 1.23456\n",
    "\n",
    "print(f'My number is {number:.{places}f}')"
   ]
  },
  {
   "cell_type": "markdown",
   "metadata": {},
   "source": "### 5. 把复杂表达式封装成函数"
  },
  {
   "cell_type": "code",
   "metadata": {
    "ExecuteTime": {
     "end_time": "2024-07-31T13:59:13.974946Z",
     "start_time": "2024-07-31T13:59:13.960899Z"
    }
   },
   "source": [
    "# 要把URL之中的查询字符串拆分成键值对，那么只需要使用parse_qs函数就可以了。\n",
    "\n",
    "from urllib.parse import parse_qs\n",
    "\n",
    "my_values = parse_qs('red=5&blue=0&green=', keep_blank_values=True)\n",
    "my_values"
   ],
   "outputs": [
    {
     "data": {
      "text/plain": [
       "{'red': ['5'], 'blue': ['0'], 'green': ['']}"
      ]
     },
     "execution_count": 2,
     "metadata": {},
     "output_type": "execute_result"
    }
   ],
   "execution_count": 2
  },
  {
   "cell_type": "code",
   "metadata": {
    "ExecuteTime": {
     "end_time": "2024-07-31T14:00:36.873243Z",
     "start_time": "2024-07-31T14:00:36.859825Z"
    }
   },
   "source": [
    "print(f'Red values: {my_values.get(\"red\")}')\n",
    "print(f'Blue values: {my_values.get(\"blue\")}')\n",
    "print(f'Green values: {my_values.get(\"green\")}')\n",
    "\n",
    "# 我们希望自动处理缺失值为0，上述这种情况应该如何改进？"
   ],
   "outputs": [
    {
     "name": "stdout",
     "output_type": "stream",
     "text": [
      "Red values: ['5']\n",
      "Blue values: ['0']\n",
      "Green values: ['']\n"
     ]
    }
   ],
   "execution_count": 6
  },
  {
   "cell_type": "code",
   "metadata": {
    "ExecuteTime": {
     "end_time": "2024-07-31T14:01:56.785346Z",
     "start_time": "2024-07-31T14:01:56.778740Z"
    }
   },
   "source": [
    "# ----处理方法1：如果是空值，就改为数字0\n",
    "\n",
    "print(f'Red values: {my_values.get(\"red\")[0] or 0}')\n",
    "print(f'Blue values: {my_values.get(\"blue\")[0] or 0}')\n",
    "print(f'Green values: {my_values.get(\"green\")[0] or 0}')"
   ],
   "outputs": [
    {
     "name": "stdout",
     "output_type": "stream",
     "text": [
      "Red values: 5\n",
      "Blue values: 0\n",
      "Green values: 0\n"
     ]
    }
   ],
   "execution_count": 7
  },
  {
   "cell_type": "code",
   "metadata": {
    "ExecuteTime": {
     "end_time": "2024-07-31T14:03:14.481851Z",
     "start_time": "2024-07-31T14:03:14.465113Z"
    }
   },
   "source": [
    "# 这样虽然解决了问题，但是我们最终想要的是int类型，而不是str\n",
    "\n",
    "print(type(my_values.get('red')[0]))\n",
    "print(type(my_values.get('blue')[0]))\n",
    "print(type(my_values.get('green')[0]))"
   ],
   "outputs": [
    {
     "name": "stdout",
     "output_type": "stream",
     "text": [
      "<class 'str'>\n",
      "<class 'str'>\n",
      "<class 'str'>\n"
     ]
    }
   ],
   "execution_count": 11
  },
  {
   "cell_type": "code",
   "metadata": {
    "ExecuteTime": {
     "end_time": "2024-07-31T14:05:30.023867Z",
     "start_time": "2024-07-31T14:05:30.018152Z"
    }
   },
   "source": [
    "# 这样写很复杂，并且每次获取值都要重写代码，最好的方法是封装成函数\n",
    "\n",
    "print(int(my_values.get('red')[0] or 0))\n",
    "print(int(my_values.get('blue')[0] or 0))\n",
    "print(int(my_values.get('green')[0] or 0))"
   ],
   "outputs": [
    {
     "name": "stdout",
     "output_type": "stream",
     "text": [
      "5\n",
      "0\n",
      "0\n"
     ]
    }
   ],
   "execution_count": 15
  },
  {
   "cell_type": "code",
   "metadata": {
    "ExecuteTime": {
     "end_time": "2024-07-31T14:08:30.275322Z",
     "start_time": "2024-07-31T14:08:30.265603Z"
    }
   },
   "source": [
    "# 获取第一个值的函数\n",
    "def get_first_int(values, key, default=0):\n",
    "    found = values.get(key)\n",
    "    if found[0]:\n",
    "        return int(found[0])\n",
    "    return default\n",
    "\n",
    "print(get_first_int(my_values, 'red'))\n",
    "print(get_first_int(my_values, 'green'))\n",
    "print(get_first_int(my_values, 'blue'))"
   ],
   "outputs": [
    {
     "name": "stdout",
     "output_type": "stream",
     "text": [
      "5\n",
      "0\n",
      "0\n"
     ]
    }
   ],
   "execution_count": 18
  },
  {
   "metadata": {},
   "cell_type": "markdown",
   "source": "## 6. unpacking机制"
  },
  {
   "metadata": {},
   "cell_type": "markdown",
   "source": [
    "通过unpacking来赋值要比通过下标去访问元组内的元素更清晰，而且这种写法所需的代码量通常比较少。\n",
    "\n",
    "事实上，不止tuple支持unpacking机制，很多可迭代对象类型也支持：\n",
    "- 列表类型 `a, b, c = [1, 2, 3]`\n",
    "- 字符串类型 `a, b, c = \"abc\"`\n",
    "- 字典的items()方法 `for key, value in my_dict.items(): ...`\n",
    "- 集合 `a, b, c = {1, 2, 3}`\n",
    "- 嵌套的可迭代对象 `a, (b, c), d = [1, (2, 3), 4]`\n",
    "- 使用 * 操作符进行扩展 `a, *b, c = [1, 2, 3, 4, 5]` (b = [2, 3, 4])"
   ]
  },
  {
   "metadata": {
    "ExecuteTime": {
     "end_time": "2024-07-31T14:25:39.073092Z",
     "start_time": "2024-07-31T14:25:39.057515Z"
    }
   },
   "cell_type": "code",
   "source": [
    "book_list = [('C', 23), ('C++', 32), ('java', 43)]\n",
    "\n",
    "for id, (name, price) in enumerate(book_list):\n",
    "    print(f'id = {id} name = {name} price = {price}')"
   ],
   "outputs": [
    {
     "name": "stdout",
     "output_type": "stream",
     "text": [
      "id = 0 name = C price = 23\n",
      "id = 1 name = C++ price = 32\n",
      "id = 2 name = java price = 43\n"
     ]
    }
   ],
   "execution_count": 26
  },
  {
   "metadata": {},
   "cell_type": "markdown",
   "source": "## 7. 用enumerate取代range"
  },
  {
   "metadata": {
    "ExecuteTime": {
     "end_time": "2024-07-31T14:28:47.329426Z",
     "start_time": "2024-07-31T14:28:47.317892Z"
    }
   },
   "cell_type": "code",
   "source": [
    "# 上一个例子已经写了，这里补充一下，可以通过第二个参数指定起始序号\n",
    "\n",
    "book_list = [('C', 23), ('C++', 32), ('java', 43)]\n",
    "\n",
    "for id, (name, price) in enumerate(book_list, 200):\n",
    "    print(f'id = {id} name = {name} price = {price}')"
   ],
   "outputs": [
    {
     "name": "stdout",
     "output_type": "stream",
     "text": [
      "id = 200 name = C price = 23\n",
      "id = 201 name = C++ price = 32\n",
      "id = 202 name = java price = 43\n"
     ]
    }
   ],
   "execution_count": 28
  },
  {
   "metadata": {},
   "cell_type": "markdown",
   "source": "## 8. zip函数用来同时遍历两个迭代器"
  },
  {
   "metadata": {
    "ExecuteTime": {
     "end_time": "2024-07-31T14:34:56.468745Z",
     "start_time": "2024-07-31T14:34:56.456520Z"
    }
   },
   "cell_type": "code",
   "source": [
    "name = ['zhangsan', 'lisi', 'wangwu']\n",
    "age = [23, 34, 45]\n",
    "\n",
    "for id, (n, a) in enumerate(zip(name, age)):\n",
    "    print(f'id = {id} name = {n} age = {a}')"
   ],
   "outputs": [
    {
     "name": "stdout",
     "output_type": "stream",
     "text": [
      "id = 0 name = zhangsan age = 23\n",
      "id = 1 name = lisi age = 34\n",
      "id = 2 name = wangwu age = 45\n"
     ]
    }
   ],
   "execution_count": 31
  },
  {
   "metadata": {},
   "cell_type": "markdown",
   "source": [
    "zip每次只从它封装的那些迭代器里面各自取出一个元素，所以即便源列表很长，程序也不会因为占用内存过多而崩溃。\n",
    "\n",
    "如果列表长度不一样，会按照最短的那个来，如果要按照最长的来，需要使用`zip_longest`，缺少的会置为null"
   ]
  },
  {
   "metadata": {
    "ExecuteTime": {
     "end_time": "2024-07-31T14:38:57.023691Z",
     "start_time": "2024-07-31T14:38:57.018172Z"
    }
   },
   "cell_type": "code",
   "source": [
    "from itertools import zip_longest\n",
    "\n",
    "name = ['zhangsan', 'lisi', 'wangwu', 'liliu']\n",
    "age = [23, 34, 45]\n",
    "\n",
    "for id, (n, a) in enumerate(zip_longest(name, age)):\n",
    "    print(f'id = {id} name = {n} age = {a}')"
   ],
   "outputs": [
    {
     "name": "stdout",
     "output_type": "stream",
     "text": [
      "id = 0 name = zhangsan age = 23\n",
      "id = 1 name = lisi age = 34\n",
      "id = 2 name = wangwu age = 45\n",
      "id = 3 name = liliu age = None\n"
     ]
    }
   ],
   "execution_count": 33
  },
  {
   "metadata": {},
   "cell_type": "markdown",
   "source": [
    "## 9. 避免在循环后面写else块\n",
    "\n",
    "把else块紧跟在整个循环后面，会让人不太容易看出这段代码的意思，所以要避免这样写。"
   ]
  },
  {
   "metadata": {},
   "cell_type": "markdown",
   "source": [
    "## 10.用赋值表达式减少重复代码\n",
    "\n",
    "赋值表达式通过海象操作符（:=）给变量赋值，并且让这个值成为这条表达式的结果，于是，我们可以利用这项特性来缩减代码。如果赋值表达式是大表达式里的一部分，就得用一对括号把它括起来。"
   ]
  },
  {
   "metadata": {},
   "cell_type": "code",
   "outputs": [],
   "execution_count": null,
   "source": [
    "def pick_fruit():\n",
    "    ...\n",
    "def make_juice():\n",
    "    ...\n",
    "\n",
    "\n",
    "bottles = []\n",
    "while True:\n",
    "    # 以下三行代码可以用海象操作符简化\n",
    "    fresh_fruit = pick_fruit()\n",
    "    if not fresh_fruit:\n",
    "        break\n",
    "    for fruit in fresh_fruit:\n",
    "        ...\n",
    "\n",
    "# 如下所示\n",
    "while fresh_fruit := pick_fruit():\n",
    "    for fruit in fresh_fruit:\n",
    "        ..."
   ]
  },
  {
   "metadata": {},
   "cell_type": "code",
   "outputs": [],
   "execution_count": null,
   "source": ""
  }
 ],
 "metadata": {
  "kernelspec": {
   "display_name": "d2l",
   "language": "python",
   "name": "python3"
  },
  "language_info": {
   "codemirror_mode": {
    "name": "ipython",
    "version": 3
   },
   "file_extension": ".py",
   "mimetype": "text/x-python",
   "name": "python",
   "nbconvert_exporter": "python",
   "pygments_lexer": "ipython3",
   "version": "3.9.19"
  }
 },
 "nbformat": 4,
 "nbformat_minor": 2
}
