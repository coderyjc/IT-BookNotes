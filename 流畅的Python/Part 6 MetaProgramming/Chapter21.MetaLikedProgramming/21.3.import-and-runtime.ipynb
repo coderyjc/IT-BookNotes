{
 "cells": [
  {
   "cell_type": "code",
   "execution_count": null,
   "metadata": {},
   "outputs": [],
   "source": [
    "from evalsupport import deco_alpha\n",
    "\n",
    "print('<[1]> evaltime module start')\n",
    "class ClassOne():\n",
    "    print('<[2]> ClassOne body')\n",
    "    def __init__(self):\n",
    "        print('<[3]> ClassOne.__init__')\n",
    "    def __del__(self):\n",
    "        print('<[4]> ClassOne.__del__')\n",
    "    def method_x(self):\n",
    "        print('<[5]> ClassOne.method_x')\n",
    "    class ClassTwo(object):\n",
    "        print('<[6]> ClassTwo body')\n",
    "@deco_alpha\n",
    "class ClassThree():\n",
    "    print('<[7]> ClassThree body')\n",
    "    def method_y(self):\n",
    "        print('<[8]> ClassThree.method_y')\n",
    "class ClassFour(ClassThree):\n",
    "    print('<[9]> ClassFour body')\n",
    "    def method_y(self):\n",
    "        print('<[10]> ClassFour.method_y')\n",
    "if __name__ == '__main__':\n",
    "    print('<[11]> ClassOne tests', 30 * '.')\n",
    "    one = ClassOne()\n",
    "    one.method_x()\n",
    "    print('<[12]> ClassThree tests', 30 * '.')\n",
    "    three = ClassThree()\n",
    "    three.method_y()\n",
    "    print('<[13]> ClassFour tests', 30 * '.')\n",
    "    four = ClassFour()\n",
    "    four.method_y()\n",
    "print('<[14]> evaltime module end')"
   ]
  },
  {
   "cell_type": "code",
   "execution_count": null,
   "metadata": {},
   "outputs": [],
   "source": [
    "print('<[100]> evalsupport module start')\n",
    "def deco_alpha(cls):\n",
    "    print('<[200]> deco_alpha')\n",
    "    def inner_1(self):\n",
    "        print('<[300]> deco_alpha:inner_1')\n",
    "    cls.method_y = inner_1\n",
    "    return cls\n",
    "class MetaAleph(type):\n",
    "    print('<[400]> MetaAleph body')\n",
    "    def __init__(cls, name, bases, dic):\n",
    "        print('<[500]> MetaAleph.__init__')\n",
    "        def inner_2(self):\n",
    "            print('<[600]> MetaAleph.__init__:inner_2')\n",
    "        cls.method_z = inner_2\n",
    "print('<[700]> evalsupport module end')"
   ]
  }
 ],
 "metadata": {
  "language_info": {
   "name": "python"
  }
 },
 "nbformat": 4,
 "nbformat_minor": 2
}
