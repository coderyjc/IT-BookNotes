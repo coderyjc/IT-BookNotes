{
 "cells": [
  {
   "cell_type": "code",
   "execution_count": 3,
   "metadata": {},
   "outputs": [],
   "source": [
    "# osconfeed.py：下载osconfeed.json\n",
    "\n",
    "from urllib.request import urlopen\n",
    "import warnings\n",
    "import os\n",
    "import json\n",
    "\n",
    "URL = 'http://www.oreilly.com/pub/sc/osconfeed'\n",
    "JSON = 'data/osconfeed.json'\n",
    "\n",
    "def load():\n",
    "    if not os.path.exists(JSON):\n",
    "        msg = 'downloading {} to {}'.format(URL, JSON)\n",
    "        warnings.warn(msg) \n",
    "        with urlopen(URL) as remote, open(JSON, 'wb') as local:\n",
    "            local.write(remote.read())\n",
    "    with open(JSON) as fp:\n",
    "        return json.load(fp) "
   ]
  },
  {
   "cell_type": "code",
   "execution_count": 4,
   "metadata": {},
   "outputs": [
    {
     "name": "stdout",
     "output_type": "stream",
     "text": [
      "  1 conferences\n",
      "  1 events\n",
      "  1 speakers\n",
      "  1 venues\n"
     ]
    }
   ],
   "source": [
    "feed = load()\n",
    "sorted(feed['Schedule'].keys())\n",
    "for key, value in sorted(feed['Schedule'].items()):\n",
    "    print('{:3} {}'.format(len(value), key))"
   ]
  },
  {
   "cell_type": "code",
   "execution_count": 5,
   "metadata": {},
   "outputs": [
    {
     "data": {
      "text/plain": [
       "'Robert Lefkowitz'"
      ]
     },
     "execution_count": 5,
     "metadata": {},
     "output_type": "execute_result"
    }
   ],
   "source": [
    "feed['Schedule']['speakers'][-1]['name']"
   ]
  },
  {
   "cell_type": "code",
   "execution_count": 6,
   "metadata": {},
   "outputs": [
    {
     "data": {
      "text/plain": [
       "157509"
      ]
     },
     "execution_count": 6,
     "metadata": {},
     "output_type": "execute_result"
    }
   ],
   "source": [
    "feed['Schedule']['speakers'][-1]['serial']"
   ]
  },
  {
   "cell_type": "code",
   "execution_count": 7,
   "metadata": {},
   "outputs": [
    {
     "ename": "IndexError",
     "evalue": "list index out of range",
     "output_type": "error",
     "traceback": [
      "\u001b[1;31m---------------------------------------------------------------------------\u001b[0m",
      "\u001b[1;31mIndexError\u001b[0m                                Traceback (most recent call last)",
      "Cell \u001b[1;32mIn[7], line 1\u001b[0m\n\u001b[1;32m----> 1\u001b[0m \u001b[43mfeed\u001b[49m\u001b[43m[\u001b[49m\u001b[38;5;124;43m'\u001b[39;49m\u001b[38;5;124;43mSchedule\u001b[39;49m\u001b[38;5;124;43m'\u001b[39;49m\u001b[43m]\u001b[49m\u001b[43m[\u001b[49m\u001b[38;5;124;43m'\u001b[39;49m\u001b[38;5;124;43mevents\u001b[39;49m\u001b[38;5;124;43m'\u001b[39;49m\u001b[43m]\u001b[49m\u001b[43m[\u001b[49m\u001b[38;5;241;43m40\u001b[39;49m\u001b[43m]\u001b[49m[\u001b[38;5;124m'\u001b[39m\u001b[38;5;124mname\u001b[39m\u001b[38;5;124m'\u001b[39m]\n",
      "\u001b[1;31mIndexError\u001b[0m: list index out of range"
     ]
    }
   ],
   "source": [
    "feed['Schedule']['events'][40]['name']"
   ]
  },
  {
   "cell_type": "markdown",
   "metadata": {},
   "source": [
    "### 19.1.1 使用动态属性访问JSON类数据"
   ]
  },
  {
   "cell_type": "code",
   "execution_count": 9,
   "metadata": {},
   "outputs": [],
   "source": [
    "from collections import abc\n",
    "from typing import Any\n",
    "\n",
    "# 只读接口，使用属性表示法访问Json类对象\n",
    "class FrozenJSON:\n",
    "    def __init__(self, mapping):\n",
    "        # 使用mapping参数构建一个字典。这么做有两个目的：\n",
    "        # (1)确保传入的是字典（或者是能转换成字典的对象）；(2)安全起见，创建一个副本。\n",
    "        self.__data = dict(mapping)\n",
    "    def __getattr__(self, name):\n",
    "        # 仅当没有指定名称（name）的属性时才调用__getattr__方法。\n",
    "        if hasattr(self.__data, name):\n",
    "            # 如果name是实例属性__data的属性，返回那个属性。调用keys等方法就是通过这种方式处理的。\n",
    "            return getattr(self.__data, name)\n",
    "        else:\n",
    "            # 否则，从self.__data中获取name键对应的元素，返回调用FrozenJSON.build()方法得到的结果\n",
    "            return FrozenJSON.build(self.__data[name])\n",
    "    @classmethod\n",
    "    # 这是一个备选构造方法，@classmethod装饰器经常这么用。\n",
    "    def build(cls, obj):\n",
    "        # 如果obj是映射，那就构建一个FrozenJSON对象\n",
    "        if isinstance(obj, abc.Mapping):\n",
    "            return cls(obj)\n",
    "        elif isinstance(obj, abc.MutableSequence):\n",
    "            # 如果是MutableSequence对象，必然是列表，\n",
    "            return [cls.build(item) for item in obj]\n",
    "        else:\n",
    "            # 如果既不是字典也不是列表，那么原封不动地返回元素。\n",
    "            return obj\n",
    "        "
   ]
  },
  {
   "cell_type": "markdown",
   "metadata": {},
   "source": [
    "### 19.1.2 处理无效属性名"
   ]
  },
  {
   "cell_type": "code",
   "execution_count": 11,
   "metadata": {},
   "outputs": [
    {
     "ename": "SyntaxError",
     "evalue": "invalid syntax (941653597.py, line 2)",
     "output_type": "error",
     "traceback": [
      "\u001b[1;36m  Cell \u001b[1;32mIn[11], line 2\u001b[1;36m\u001b[0m\n\u001b[1;33m    grad.class\u001b[0m\n\u001b[1;37m         ^\u001b[0m\n\u001b[1;31mSyntaxError\u001b[0m\u001b[1;31m:\u001b[0m invalid syntax\n"
     ]
    }
   ],
   "source": [
    "grad = FrozenJSON({'name': 'Jan Xo', 'class': 2024})\n",
    "# 此时无法读取grad.class的值，因为在Python中class是保留字\n",
    "grad.class"
   ]
  },
  {
   "cell_type": "code",
   "execution_count": 12,
   "metadata": {},
   "outputs": [
    {
     "data": {
      "text/plain": [
       "2024"
      ]
     },
     "execution_count": 12,
     "metadata": {},
     "output_type": "execute_result"
    }
   ],
   "source": [
    "# 但是可以这样做\n",
    "getattr(grad, 'class')"
   ]
  },
  {
   "cell_type": "code",
   "execution_count": 16,
   "metadata": {},
   "outputs": [
    {
     "ename": "SyntaxError",
     "evalue": "invalid syntax (728741840.py, line 11)",
     "output_type": "error",
     "traceback": [
      "\u001b[1;36m  Cell \u001b[1;32mIn[16], line 11\u001b[1;36m\u001b[0m\n\u001b[1;33m    x.2asd\u001b[0m\n\u001b[1;37m     ^\u001b[0m\n\u001b[1;31mSyntaxError\u001b[0m\u001b[1;31m:\u001b[0m invalid syntax\n"
     ]
    }
   ],
   "source": [
    "# explore1.py：在名称为Python关键字的属性后面加上_\n",
    "\n",
    "def __init__(self, mapping):\n",
    "    self.__data = {}\n",
    "    for key, value in mapping.items():\n",
    "        if keyword.iskeyword(key):\n",
    "            key+= '_'\n",
    "        self.__data[key] = value\n",
    "\n",
    "# 这种情况也不行\n",
    "x = FrozenJSON({'2asd': 'orasd'})\n",
    "x.2asd"
   ]
  },
  {
   "cell_type": "markdown",
   "metadata": {},
   "source": [
    "### 19.1.3 使用__new__方法以灵活的方式创建对象"
   ]
  },
  {
   "cell_type": "code",
   "execution_count": null,
   "metadata": {},
   "outputs": [],
   "source": [
    "from collections import abc\n",
    "class FrozenJSON:\n",
    "    \"\"\"一个只读接口，使用属性表示法访问JSON类对象\n",
    "    \"\"\"\n",
    "    def __new__(cls, arg):\n",
    "        if isinstance(arg, abc.Mapping):\n",
    "            return super().__new__(cls) \n",
    "        elif isinstance(arg, abc.MutableSequence):\n",
    "            return [cls(item) for item in arg]\n",
    "        else:\n",
    "            return arg\n",
    "    def __init__(self, mapping):\n",
    "        self.__data = {}\n",
    "        for key, value in mapping.items():\n",
    "            if iskeyword(key):\n",
    "                key+= '_'\n",
    "            self.__data[key] = value\n",
    "    def __getattr__(self, name):\n",
    "        if hasattr(self.__data, name):\n",
    "            return getattr(self.__data, name)\n",
    "        else:\n",
    "            return FrozenJSON(self.__data[name])"
   ]
  },
  {
   "cell_type": "markdown",
   "metadata": {},
   "source": [
    "### 19.1.4 使用shelve模块调整OSCON数据源的结构"
   ]
  },
  {
   "cell_type": "code",
   "execution_count": null,
   "metadata": {},
   "outputs": [],
   "source": [
    "import warnings\n",
    "\n",
    "DB_NAME = 'data/schedule1_db'\n",
    "CONFERENCE = 'conference.115'\n",
    "class Record:\n",
    "    def __init__(self, **kwargs):\n",
    "        self.__dict__.update(kwargs)\n",
    "def load_db(db):\n",
    "    raw_data = osconfeed.load()\n",
    "    warnings.warn('loading '+DB_NAME)\n",
    "    for collection, rec_list in raw_data['Schedule'].items():\n",
    "        record_type = collection[:-1]\n",
    "        for record in rec_list:\n",
    "            key = '{}.{}'.format(record_type, record['serial'])\n",
    "            record['serial'] = key\n",
    "            db[key] = Record(**record)"
   ]
  },
  {
   "cell_type": "markdown",
   "metadata": {},
   "source": [
    "### 19.1.5 使用特性获取链接的记录"
   ]
  },
  {
   "cell_type": "code",
   "execution_count": null,
   "metadata": {},
   "outputs": [],
   "source": [
    "class MissingDatabaseError(RuntimeError):\n",
    "    \"\"\"需要数据库但没有指定数据库时抛出。\"\"\"\n",
    "class DbRecord(Record):\n",
    "    __db = None\n",
    "    @staticmethod\n",
    "    def set_db(db):\n",
    "        DbRecord.__db = db\n",
    "    @staticmethod\n",
    "    def get_db():\n",
    "        return DbRecord.__db\n",
    "    @classmethod\n",
    "    def fetch(cls, ident):\n",
    "        db = cls.get_db()\n",
    "        try:\n",
    "            return db[ident]\n",
    "        except TypeError:\n",
    "            if db is None:\n",
    "                msg = \"database not set; call '{}.set_db(my_db)'\"\n",
    "                raise MissingDatabaseError(msg.format(cls.__name__))\n",
    "            else:\n",
    "                raise\n",
    "    def __repr__(self):\n",
    "        if hasattr(self, 'serial'):\n",
    "            cls_name = self.__class__.__name__\n",
    "            return '<{} serial={!r}>'.format(cls_name, self.serial)\n",
    "        else:\n",
    "            return super().__repr__()"
   ]
  },
  {
   "cell_type": "code",
   "execution_count": null,
   "metadata": {},
   "outputs": [],
   "source": [
    "class Event(DbRecord):  \n",
    "    @property\n",
    "    def venue(self):\n",
    "        key = 'venue.{}'.format(self.venue_serial)\n",
    "        return self.__class__.fetch(key) \n",
    "    @property\n",
    "    def speakers(self):\n",
    "        if not hasattr(self, '_speaker_objs'): \n",
    "            spkr_serials = self.__dict__['speakers'] \n",
    "            fetch = self.__class__.fetch \n",
    "            self._speaker_objs = [fetch('speaker.{}'.format(key))\n",
    "                                  for key in spkr_serials] \n",
    "        return self._speaker_objs \n",
    "    def __repr__(self):\n",
    "        if hasattr(self, 'name'):\n",
    "            cls_name = self.__class__.__name__\n",
    "            return '<{} {!r}>'.format(cls_name, self.name)\n",
    "        else:\n",
    "            return super().__repr__()"
   ]
  },
  {
   "cell_type": "code",
   "execution_count": null,
   "metadata": {},
   "outputs": [],
   "source": [
    "def load_db(db):\n",
    "    raw_data = osconfeed.load()\n",
    "    warnings.warn('loading '+DB_NAME)\n",
    "    for collection, rec_list in raw_data['Schedule'].items():\n",
    "        record_type = collection[:-1]\n",
    "        cls_name = record_type.capitalize() \n",
    "        cls = globals().get(cls_name, DbRecord) \n",
    "        if inspect.isclass(cls) and issubclass(cls, DbRecord): \n",
    "            factory = cls \n",
    "        else:\n",
    "            factory = DbRecord \n",
    "        for record in rec_list: \n",
    "            key = '{}.{}'.format(record_type, record['serial'])\n",
    "            record['serial'] = key\n",
    "            db[key] = factory(**record) "
   ]
  },
  {
   "cell_type": "code",
   "execution_count": null,
   "metadata": {},
   "outputs": [],
   "source": []
  },
  {
   "cell_type": "code",
   "execution_count": null,
   "metadata": {},
   "outputs": [],
   "source": []
  }
 ],
 "metadata": {
  "kernelspec": {
   "display_name": "d2l",
   "language": "python",
   "name": "python3"
  },
  "language_info": {
   "codemirror_mode": {
    "name": "ipython",
    "version": 3
   },
   "file_extension": ".py",
   "mimetype": "text/x-python",
   "name": "python",
   "nbconvert_exporter": "python",
   "pygments_lexer": "ipython3",
   "version": "3.9.19"
  }
 },
 "nbformat": 4,
 "nbformat_minor": 2
}
