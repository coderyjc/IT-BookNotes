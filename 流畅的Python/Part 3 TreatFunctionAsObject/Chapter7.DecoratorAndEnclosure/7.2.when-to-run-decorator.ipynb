{
 "cells": [
  {
   "cell_type": "code",
   "execution_count": 2,
   "metadata": {},
   "outputs": [],
   "source": [
    "# 此处代码为 scripts/registration.py"
   ]
  },
  {
   "cell_type": "code",
   "execution_count": 3,
   "metadata": {},
   "outputs": [
    {
     "name": "stdout",
     "output_type": "stream",
     "text": [
      "running register(<function f1 at 0x0000014DE2EA3CA0>)\n",
      "running register(<function f2 at 0x0000014DE2EA3D30>)\n",
      "running main()\n",
      "registry-> [<function f1 at 0x0000014DE2EA3CA0>, <function f2 at 0x0000014DE2EA3D30>]\n",
      "running f1()\n",
      "running f2()\n",
      "running f3()\n"
     ]
    }
   ],
   "source": [
    "# 直接运行文件\n",
    "\n",
    "!python scripts/registration.py"
   ]
  },
  {
   "cell_type": "code",
   "execution_count": 4,
   "metadata": {},
   "outputs": [
    {
     "name": "stdout",
     "output_type": "stream",
     "text": [
      "running register(<function f1 at 0x00000242D4D61A60>)\n",
      "running register(<function f2 at 0x00000242D4DAD1F0>)\n"
     ]
    }
   ],
   "source": [
    "# 导入registration的时候输出如下\n",
    "\n",
    "import scripts.registration"
   ]
  },
  {
   "cell_type": "code",
   "execution_count": 5,
   "metadata": {},
   "outputs": [
    {
     "data": {
      "text/plain": [
       "[<function scripts.registration.f1()>, <function scripts.registration.f2()>]"
      ]
     },
     "execution_count": 5,
     "metadata": {},
     "output_type": "execute_result"
    }
   ],
   "source": [
    "# 导入时已经运行了装饰器\n",
    "\n",
    "scripts.registration.registry"
   ]
  },
  {
   "cell_type": "code",
   "execution_count": null,
   "metadata": {},
   "outputs": [],
   "source": []
  }
 ],
 "metadata": {
  "kernelspec": {
   "display_name": "d2l",
   "language": "python",
   "name": "python3"
  },
  "language_info": {
   "codemirror_mode": {
    "name": "ipython",
    "version": 3
   },
   "file_extension": ".py",
   "mimetype": "text/x-python",
   "name": "python",
   "nbconvert_exporter": "python",
   "pygments_lexer": "ipython3",
   "version": "3.9.19"
  }
 },
 "nbformat": 4,
 "nbformat_minor": 2
}
