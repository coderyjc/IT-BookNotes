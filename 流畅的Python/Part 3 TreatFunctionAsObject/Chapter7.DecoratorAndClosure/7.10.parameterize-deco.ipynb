{
 "cells": [
  {
   "cell_type": "markdown",
   "metadata": {},
   "source": [
    "### 7.10.1 一个参数化的注册装饰器"
   ]
  },
  {
   "cell_type": "code",
   "execution_count": 2,
   "metadata": {},
   "outputs": [
    {
     "name": "stdout",
     "output_type": "stream",
     "text": [
      "running register(active=False)->decorate(<function f1 at 0x0000017668B9CEE0>)\n",
      "running register(active=True)->decorate(<function f2 at 0x0000017668BD04C0>)\n"
     ]
    }
   ],
   "source": [
    "# registry现在是一个set对象，这样添加和删除函数的速度更快。\n",
    "registry = set()\n",
    "# 接受一个可选的关键字参数\n",
    "def register(active=True):\n",
    "    # \n",
    "    def decorate(func):\n",
    "        print('running register(active=%s)->decorate(%s)'\n",
    "             %(active, func))\n",
    "        if active:\n",
    "            # 只有active参数的值（从闭包中获取）是True时才注册func。\n",
    "            registry.add(func)\n",
    "        else:\n",
    "            # 如果active不为真，而且func在registry中，那么把它删除。\n",
    "            registry.discard(func)\n",
    "        # decorate是装饰器，必须返回一个函数\n",
    "        return func\n",
    "    # register是装饰器工厂函数，因此返回decorate\n",
    "    return decorate\n",
    "\n",
    "# @register工厂函数必须作为函数调用，并且传入所需的参数。\n",
    "@register(active=False)\n",
    "def f1():\n",
    "    print('running f1（　）')\n",
    "# 即使不传入参数，register也必须作为函数调用（@register（　）），即要返回真正的装饰器decorate。\n",
    "@register()\n",
    "def f2():\n",
    "    print('running f2（　）')\n",
    "def f3():\n",
    "    print('running f3（　）')"
   ]
  },
  {
   "cell_type": "code",
   "execution_count": 3,
   "metadata": {},
   "outputs": [
    {
     "name": "stdout",
     "output_type": "stream",
     "text": [
      "running register(active=False)->decorate(<function f1 at 0x0000017668A599D0>)\n",
      "running register(active=True)->decorate(<function f2 at 0x0000017668BD0940>)\n"
     ]
    }
   ],
   "source": [
    "# 导入上述代码\n",
    "\n",
    "import scripts.registration_param as registration_param"
   ]
  },
  {
   "cell_type": "code",
   "execution_count": 4,
   "metadata": {},
   "outputs": [
    {
     "data": {
      "text/plain": [
       "{<function scripts.registration_param.f2()>}"
      ]
     },
     "execution_count": 4,
     "metadata": {},
     "output_type": "execute_result"
    }
   ],
   "source": [
    "registration_param.registry"
   ]
  },
  {
   "cell_type": "code",
   "execution_count": 6,
   "metadata": {},
   "outputs": [],
   "source": [
    "from scripts.registration_param import *"
   ]
  },
  {
   "cell_type": "code",
   "execution_count": 7,
   "metadata": {},
   "outputs": [
    {
     "data": {
      "text/plain": [
       "{<function scripts.registration_param.f2()>}"
      ]
     },
     "execution_count": 7,
     "metadata": {},
     "output_type": "execute_result"
    }
   ],
   "source": [
    "registry"
   ]
  },
  {
   "cell_type": "code",
   "execution_count": 8,
   "metadata": {},
   "outputs": [
    {
     "name": "stdout",
     "output_type": "stream",
     "text": [
      "running register(active=True)->decorate(<function f3 at 0x0000017668A59430>)\n"
     ]
    },
    {
     "data": {
      "text/plain": [
       "<function scripts.registration_param.f3()>"
      ]
     },
     "execution_count": 8,
     "metadata": {},
     "output_type": "execute_result"
    }
   ],
   "source": [
    "# 将register应用在f3上\n",
    "register()(f3)"
   ]
  },
  {
   "cell_type": "code",
   "execution_count": 9,
   "metadata": {},
   "outputs": [
    {
     "data": {
      "text/plain": [
       "{<function scripts.registration_param.f2()>,\n",
       " <function scripts.registration_param.f3()>}"
      ]
     },
     "execution_count": 9,
     "metadata": {},
     "output_type": "execute_result"
    }
   ],
   "source": [
    "registry"
   ]
  },
  {
   "cell_type": "code",
   "execution_count": 10,
   "metadata": {},
   "outputs": [
    {
     "name": "stdout",
     "output_type": "stream",
     "text": [
      "running register(active=False)->decorate(<function f2 at 0x0000017668BD0940>)\n"
     ]
    },
    {
     "data": {
      "text/plain": [
       "<function scripts.registration_param.f2()>"
      ]
     },
     "execution_count": 10,
     "metadata": {},
     "output_type": "execute_result"
    }
   ],
   "source": [
    "register(active=False)(f2)"
   ]
  },
  {
   "cell_type": "code",
   "execution_count": 11,
   "metadata": {},
   "outputs": [
    {
     "data": {
      "text/plain": [
       "{<function scripts.registration_param.f3()>}"
      ]
     },
     "execution_count": 11,
     "metadata": {},
     "output_type": "execute_result"
    }
   ],
   "source": [
    "registry"
   ]
  },
  {
   "cell_type": "markdown",
   "metadata": {},
   "source": [
    "### 7.10.2 参数化clock装饰器"
   ]
  },
  {
   "cell_type": "code",
   "execution_count": 12,
   "metadata": {},
   "outputs": [
    {
     "name": "stdout",
     "output_type": "stream",
     "text": [
      "[0.13592505s] snooze(0.123)-> None\n",
      "[0.12594175s] snooze(0.123)-> None\n",
      "[0.12556291s] snooze(0.123)-> None\n"
     ]
    }
   ],
   "source": [
    "import time\n",
    "\n",
    "DEFAULT_FMT = '[{elapsed:0.8f}s] {name}({args})-> {result}'\n",
    "# 参数化的装饰器工厂函数\n",
    "def clock(fmt=DEFAULT_FMT):\n",
    "    # 真正的装饰器\n",
    "    def decorate(func):\n",
    "        # 被装饰的函数\n",
    "        def clocked(*_args):\n",
    "            t0 = time.time()\n",
    "            # 真正的函数返回的结果\n",
    "            _result = func(*_args)\n",
    "            elapsed = time.time() - t0\n",
    "            name = func.__name__\n",
    "            args = ', '.join(repr(arg) for arg in _args)\n",
    "            result = repr(_result)\n",
    "            print(fmt.format(**locals()))\n",
    "            return _result\n",
    "        return clocked\n",
    "    return decorate\n",
    "\n",
    "\n",
    "@clock()\n",
    "def snooze(seconds):\n",
    "    time.sleep(seconds)\n",
    "for i in range(3):\n",
    "    snooze(.123)"
   ]
  },
  {
   "cell_type": "code",
   "execution_count": 13,
   "metadata": {},
   "outputs": [
    {
     "name": "stdout",
     "output_type": "stream",
     "text": [
      "snooze: 0.13457107543945312s\n",
      "snooze: 0.12633204460144043s\n",
      "snooze: 0.12441277503967285s\n"
     ]
    }
   ],
   "source": [
    "@clock('{name}: {elapsed}s')\n",
    "def snooze(seconds):\n",
    "    time.sleep(seconds)\n",
    "for i in range(3):\n",
    "    snooze(.123)"
   ]
  },
  {
   "cell_type": "code",
   "execution_count": null,
   "metadata": {},
   "outputs": [],
   "source": []
  }
 ],
 "metadata": {
  "kernelspec": {
   "display_name": "d2l",
   "language": "python",
   "name": "python3"
  },
  "language_info": {
   "codemirror_mode": {
    "name": "ipython",
    "version": 3
   },
   "file_extension": ".py",
   "mimetype": "text/x-python",
   "name": "python",
   "nbconvert_exporter": "python",
   "pygments_lexer": "ipython3",
   "version": "3.9.19"
  }
 },
 "nbformat": 4,
 "nbformat_minor": 2
}
