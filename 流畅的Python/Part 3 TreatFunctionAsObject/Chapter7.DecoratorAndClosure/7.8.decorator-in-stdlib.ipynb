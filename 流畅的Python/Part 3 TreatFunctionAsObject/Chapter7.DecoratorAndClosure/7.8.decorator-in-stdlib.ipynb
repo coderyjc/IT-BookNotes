{
 "cells": [
  {
   "cell_type": "markdown",
   "metadata": {},
   "source": [
    "标准库中最值得关注的两个装饰器是lru_cache和全新的singledispatch\n",
    "\n",
    "lru_cache用来把耗时的函数的结果保存起来，避免传入相同的参数时重复计算。\n",
    "sigledispatsh用来为不同的传参类型实现不同的函数"
   ]
  },
  {
   "cell_type": "markdown",
   "metadata": {},
   "source": [
    "### 7.8.1 使用functools.lru_cache做备忘"
   ]
  },
  {
   "cell_type": "code",
   "execution_count": 1,
   "metadata": {},
   "outputs": [
    {
     "name": "stdout",
     "output_type": "stream",
     "text": [
      "[0.00000000s]fibnonacci(1)->1 \n",
      "[0.00000000s]fibnonacci(0)->0 \n",
      "[0.00000000s]fibnonacci(2)->1 \n",
      "[0.00000000s]fibnonacci(1)->1 \n",
      "[0.00000000s]fibnonacci(3)->2 \n",
      "[0.00000000s]fibnonacci(1)->1 \n",
      "[0.00000000s]fibnonacci(0)->0 \n",
      "[0.00000000s]fibnonacci(2)->1 \n",
      "[0.00000000s]fibnonacci(4)->3 \n",
      "[0.00000000s]fibnonacci(1)->1 \n",
      "[0.00000000s]fibnonacci(0)->0 \n",
      "[0.00000000s]fibnonacci(2)->1 \n",
      "[0.00000000s]fibnonacci(1)->1 \n",
      "[0.00000000s]fibnonacci(3)->2 \n",
      "[0.00000000s]fibnonacci(5)->5 \n",
      "[0.00000000s]fibnonacci(1)->1 \n",
      "[0.00000000s]fibnonacci(0)->0 \n",
      "[0.00000000s]fibnonacci(2)->1 \n",
      "[0.00000000s]fibnonacci(1)->1 \n",
      "[0.00000000s]fibnonacci(3)->2 \n",
      "[0.00000000s]fibnonacci(1)->1 \n",
      "[0.00000000s]fibnonacci(0)->0 \n",
      "[0.00000000s]fibnonacci(2)->1 \n",
      "[0.00000000s]fibnonacci(4)->3 \n",
      "[0.00000000s]fibnonacci(6)->8 \n",
      "8\n"
     ]
    }
   ],
   "source": [
    "# functools.lru_cache是非常实用的装饰器，它实现了备忘（memoization）功能。\n",
    "# 这是一项优化技术，它把耗时的函数的结果保存起来，避免传入相同的参数时重复计算。\n",
    "\n",
    "from scripts.clockdeco import clock\n",
    "\n",
    "# 没有使用优化器的版本\n",
    "@clock\n",
    "def fibnonacci(n):\n",
    "    if n < 2:\n",
    "        return n\n",
    "    return fibnonacci(n - 1) + fibnonacci(n - 2)\n",
    "\n",
    "print(fibnonacci(6))"
   ]
  },
  {
   "cell_type": "code",
   "execution_count": 6,
   "metadata": {},
   "outputs": [
    {
     "name": "stdout",
     "output_type": "stream",
     "text": [
      "[0.00000000s]fibnonacci(1)->1 \n",
      "[0.00000000s]fibnonacci(0)->0 \n",
      "[0.00099802s]fibnonacci(2)->1 \n",
      "[0.00099802s]fibnonacci(3)->2 \n",
      "[0.00099802s]fibnonacci(4)->3 \n",
      "[0.00099802s]fibnonacci(5)->5 \n",
      "[0.00099802s]fibnonacci(6)->8 \n",
      "[0.00099802s]fibnonacci(7)->13 \n",
      "[0.00099802s]fibnonacci(8)->21 \n",
      "[0.00099802s]fibnonacci(9)->34 \n",
      "[0.00099802s]fibnonacci(10)->55 \n",
      "[0.00099802s]fibnonacci(11)->89 \n",
      "[0.00099802s]fibnonacci(12)->144 \n",
      "[0.00099802s]fibnonacci(13)->233 \n",
      "[0.00099802s]fibnonacci(14)->377 \n",
      "[0.00099802s]fibnonacci(15)->610 \n",
      "[0.00099802s]fibnonacci(16)->987 \n",
      "[0.00099802s]fibnonacci(17)->1597 \n",
      "[0.00099802s]fibnonacci(18)->2584 \n",
      "[0.00099802s]fibnonacci(19)->4181 \n",
      "[0.00099802s]fibnonacci(20)->6765 \n",
      "[0.00099802s]fibnonacci(21)->10946 \n",
      "[0.00099802s]fibnonacci(22)->17711 \n",
      "[0.00099802s]fibnonacci(23)->28657 \n",
      "[0.00099802s]fibnonacci(24)->46368 \n",
      "[0.00099802s]fibnonacci(25)->75025 \n",
      "[0.00099802s]fibnonacci(26)->121393 \n",
      "[0.00099802s]fibnonacci(27)->196418 \n",
      "[0.00099802s]fibnonacci(28)->317811 \n",
      "[0.00099802s]fibnonacci(29)->514229 \n",
      "[0.00099802s]fibnonacci(30)->832040 \n",
      "832040\n"
     ]
    }
   ],
   "source": [
    "# 使用缓存实现优化\n",
    "\n",
    "import functools\n",
    "from scripts.clockdeco import clock\n",
    "\n",
    "# 这里的括号说明这个deco可以传入参数\n",
    "# 叠放装饰器说明将clock返回的函数传入lru中 【就近原则】\n",
    "@functools.lru_cache()\n",
    "@clock\n",
    "def fibnonacci(n):\n",
    "    return n if n < 2 else fibnonacci(n-1)+fibnonacci(n-2)\n",
    "\n",
    "print(fibnonacci(30))"
   ]
  },
  {
   "cell_type": "markdown",
   "metadata": {},
   "source": [
    "### 7.8.2 单分派泛函数"
   ]
  },
  {
   "cell_type": "code",
   "execution_count": 7,
   "metadata": {},
   "outputs": [],
   "source": [
    "import html\n",
    "\n",
    "def htmlize(obj):\n",
    "    content = html.escape(repr(obj))\n",
    "    return '<pre>{}<pre>'.format(content)"
   ]
  },
  {
   "cell_type": "code",
   "execution_count": 8,
   "metadata": {},
   "outputs": [
    {
     "name": "stdout",
     "output_type": "stream",
     "text": [
      "<pre>[&#x27;alpha&#x27;, 66, {1, 2, 3}]<pre>\n"
     ]
    }
   ],
   "source": [
    "# 使用单分派泛函数实现\n",
    "\n",
    "from functools import singledispatch\n",
    "from collections import abc\n",
    "import numbers\n",
    "import html\n",
    "\n",
    "# singledispath标记处理obj类型的基函数\n",
    "@singledispatch\n",
    "def htmlize(obj):\n",
    "    content = html.escape(repr(obj))\n",
    "    return '<pre>{}<pre>'.format(content)\n",
    "# 各个专门函数用 @[base_function].register([type])装饰\n",
    "@htmlize.register(str)\n",
    "def _(text):\n",
    "    content = html.escape(text).replace('\\n', '<br>\\n')\n",
    "    return '<p>{0}</p>'.format(content)\n",
    "@htmlize.register(numbers.Integral)\n",
    "def _(n):\n",
    "    return '<pre>{0} (0x{0:x})</pre>'.format(n)\n",
    "# 可以叠放多个装饰器让同一个函数支持不同的类型\n",
    "@htmlize.register(tuple)\n",
    "@htmlize.register(abc.MutableSequence)\n",
    "def _(seq):\n",
    "    inner = '</li>\\n<li>'.join(htmlize(item) for item in seq)\n",
    "    return '<ul>\\n<li>'+inner+'</li>\\n</ul>'"
   ]
  },
  {
   "cell_type": "code",
   "execution_count": null,
   "metadata": {},
   "outputs": [],
   "source": []
  },
  {
   "cell_type": "code",
   "execution_count": null,
   "metadata": {},
   "outputs": [],
   "source": []
  }
 ],
 "metadata": {
  "kernelspec": {
   "display_name": "d2l",
   "language": "python",
   "name": "python3"
  },
  "language_info": {
   "codemirror_mode": {
    "name": "ipython",
    "version": 3
   },
   "file_extension": ".py",
   "mimetype": "text/x-python",
   "name": "python",
   "nbconvert_exporter": "python",
   "pygments_lexer": "ipython3",
   "version": "3.9.19"
  }
 },
 "nbformat": 4,
 "nbformat_minor": 2
}
