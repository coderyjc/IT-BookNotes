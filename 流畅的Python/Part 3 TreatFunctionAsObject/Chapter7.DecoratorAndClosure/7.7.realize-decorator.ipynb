{
 "cells": [
  {
   "cell_type": "markdown",
   "metadata": {},
   "source": [
    "实现一个简单的装饰器"
   ]
  },
  {
   "cell_type": "code",
   "execution_count": 1,
   "metadata": {},
   "outputs": [],
   "source": [
    "import time\n",
    "\n",
    "# 一个简单的装饰器，输出函数的运行时间\n",
    "def clock(func):\n",
    "    # 接收任意个定位参数\n",
    "    def clocked(*args):\n",
    "        # 记录初试时间t0\n",
    "        t0 = time.perf_counter()\n",
    "        # clocked的闭包中包含自由变量func\n",
    "        # 调用func并保存结果\n",
    "        result = func(*args)\n",
    "        # 计算函数运行时间\n",
    "        elapsed = time.perf_counter() - t0\n",
    "        name = func.__name__\n",
    "        # 记录数据并保存\n",
    "        arg_str = ', '.join(repr(arg) for arg in args)\n",
    "        print('[%0.8fs]%s(%s)->%r' % (elapsed, name, arg_str, result))\n",
    "        return result\n",
    "    # 返回内部函数\n",
    "    return clocked\n"
   ]
  },
  {
   "cell_type": "code",
   "execution_count": 5,
   "metadata": {},
   "outputs": [
    {
     "name": "stdout",
     "output_type": "stream",
     "text": [
      "**************************************** calling snooze(.123)\n",
      "进入sleep函数\n",
      "完成sleep函数\n",
      "[0.12404920s]snooze(0.123)->None\n",
      "**************************************** calling factorial(6)\n",
      "[0.00000060s]factorical(1)->1\n",
      "[0.00002150s]factorical(2)->2\n",
      "[0.00003630s]factorical(3)->6\n",
      "[0.00005050s]factorical(4)->24\n",
      "[0.00006450s]factorical(5)->120\n",
      "[0.00007880s]factorical(6)->720\n",
      "6 ! = 720\n"
     ]
    }
   ],
   "source": [
    "# 使用clock装饰器\n",
    "\n",
    "@clock\n",
    "def snooze(seconds):\n",
    "    print('进入sleep函数')\n",
    "    time.sleep(seconds)\n",
    "    print('完成sleep函数')\n",
    "\n",
    "@clock\n",
    "def factorical(n):\n",
    "    return 1 if n < 2 else n * factorical(n - 1)\n",
    "\n",
    "print('*' * 40, 'calling snooze(.123)')\n",
    "snooze(.123)\n",
    "print('*' * 40, 'calling factorial(6)')\n",
    "print('6 ! =', factorical(6))\n"
   ]
  },
  {
   "cell_type": "code",
   "execution_count": 6,
   "metadata": {},
   "outputs": [
    {
     "data": {
      "text/plain": [
       "'clocked'"
      ]
     },
     "execution_count": 6,
     "metadata": {},
     "output_type": "execute_result"
    }
   ],
   "source": [
    "# factorial保存的是clocked函数的引用\n",
    "factorical.__name__"
   ]
  },
  {
   "cell_type": "code",
   "execution_count": 7,
   "metadata": {},
   "outputs": [],
   "source": [
    "# 改进后的clock装饰器\n",
    "import time\n",
    "import functools\n",
    "\n",
    "def clock(func):\n",
    "    @functools.wraps(func)\n",
    "    def clocked(*args, **kwargs):\n",
    "        t0 = time.time()\n",
    "        result = func(*args, **kwargs)\n",
    "        elapsed = time.time() - t0\n",
    "        name = func.__name__\n",
    "        arg_lst = []\n",
    "        if args:\n",
    "            arg_lst.append(', '.join(repr(arg) for arg in  args))\n",
    "        if kwargs:\n",
    "            pairs = ['%s=%r'%(k, w) for k, w in sorted(kwargs.items())]\n",
    "        arg_str = ', '.join(arg_lst)\n",
    "        print('[%0.8fs]%s(%s)->%r ' % (elapsed, name, arg_str, result))\n",
    "        return result\n",
    "    return clocked\n"
   ]
  },
  {
   "cell_type": "code",
   "execution_count": 8,
   "metadata": {},
   "outputs": [
    {
     "name": "stdout",
     "output_type": "stream",
     "text": [
      "**************************************** calling snooze(.123)\n",
      "进入sleep函数\n",
      "完成sleep函数\n",
      "[0.13842654s]snooze(0.123)->None \n",
      "**************************************** calling factorial(6)\n",
      "[0.00000000s]factorical(1)->1 \n",
      "[0.00000000s]factorical(2)->2 \n",
      "[0.00000000s]factorical(3)->6 \n",
      "[0.00000000s]factorical(4)->24 \n",
      "[0.00000000s]factorical(5)->120 \n",
      "[0.00000000s]factorical(6)->720 \n",
      "6 ! = 720\n"
     ]
    }
   ],
   "source": [
    "# 使用clock装饰器\n",
    "\n",
    "@clock\n",
    "def snooze(seconds):\n",
    "    print('进入sleep函数')\n",
    "    time.sleep(seconds)\n",
    "    print('完成sleep函数')\n",
    "\n",
    "@clock\n",
    "def factorical(n):\n",
    "    return 1 if n < 2 else n * factorical(n - 1)\n",
    "\n",
    "print('*' * 40, 'calling snooze(.123)')\n",
    "snooze(.123)\n",
    "print('*' * 40, 'calling factorial(6)')\n",
    "print('6 ! =', factorical(6))"
   ]
  },
  {
   "cell_type": "code",
   "execution_count": null,
   "metadata": {},
   "outputs": [],
   "source": []
  }
 ],
 "metadata": {
  "kernelspec": {
   "display_name": "d2l",
   "language": "python",
   "name": "python3"
  },
  "language_info": {
   "codemirror_mode": {
    "name": "ipython",
    "version": 3
   },
   "file_extension": ".py",
   "mimetype": "text/x-python",
   "name": "python",
   "nbconvert_exporter": "python",
   "pygments_lexer": "ipython3",
   "version": "3.9.19"
  }
 },
 "nbformat": 4,
 "nbformat_minor": 2
}
