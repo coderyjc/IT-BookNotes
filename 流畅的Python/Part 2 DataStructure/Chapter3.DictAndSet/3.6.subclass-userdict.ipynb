{
 "cells": [
  {
   "cell_type": "markdown",
   "metadata": {},
   "source": [
    "创造自定义映射类型来说，以UserDict为基类，总比以普通的dict为基类要来得方便。"
   ]
  },
  {
   "cell_type": "code",
   "execution_count": null,
   "metadata": {},
   "outputs": [],
   "source": [
    "# 无论是添加、更新还是查询操作，StrKeyDict都会把非字符串的键转换为字符串\n",
    "\n",
    "import collections\n",
    "\n",
    "# 继承了UserDict\n",
    "class StrKeyDict(collections.UserDict):\n",
    "    def __missing__(self, key):\n",
    "        if isinstance(key, str):\n",
    "            raise KeyError(key)\n",
    "        return self[str(key)]\n",
    "    def __contains__(self, key):\n",
    "        return str(key) in self.data\n",
    "    def __setitem__(self, key, item):\n",
    "        self.data[str(key)] = item"
   ]
  }
 ],
 "metadata": {
  "kernelspec": {
   "display_name": "d2l",
   "language": "python",
   "name": "python3"
  },
  "language_info": {
   "name": "python",
   "version": "3.9.19"
  }
 },
 "nbformat": 4,
 "nbformat_minor": 2
}
