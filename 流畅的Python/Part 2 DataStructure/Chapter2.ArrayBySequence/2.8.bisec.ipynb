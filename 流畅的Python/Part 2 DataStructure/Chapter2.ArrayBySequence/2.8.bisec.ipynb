{
 "cells": [
  {
   "cell_type": "markdown",
   "metadata": {},
   "source": [
    "使用bisect搜索元素在有序列表中的位置并使用bisect.insort插入元素"
   ]
  },
  {
   "cell_type": "markdown",
   "metadata": {},
   "source": [
    "### 2.8.1 用bisect来搜索"
   ]
  },
  {
   "cell_type": "code",
   "execution_count": 1,
   "metadata": {},
   "outputs": [],
   "source": [
    "import bisect\n",
    "import sys"
   ]
  },
  {
   "cell_type": "code",
   "execution_count": 5,
   "metadata": {},
   "outputs": [],
   "source": [
    "HAYSTACK = [1, 4, 5, 6, 8, 12, 15, 20, 21, 23, 23, 34, 36, 99]\n",
    "NEEDLES = [0, 1, 5, 8, 10, 22, 23, 29, 30, 31]\n",
    "ROW_FMT = '{0:2d} @ {1:2d}   {2}{0:<2d}'\n",
    "\n",
    "def demo(bisect_fn):\n",
    "    for needle in reversed(NEEDLES):\n",
    "        position = bisect_fn(HAYSTACK, needle)\n",
    "        offset = position * '  |'\n",
    "        print(ROW_FMT.format(needle, position, offset))"
   ]
  },
  {
   "cell_type": "code",
   "execution_count": 6,
   "metadata": {},
   "outputs": [
    {
     "name": "stdout",
     "output_type": "stream",
     "text": [
      "DEMO: bisect_left\n",
      "haystack->  1  4  5  6  8 12 15 20 21 23 23 34 36 99\n",
      "31 @ 11     |  |  |  |  |  |  |  |  |  |  |31\n",
      "30 @ 11     |  |  |  |  |  |  |  |  |  |  |30\n",
      "29 @ 11     |  |  |  |  |  |  |  |  |  |  |29\n",
      "23 @  9     |  |  |  |  |  |  |  |  |23\n",
      "22 @  9     |  |  |  |  |  |  |  |  |22\n",
      "10 @  5     |  |  |  |  |10\n",
      " 8 @  4     |  |  |  |8 \n",
      " 5 @  2     |  |5 \n",
      " 1 @  0   1 \n",
      " 0 @  0   0 \n"
     ]
    }
   ],
   "source": [
    "# bisect(haystack, needle)在haystack（干草垛）里搜索needle（针）的位置\n",
    "# 该位置满足的条件是，把needle插入这个位置之后，haystack还能保持升序。\n",
    "\n",
    "bisect_fn = bisect.bisect_left\n",
    "print('DEMO:', bisect_fn.__name__)\n",
    "# 打印表头\n",
    "print('haystack->', ' '.join('%2d' % n for n in HAYSTACK))\n",
    "demo(bisect_fn)"
   ]
  },
  {
   "cell_type": "code",
   "execution_count": 9,
   "metadata": {},
   "outputs": [
    {
     "data": {
      "text/plain": [
       "['F', 'C', 'F', 'F', 'D', 'A', 'A']"
      ]
     },
     "execution_count": 9,
     "metadata": {},
     "output_type": "execute_result"
    }
   ],
   "source": [
    "# 根据分数查询成绩\n",
    "def grade(score, breakpoints=[60, 70, 80, 90], grades='FDCBA'):\n",
    "    i = bisect.bisect(breakpoints, score)\n",
    "    return grades[i]\n",
    "\n",
    "[grade(score) for score in [33, 76, 48, 21, 66, 99, 103]]"
   ]
  },
  {
   "cell_type": "markdown",
   "metadata": {},
   "source": [
    "### 2.8.2 用bisect.insort插入新元素"
   ]
  },
  {
   "cell_type": "code",
   "execution_count": 13,
   "metadata": {},
   "outputs": [
    {
     "name": "stdout",
     "output_type": "stream",
     "text": [
      " 6-> [6]\n",
      " 3-> [3, 6]\n",
      " 4-> [3, 4, 6]\n",
      " 8-> [3, 4, 6, 8]\n",
      "11-> [3, 4, 6, 8, 11]\n",
      " 6-> [3, 4, 6, 6, 8, 11]\n",
      "11-> [3, 4, 6, 6, 8, 11, 11]\n"
     ]
    }
   ],
   "source": [
    "# insort(seq, item)把变量item插入到序列seq中，并能保持seq的升序顺序。\n",
    "\n",
    "import bisect\n",
    "import random\n",
    "\n",
    "SIZE = 7\n",
    "random.seed(1254)\n",
    "\n",
    "my_list = []\n",
    "\n",
    "for i in range(SIZE):\n",
    "    new_item = random.randrange(SIZE * 2)\n",
    "    bisect.insort(my_list, new_item)\n",
    "    print('%2d->'%new_item, my_list)"
   ]
  }
 ],
 "metadata": {
  "kernelspec": {
   "display_name": "d2l",
   "language": "python",
   "name": "python3"
  },
  "language_info": {
   "codemirror_mode": {
    "name": "ipython",
    "version": 3
   },
   "file_extension": ".py",
   "mimetype": "text/x-python",
   "name": "python",
   "nbconvert_exporter": "python",
   "pygments_lexer": "ipython3",
   "version": "3.9.19"
  }
 },
 "nbformat": 4,
 "nbformat_minor": 2
}
