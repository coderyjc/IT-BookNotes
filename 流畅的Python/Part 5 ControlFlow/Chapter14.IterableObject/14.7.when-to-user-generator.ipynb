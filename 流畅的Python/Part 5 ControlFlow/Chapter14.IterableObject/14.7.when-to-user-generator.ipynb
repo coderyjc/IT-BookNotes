{
 "cells": [
  {
   "cell_type": "code",
   "execution_count": null,
   "metadata": {},
   "outputs": [],
   "source": [
    "def __mul__(self, scalar):\n",
    "    if isinstance(scalar, numbers.Real):\n",
    "        return Vector(n * scalar for n in self)\n",
    "    else:\n",
    "        return NotImplemented"
   ]
  }
 ],
 "metadata": {
  "language_info": {
   "name": "python"
  }
 },
 "nbformat": 4,
 "nbformat_minor": 2
}
