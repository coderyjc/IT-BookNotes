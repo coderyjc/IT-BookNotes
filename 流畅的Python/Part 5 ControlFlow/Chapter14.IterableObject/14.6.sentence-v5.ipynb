{
 "cells": [
  {
   "cell_type": "code",
   "execution_count": 3,
   "metadata": {},
   "outputs": [
    {
     "name": "stdout",
     "output_type": "stream",
     "text": [
      "start\n",
      "continue\n",
      "end\n"
     ]
    }
   ],
   "source": [
    "# 先在列表推导中使用gen_AB生成器函数，然后在生成器表达式中使用\n",
    "\n",
    "def gen_AB():\n",
    "    print('start')\n",
    "    yield 'A'\n",
    "    print('continue')\n",
    "    yield 'B'\n",
    "    print('end')\n",
    "\n",
    "# 列表推导迫切地迭代gen_AB（　）函数生成的生成器对象产出的元素：'A'和'B'。\n",
    "# 注意，下面的输出是start、continue和end.。\n",
    "res1 = [x * 3 for x in gen_AB()]"
   ]
  },
  {
   "cell_type": "code",
   "execution_count": 4,
   "metadata": {},
   "outputs": [
    {
     "data": {
      "text/plain": [
       "['AAA', 'BBB']"
      ]
     },
     "execution_count": 4,
     "metadata": {},
     "output_type": "execute_result"
    }
   ],
   "source": [
    "res1"
   ]
  },
  {
   "cell_type": "code",
   "execution_count": 6,
   "metadata": {},
   "outputs": [
    {
     "data": {
      "text/plain": [
       "<generator object <genexpr> at 0x00000256B7849900>"
      ]
     },
     "execution_count": 6,
     "metadata": {},
     "output_type": "execute_result"
    }
   ],
   "source": [
    "# 把生成器表达式返回的值赋值给res2。只需调用gen_AB（　）函数，虽然调用时会返回一个生成器，但是这里并不使用。\n",
    "res2 = (x * 3 for x in gen_AB())\n",
    "res2"
   ]
  },
  {
   "cell_type": "code",
   "execution_count": 7,
   "metadata": {},
   "outputs": [
    {
     "name": "stdout",
     "output_type": "stream",
     "text": [
      "start\n",
      "---> AAA\n",
      "continue\n",
      "---> BBB\n",
      "end\n"
     ]
    }
   ],
   "source": [
    "# 只有for循环迭代res2时，gen_AB函数的定义体才会真正执行。\n",
    "for i in res2:\n",
    "    print('--->', i)"
   ]
  },
  {
   "cell_type": "code",
   "execution_count": 8,
   "metadata": {},
   "outputs": [],
   "source": [
    "# 使用生成器表达式实现Sentence类\n"
   ]
  },
  {
   "cell_type": "code",
   "execution_count": null,
   "metadata": {},
   "outputs": [],
   "source": [
    "import re\n",
    "import reprlib\n",
    "\n",
    "RE_WORD = re.compile('\\w+')\n",
    "\n",
    "class Sentence:\n",
    "    def __init__(self, text):\n",
    "      self.text = text\n",
    "    def __repr__(self):\n",
    "      return 'Sentence(%s)'%reprlib.repr(self.text)\n",
    "    def __iter__(self):\n",
    "      return (match.group() for match in RE_WORD.finditer(self.text))\n"
   ]
  }
 ],
 "metadata": {
  "kernelspec": {
   "display_name": "d2l",
   "language": "python",
   "name": "python3"
  },
  "language_info": {
   "codemirror_mode": {
    "name": "ipython",
    "version": 3
   },
   "file_extension": ".py",
   "mimetype": "text/x-python",
   "name": "python",
   "nbconvert_exporter": "python",
   "pygments_lexer": "ipython3",
   "version": "3.9.19"
  }
 },
 "nbformat": 4,
 "nbformat_minor": 2
}
