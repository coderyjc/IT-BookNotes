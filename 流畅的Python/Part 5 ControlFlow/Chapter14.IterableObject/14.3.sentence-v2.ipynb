{
 "cells": [
  {
   "cell_type": "markdown",
   "metadata": {},
   "source": [
    "典型的迭代器"
   ]
  },
  {
   "cell_type": "code",
   "execution_count": 2,
   "metadata": {},
   "outputs": [],
   "source": [
    "import re\n",
    "import reprlib\n",
    "\n",
    "class SentenctIterator:\n",
    "    def __init__(self, words):\n",
    "        # SentenceIterator实例引用单词列表。\n",
    "        self.words = words\n",
    "        #  self.index用于确定下一个要获取的单词。\n",
    "        self.index = 0\n",
    "\n",
    "    # 获取索引位置上的单词，如果没有，就抛出StopIterator异常\n",
    "    def __next__(self):\n",
    "        try:\n",
    "            word = self.words[self.index]\n",
    "        except IndexError:\n",
    "            raise StopIteration()\n",
    "        self.index += 1\n",
    "        return word\n",
    "\n",
    "    # 实现iter方法\n",
    "    def __iter__(self):\n",
    "        return self\n",
    "\n",
    "\n",
    "RE_WORD = re.compile('\\w+')\n",
    "\n",
    "class Sentence:\n",
    "    def __init__(self, text) -> None:\n",
    "        self.text = text\n",
    "        # re.findall函数返回一个字符串列表，里面的元素是正则表达式的全部非重叠匹配。\n",
    "        self.words = RE_WORD.findall(text)\n",
    "\n",
    "    #————————————V1——————————————\n",
    "    \n",
    "    #  为了完善序列协议，我们实现了__len__方法；不过，为了让对象可以迭代，没必要实现这个方法。\n",
    "    def __len__(self):\n",
    "        return len(self.words)\n",
    "\n",
    "    # reprlib.repr这个实用函数用于生成大型数据结构的简略字符串表示形式。\n",
    "    def __repr__(self) -> str:\n",
    "        return \"Sentence(%s)\" % reprlib.repr(self.text)\n",
    "    \n",
    "    #————————————V2——————————————\n",
    "    # 这一版没有__getitem__方法，为的是明确表明这个类可以迭代，因为实现了__iter__方法。\n",
    "    def __iter__(self):\n",
    "        # 根据可迭代协议，__iter__方法实例化并返回一个迭代器。\n",
    "        return SentenceIterator(self.words)\n"
   ]
  },
  {
   "cell_type": "code",
   "execution_count": null,
   "metadata": {},
   "outputs": [],
   "source": []
  }
 ],
 "metadata": {
  "kernelspec": {
   "display_name": "d2l",
   "language": "python",
   "name": "python3"
  },
  "language_info": {
   "codemirror_mode": {
    "name": "ipython",
    "version": 3
   },
   "file_extension": ".py",
   "mimetype": "text/x-python",
   "name": "python",
   "nbconvert_exporter": "python",
   "pygments_lexer": "ipython3",
   "version": "3.9.19"
  }
 },
 "nbformat": 4,
 "nbformat_minor": 2
}
