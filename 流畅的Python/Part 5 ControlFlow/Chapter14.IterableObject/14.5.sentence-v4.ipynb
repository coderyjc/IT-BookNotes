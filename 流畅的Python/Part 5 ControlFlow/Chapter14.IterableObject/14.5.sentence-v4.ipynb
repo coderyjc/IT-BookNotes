{
 "cells": [
  {
   "cell_type": "code",
   "execution_count": null,
   "metadata": {},
   "outputs": [],
   "source": [
    "import re\n",
    "import reprlib\n",
    "\n",
    "RE_WORD = re.compile('\\w+')\n",
    "\n",
    "class Sentenct:\n",
    "    def __init__(self, text) -> None:\n",
    "        # 不再需要words列表。\n",
    "        self.text = text\n",
    "    def __repr__(self) -> str:\n",
    "        return 'Sentenct(%s)' % reprlib.repr(self.text)\n",
    "    def __iter__(self):\n",
    "        # finditer函数构建一个迭代器，包含self.text中匹配RE_WORD的单词，产出MatchObject实例。\n",
    "        for match in RE_WORD.finditer(self.text):\n",
    "            # match.group()方法从MatchObject实例中提取匹配正则表达式的具体文本。\n",
    "            yield match.group()\n"
   ]
  }
 ],
 "metadata": {
  "language_info": {
   "name": "python"
  }
 },
 "nbformat": 4,
 "nbformat_minor": 2
}
