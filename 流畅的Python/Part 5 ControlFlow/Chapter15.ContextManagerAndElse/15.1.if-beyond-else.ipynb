{
 "cells": [
  {
   "cell_type": "markdown",
   "metadata": {},
   "source": [
    "for...else..., while...else..., try...else... "
   ]
  },
  {
   "cell_type": "code",
   "execution_count": 1,
   "metadata": {},
   "outputs": [],
   "source": [
    "my_list = []\n",
    "for item in my_list:\n",
    "    if item.flavor == 'banana':\n",
    "        break\n",
    "    else:\n",
    "        raise ValueError('No banana flavor found!')\n"
   ]
  },
  {
   "cell_type": "code",
   "execution_count": null,
   "metadata": {},
   "outputs": [],
   "source": [
    "try:\n",
    "    dangerous_call()\n",
    "    after_call()\n",
    "except OSError:\n",
    "    log('OSERROR')"
   ]
  },
  {
   "cell_type": "code",
   "execution_count": null,
   "metadata": {},
   "outputs": [],
   "source": [
    "try:\n",
    "    dangerous_call（　）\n",
    "except OSError:\n",
    "    log('OSError...')\n",
    "else:\n",
    "    after_call（　）"
   ]
  }
 ],
 "metadata": {
  "kernelspec": {
   "display_name": "d2l",
   "language": "python",
   "name": "python3"
  },
  "language_info": {
   "codemirror_mode": {
    "name": "ipython",
    "version": 3
   },
   "file_extension": ".py",
   "mimetype": "text/x-python",
   "name": "python",
   "nbconvert_exporter": "python",
   "pygments_lexer": "ipython3",
   "version": "3.9.19"
  }
 },
 "nbformat": 4,
 "nbformat_minor": 2
}
