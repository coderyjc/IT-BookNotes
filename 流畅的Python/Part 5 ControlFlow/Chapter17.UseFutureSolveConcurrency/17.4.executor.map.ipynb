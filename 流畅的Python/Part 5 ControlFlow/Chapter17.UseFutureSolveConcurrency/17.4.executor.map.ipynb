{
 "cells": [
  {
   "cell_type": "code",
   "execution_count": 1,
   "metadata": {},
   "outputs": [],
   "source": [
    "from time import sleep, strftime\n",
    "from concurrent import futures\n",
    "\n",
    "def display(*args):\n",
    "    print(strftime('[%H:%M:%S]'), end=' ')\n",
    "    print(*args)\n",
    "\n",
    "def loiter(n):\n",
    "    msg = '{}loiter({}): doing nothing for {}s...'\n",
    "    display(msg.format('\\t'*n, n, n))\n",
    "    sleep(n)\n",
    "    msg = '{}loiter({}): done.'\n",
    "    display(msg.format('\\t'*n, n))\n",
    "    return n * 10\n",
    "\n",
    "def main():\n",
    "    display('Script starting.')\n",
    "    executor = futures.ThreadPoolExecutor(max_workers=3)\n",
    "    results = executor.map(loiter, range(5))\n",
    "    display('results:', results)\n",
    "    display('Waiting for individual results:')\n",
    "    for i, result in enumerate(results):\n",
    "        display('result {}: {}'.format(i, result))"
   ]
  },
  {
   "cell_type": "code",
   "execution_count": 2,
   "metadata": {},
   "outputs": [
    {
     "name": "stdout",
     "output_type": "stream",
     "text": [
      "[11:48:46] Script starting.\n",
      "[11:48:46] loiter(0): doing nothing for 0s...\n",
      "[11:48:46] loiter(0): done.\n",
      "[11:48:46] \tloiter(1): doing nothing for 1s...\n",
      "[11:48:46] \t\tloiter(2): doing nothing for 2s...\n",
      "[11:48:46] \t\t\tloiter(3): doing nothing for 3s...\n",
      "[11:48:46] results: <generator object Executor.map.<locals>.result_iterator at 0x00000213B6055740>\n",
      "[11:48:46] Waiting for individual results:\n",
      "[11:48:46] result 0: 0\n",
      "[11:48:47] \tloiter(1): done.\n",
      "[11:48:47] \t\t\t\tloiter(4): doing nothing for 4s...\n",
      "[11:48:47] result 1: 10\n",
      "[11:48:48] \t\tloiter(2): done.\n",
      "[11:48:48] result 2: 20\n",
      "[11:48:49] \t\t\tloiter(3): done.\n",
      "[11:48:49] result 3: 30\n",
      "[11:48:51] \t\t\t\tloiter(4): done.\n",
      "[11:48:51] result 4: 40\n"
     ]
    }
   ],
   "source": [
    "main()"
   ]
  },
  {
   "cell_type": "code",
   "execution_count": null,
   "metadata": {},
   "outputs": [],
   "source": []
  }
 ],
 "metadata": {
  "kernelspec": {
   "display_name": "d2l",
   "language": "python",
   "name": "python3"
  },
  "language_info": {
   "codemirror_mode": {
    "name": "ipython",
    "version": 3
   },
   "file_extension": ".py",
   "mimetype": "text/x-python",
   "name": "python",
   "nbconvert_exporter": "python",
   "pygments_lexer": "ipython3",
   "version": "3.9.19"
  }
 },
 "nbformat": 4,
 "nbformat_minor": 2
}
