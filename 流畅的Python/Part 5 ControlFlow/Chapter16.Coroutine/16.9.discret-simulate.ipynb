{
 "cells": [
  {
   "cell_type": "code",
   "execution_count": 2,
   "metadata": {},
   "outputs": [],
   "source": [
    "import collections\n",
    "\n",
    "Event = collections.namedtuple('Event', 'time proc action')\n",
    "\n",
    "# taxi_sim.py：taxi_process协程，实现各辆出租车的活动\n",
    "def taxi_process(ident, trips, start_time=0):\n",
    "    \"\"\"每次改变状态时创建事件，把控制权让给仿真器\"\"\"\n",
    "    time = yield Event(start_time, ident, 'leave garage')\n",
    "    for i in range(trips):\n",
    "        time = yield Event(time, ident, 'pick up passenger')\n",
    "        time = yield Event(time, ident, 'drop off passenger')\n",
    "    yield Event(time, ident, 'going home')\n",
    "    #出租车进程结束"
   ]
  },
  {
   "cell_type": "code",
   "execution_count": 3,
   "metadata": {},
   "outputs": [
    {
     "data": {
      "text/plain": [
       "Event(time=0, proc=13, action='leave garage')"
      ]
     },
     "execution_count": 3,
     "metadata": {},
     "output_type": "execute_result"
    }
   ],
   "source": [
    "taxi = taxi_process(ident=13, trips=2, start_time=0)\n",
    "next(taxi)"
   ]
  }
 ],
 "metadata": {
  "kernelspec": {
   "display_name": "d2l",
   "language": "python",
   "name": "python3"
  },
  "language_info": {
   "codemirror_mode": {
    "name": "ipython",
    "version": 3
   },
   "file_extension": ".py",
   "mimetype": "text/x-python",
   "name": "python",
   "nbconvert_exporter": "python",
   "pygments_lexer": "ipython3",
   "version": "3.9.19"
  }
 },
 "nbformat": 4,
 "nbformat_minor": 2
}
