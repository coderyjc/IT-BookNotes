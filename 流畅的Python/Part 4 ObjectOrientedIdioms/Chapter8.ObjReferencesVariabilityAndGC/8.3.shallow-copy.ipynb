{
 "cells": [
  {
   "cell_type": "markdown",
   "metadata": {},
   "source": [
    "浅复制只是复制饮用，深复制是复制所有的东西，"
   ]
  },
  {
   "cell_type": "code",
   "execution_count": 1,
   "metadata": {},
   "outputs": [
    {
     "data": {
      "text/plain": [
       "[3, [55, 44], (7, 8, 9)]"
      ]
     },
     "execution_count": 1,
     "metadata": {},
     "output_type": "execute_result"
    }
   ],
   "source": [
    "# 复制列表（或多数内置的可变集合）最简单的方式是使用内置的类型构造方法。\n",
    "\n",
    "l1 = [3, [55, 44], (7, 8, 9)]\n",
    "l2 = list(l1)\n",
    "l2"
   ]
  },
  {
   "cell_type": "code",
   "execution_count": 2,
   "metadata": {},
   "outputs": [
    {
     "data": {
      "text/plain": [
       "(False, True)"
      ]
     },
     "execution_count": 2,
     "metadata": {},
     "output_type": "execute_result"
    }
   ],
   "source": [
    "l2 is l1, l2 == l1"
   ]
  },
  {
   "cell_type": "code",
   "execution_count": 3,
   "metadata": {},
   "outputs": [
    {
     "name": "stdout",
     "output_type": "stream",
     "text": [
      "l1: [3, [66, 44], (7, 8, 9), 100]\n",
      "l2: [3, [66, 44], (7, 8, 9)]\n",
      "l1: [3, [66, 44, 33, 22], (7, 8, 9), 100]\n",
      "l2: [3, [66, 44, 33, 22], (7, 8, 9, 10, 11)]\n"
     ]
    }
   ],
   "source": [
    "# 为一个包含另一个列表的列表做浅复制\n",
    "l1 = [3, [66, 55, 44], (7, 8, 9)]\n",
    "l2 = list(l1)\n",
    "l1.append(100)\n",
    "l1[1].remove(55)\n",
    "print('l1:', l1)\n",
    "print('l2:', l2)\n",
    "l2[1] += [33, 22]\n",
    "l2[2] += (10, 11)\n",
    "print('l1:', l1)\n",
    "print('l2:', l2)"
   ]
  },
  {
   "cell_type": "markdown",
   "metadata": {},
   "source": [
    "**为任意对象做深复制和浅复制**"
   ]
  },
  {
   "cell_type": "code",
   "execution_count": 4,
   "metadata": {},
   "outputs": [],
   "source": [
    "# 为了演示copy()和deepcopy()的用法，定义了一个简单的类，Bus。\n",
    "# 这个类表示运载乘客的校车，在途中乘客会上车或下车。\n",
    "\n",
    "class Bus:\n",
    "    def __init__(self, passengers=None) -> None:\n",
    "        if passengers is None:\n",
    "            self.passengers = []\n",
    "        else:\n",
    "            self.passengers = list(passengers)\n",
    "    def pick(self, name):\n",
    "        self.passengers.append(name)\n",
    "    def drop(self, name):\n",
    "        self.passengers.remove(name)\n",
    "        "
   ]
  },
  {
   "cell_type": "code",
   "execution_count": 5,
   "metadata": {},
   "outputs": [
    {
     "data": {
      "text/plain": [
       "(1921038102384, 1921038101232, 1921038098544)"
      ]
     },
     "execution_count": 5,
     "metadata": {},
     "output_type": "execute_result"
    }
   ],
   "source": [
    "# 看看在bus1有学生下车后会发生什么。\n",
    "# 使用copy和deepcopy产生的影响\n",
    "\n",
    "import copy\n",
    "# 实例\n",
    "bus1 = Bus(['xiaoming', 'xiaohong', 'xiaoqiang', 'xiaobai'])\n",
    "# 浅复制副本（bus2）\n",
    "bus2 = copy.copy(bus1)\n",
    "# 深复制副本（bus3）\n",
    "bus3 = copy.deepcopy(bus1)\n",
    "\n",
    "# 3个不同的Bus实例\n",
    "id(bus1), id(bus2), id(bus3)"
   ]
  },
  {
   "cell_type": "code",
   "execution_count": 6,
   "metadata": {},
   "outputs": [
    {
     "data": {
      "text/plain": [
       "(['xiaohong', 'xiaoqiang', 'xiaobai'],\n",
       " ['xiaohong', 'xiaoqiang', 'xiaobai'],\n",
       " ['xiaoming', 'xiaohong', 'xiaoqiang', 'xiaobai'])"
      ]
     },
     "execution_count": 6,
     "metadata": {},
     "output_type": "execute_result"
    }
   ],
   "source": [
    "bus1.drop('xiaoming')\n",
    "\n",
    "# bus1和bus2共享同一个列表对象，因为bus2是bus1的浅复制副本。\n",
    "# bus3是bus1的深复制副本，因此它的passengers属性指代另一个列表。\n",
    "bus1.passengers, bus2.passengers, bus3.passengers"
   ]
  },
  {
   "cell_type": "code",
   "execution_count": 7,
   "metadata": {},
   "outputs": [
    {
     "data": {
      "text/plain": [
       "(1921038102384, 1921038101232, 1921038098544)"
      ]
     },
     "execution_count": 7,
     "metadata": {},
     "output_type": "execute_result"
    }
   ],
   "source": [
    "id(bus1), id(bus2), id(bus3)"
   ]
  },
  {
   "cell_type": "code",
   "execution_count": 8,
   "metadata": {},
   "outputs": [
    {
     "data": {
      "text/plain": [
       "[10, 20, [[...], 30]]"
      ]
     },
     "execution_count": 8,
     "metadata": {},
     "output_type": "execute_result"
    }
   ],
   "source": [
    "# 循环引用：b引用a，然后追加到a中；deepcopy会想办法复制a\n",
    "\n",
    "a = [10, 20]\n",
    "b = [a, 30]\n",
    "a.append(b)\n",
    "a"
   ]
  },
  {
   "cell_type": "code",
   "execution_count": 9,
   "metadata": {},
   "outputs": [
    {
     "data": {
      "text/plain": [
       "[10, 20, [[...], 30]]"
      ]
     },
     "execution_count": 9,
     "metadata": {},
     "output_type": "execute_result"
    }
   ],
   "source": [
    "from copy import deepcopy\n",
    "\n",
    "c = deepcopy(a)\n",
    "c"
   ]
  },
  {
   "cell_type": "code",
   "execution_count": null,
   "metadata": {},
   "outputs": [],
   "source": []
  }
 ],
 "metadata": {
  "kernelspec": {
   "display_name": "d2l",
   "language": "python",
   "name": "python3"
  },
  "language_info": {
   "codemirror_mode": {
    "name": "ipython",
    "version": 3
   },
   "file_extension": ".py",
   "mimetype": "text/x-python",
   "name": "python",
   "nbconvert_exporter": "python",
   "pygments_lexer": "ipython3",
   "version": "3.9.19"
  }
 },
 "nbformat": 4,
 "nbformat_minor": 2
}
