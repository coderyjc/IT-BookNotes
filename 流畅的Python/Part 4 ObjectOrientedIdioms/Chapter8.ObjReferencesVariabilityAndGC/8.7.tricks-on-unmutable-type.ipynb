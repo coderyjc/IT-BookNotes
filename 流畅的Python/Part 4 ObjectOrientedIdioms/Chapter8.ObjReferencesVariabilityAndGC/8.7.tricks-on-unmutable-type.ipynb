{
 "cells": [
  {
   "cell_type": "markdown",
   "metadata": {},
   "source": [
    "你可以放心跳过本节。这里讨论的是Python的实现细节，对Python用户来说没那么重要。这些细节是CPython核心开发者走的捷径和做的优化措施，对这门语言的用户而言无需了解，而且那些细节对其他Python实现可能没用，CPython未来的版本可能也不会用。"
   ]
  }
 ],
 "metadata": {
  "kernelspec": {
   "display_name": "d2l",
   "language": "python",
   "name": "python3"
  },
  "language_info": {
   "codemirror_mode": {
    "name": "ipython",
    "version": 3
   },
   "file_extension": ".py",
   "mimetype": "text/x-python",
   "name": "python",
   "nbconvert_exporter": "python",
   "pygments_lexer": "ipython3",
   "version": "3.9.19"
  }
 },
 "nbformat": 4,
 "nbformat_minor": 2
}
