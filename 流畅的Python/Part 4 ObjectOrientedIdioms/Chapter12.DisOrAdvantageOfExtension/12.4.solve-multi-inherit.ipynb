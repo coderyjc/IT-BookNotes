{
 "cells": [
  {
   "cell_type": "code",
   "execution_count": 1,
   "metadata": {},
   "outputs": [
    {
     "ename": "NameError",
     "evalue": "name 'Alpha' is not defined",
     "output_type": "error",
     "traceback": [
      "\u001b[1;31m---------------------------------------------------------------------------\u001b[0m",
      "\u001b[1;31mNameError\u001b[0m                                 Traceback (most recent call last)",
      "Cell \u001b[1;32mIn[1], line 1\u001b[0m\n\u001b[1;32m----> 1\u001b[0m \u001b[38;5;28;01mclass\u001b[39;00m \u001b[38;5;21;01mMyConcreteClass\u001b[39;00m(\u001b[43mAlpha\u001b[49m, Beta, Gamma):\n\u001b[0;32m      2\u001b[0m \u001b[38;5;250m    \u001b[39m\u001b[38;5;124;03m\"\"\"这是一个具体类，可以实例化。\"\"\"\u001b[39;00m\n\u001b[0;32m      3\u001b[0m     \u001b[38;5;66;03m# ……更多代码……\u001b[39;00m\n",
      "\u001b[1;31mNameError\u001b[0m: name 'Alpha' is not defined"
     ]
    }
   ],
   "source": [
    "class MyConcreteClass(Alpha, Beta, Gamma):\n",
    "    \"\"\"这是一个具体类，可以实例化。\"\"\"\n",
    "    # ……更多代码……\n",
    "    pass"
   ]
  },
  {
   "cell_type": "code",
   "execution_count": 2,
   "metadata": {},
   "outputs": [
    {
     "ename": "NameError",
     "evalue": "name 'BaseWidget' is not defined",
     "output_type": "error",
     "traceback": [
      "\u001b[1;31m---------------------------------------------------------------------------\u001b[0m",
      "\u001b[1;31mNameError\u001b[0m                                 Traceback (most recent call last)",
      "Cell \u001b[1;32mIn[2], line 1\u001b[0m\n\u001b[1;32m----> 1\u001b[0m \u001b[38;5;28;01mclass\u001b[39;00m \u001b[38;5;21;01mWidget\u001b[39;00m(\u001b[43mBaseWidget\u001b[49m, Pack, Place, Grid):\n\u001b[0;32m      2\u001b[0m \u001b[38;5;250m    \u001b[39m\u001b[38;5;124;03m\"\"\"Internal class.\u001b[39;00m\n\u001b[0;32m      3\u001b[0m \u001b[38;5;124;03m    Base class for a widget which can be positioned with the\u001b[39;00m\n\u001b[0;32m      4\u001b[0m \u001b[38;5;124;03m    geometry managers Pack, Place or Grid.\"\"\"\u001b[39;00m\n\u001b[0;32m      5\u001b[0m     \u001b[38;5;28;01mpass\u001b[39;00m\n",
      "\u001b[1;31mNameError\u001b[0m: name 'BaseWidget' is not defined"
     ]
    }
   ],
   "source": [
    "class Widget(BaseWidget, Pack, Place, Grid):\n",
    "    \"\"\"Internal class.\n",
    "    Base class for a widget which can be positioned with the\n",
    "    geometry managers Pack, Place or Grid.\"\"\"\n",
    "    pass"
   ]
  },
  {
   "cell_type": "code",
   "execution_count": null,
   "metadata": {},
   "outputs": [],
   "source": [
    "\n"
   ]
  }
 ],
 "metadata": {
  "kernelspec": {
   "display_name": "d2l",
   "language": "python",
   "name": "python3"
  },
  "language_info": {
   "codemirror_mode": {
    "name": "ipython",
    "version": 3
   },
   "file_extension": ".py",
   "mimetype": "text/x-python",
   "name": "python",
   "nbconvert_exporter": "python",
   "pygments_lexer": "ipython3",
   "version": "3.9.19"
  }
 },
 "nbformat": 4,
 "nbformat_minor": 2
}
