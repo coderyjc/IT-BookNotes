{
 "cells": [
  {
   "cell_type": "code",
   "execution_count": null,
   "metadata": {
    "vscode": {
     "languageId": "plaintext"
    }
   },
   "outputs": [],
   "source": [
    "# 测试方法"
   ]
  },
  {
   "cell_type": "code",
   "execution_count": null,
   "metadata": {},
   "outputs": [],
   "source": [
    "import abc\n",
    "\n",
    "# 自定义的抽象基类要继承ABC\n",
    "class Tombola(abc.ABC):\n",
    "    @abc.abstractmethod\n",
    "    def load(self, iterable):\n",
    "        # 从可迭代对象中添加元素\n",
    "        pass\n",
    "    @abc.abstractmethod\n",
    "    def pick(self):\n",
    "        # 随即删除元素并返回\n",
    "        pass\n",
    "    # 抽象类可以包含具体方法\n",
    "    def loaded(self):\n",
    "        # 如果至少有一个元素，返回True，否则返回False\n",
    "        return bool(self.inspect())\n",
    "    def inspect(self):\n",
    "        # 返回一个有序元组，由当前元素构成\n",
    "        items = []\n",
    "        while True:\n",
    "            try:\n",
    "                items.append(self.pick())\n",
    "            except LookupError:\n",
    "                break\n",
    "        self.load(items)\n",
    "        return tuple(sorted(items))\n"
   ]
  },
  {
   "cell_type": "code",
   "execution_count": null,
   "metadata": {},
   "outputs": [],
   "source": [
    "import doctest\n",
    "\n",
    "#要测试的模块\n",
    "# import bingo, lotto, tombolist, drum\n",
    "\n",
    "TEST_FILE = 'tombola_tests.rst'\n",
    "TEST_MSG = '{0:16} {1.attempted:2} tests, {1.failed:2} failed-{2}'\n",
    "\n",
    "def main(argv):\n",
    "    verbose = '-v' in argv\n",
    "    real_subclasses = Tombola.__subclasses__()\n",
    "    virtual_subclasses = list(Tombola._abc_registry)\n",
    "    for cls in real_subclasses+virtual_subclasses:\n",
    "        test(cls, verbose)\n",
    "\n",
    "def test(cls, verbose=False):\n",
    "    res = doctest.testfile(\n",
    "            TEST_FILE,\n",
    "            globs={'ConcreteTombola': cls},\n",
    "            verbose=verbose,\n",
    "            optionflags=doctest.REPORT_ONLY_FIRST_FAILURE)\n",
    "    tag = 'FAIL' if res.failed else 'OK'\n",
    "    print(TEST_MSG.format(cls.__name__, res, tag))"
   ]
  }
 ],
 "metadata": {
  "language_info": {
   "name": "python"
  }
 },
 "nbformat": 4,
 "nbformat_minor": 2
}
