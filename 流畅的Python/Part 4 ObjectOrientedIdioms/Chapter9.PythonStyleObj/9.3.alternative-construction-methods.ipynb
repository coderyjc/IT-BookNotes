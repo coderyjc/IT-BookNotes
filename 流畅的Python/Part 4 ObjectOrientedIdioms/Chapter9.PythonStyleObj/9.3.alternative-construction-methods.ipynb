{
 "cells": [
  {
   "cell_type": "code",
   "execution_count": null,
   "metadata": {},
   "outputs": [],
   "source": [
    "# 见 vector2d_v2.py"
   ]
  }
 ],
 "metadata": {
  "language_info": {
   "name": "python"
  }
 },
 "nbformat": 4,
 "nbformat_minor": 2
}
