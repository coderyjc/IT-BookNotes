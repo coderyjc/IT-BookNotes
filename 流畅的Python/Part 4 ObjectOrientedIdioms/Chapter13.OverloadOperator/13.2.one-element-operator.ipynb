{
 "cells": [
  {
   "cell_type": "code",
   "execution_count": null,
   "metadata": {},
   "outputs": [],
   "source": [
    "# vector_v6.py：把一元运算符-和+添加到示例10-16中\n",
    "\n",
    "\"\"\"\n",
    "A multidimensional ``Vector`` class, take 5\n",
    "A ``Vector`` is built from an iterable of numbers::\n",
    "    >>> Vector([3.1, 4.2])\n",
    "    Vector([3.1, 4.2])\n",
    "    >>> Vector((3, 4, 5))\n",
    "    Vector([3.0, 4.0, 5.0])\n",
    "    >>> Vector(range(10))\n",
    "    Vector([0.0, 1.0, 2.0, 3.0, 4.0, ...])\n",
    "Tests with two dimensions (same results as ``vector2d_v1.py``)::\n",
    "    >>> v1 = Vector([3, 4])\n",
    "    >>> x, y = v1\n",
    "    >>> x, y\n",
    "    (3.0, 4.0)\n",
    "    >>> v1\n",
    "    Vector([3.0, 4.0])\n",
    "    >>> v1_clone = eval(repr(v1))\n",
    "    >>> v1 == v1_clone\n",
    "    True\n",
    "    >>> print(v1)\n",
    "    (3.0, 4.0)\n",
    "    >>> octets = bytes(v1)\n",
    "    >>> octets\n",
    "    b'd\\\\x00\\\\x00\\\\x00\\\\x00\\\\x00\\\\x00\\\\x08@\\\\x00\\\\x00\\\\x00\\\\x00\\\\x00\\\\x00\\\\x10@'\n",
    "    >>> abs(v1)\n",
    "    5.0\n",
    "    >>> bool(v1), bool(Vector([0, 0]))\n",
    "    (True, False)\n",
    "Test of ``.frombytes()`` class method:\n",
    "    >>> v1_clone = Vector.frombytes(bytes(v1))\n",
    "    >>> v1_clone\n",
    "    Vector([3.0, 4.0])\n",
    "    >>> v1 == v1_clone\n",
    "    True\n",
    "Tests with three dimensions::\n",
    "    >>> v1 = Vector([3, 4, 5])\n",
    "    >>> x, y, z = v1\n",
    "    >>> x, y, z\n",
    "    (3.0, 4.0, 5.0)\n",
    "    >>> v1\n",
    "    Vector([3.0, 4.0, 5.0])\n",
    "    >>> v1_clone = eval(repr(v1))\n",
    "    >>> v1 == v1_clone\n",
    "    True\n",
    "    >>> print(v1)\n",
    "    (3.0, 4.0, 5.0)\n",
    "    >>> abs(v1)  # doctest:+ELLIPSIS\n",
    "    7.071067811...\n",
    "    >>> bool(v1), bool(Vector([0, 0, 0]))\n",
    "    (True, False)\n",
    "Tests with many dimensions::\n",
    "    >>> v7 = Vector(range(7))\n",
    "    >>> v7\n",
    "    Vector([0.0, 1.0, 2.0, 3.0, 4.0, ...])\n",
    "    >>> abs(v7)  # doctest:+ELLIPSIS\n",
    "    9.53939201...\n",
    "Test of ``.__bytes__`` and ``.frombytes()`` methods::\n",
    "    >>> v1 = Vector([3, 4, 5])\n",
    "    >>> v1_clone = Vector.frombytes(bytes(v1))\n",
    "    >>> v1_clone\n",
    "    Vector([3.0, 4.0, 5.0])\n",
    "    >>> v1 == v1_clone\n",
    "    True\n",
    "Tests of sequence behavior::\n",
    "    >>> v1 = Vector([3, 4, 5])\n",
    "    >>> len(v1)\n",
    "    3\n",
    "    >>> v1[0], v1[len(v1)-1], v1[-1]\n",
    "    (3.0, 5.0, 5.0)\n",
    "Test of slicing::\n",
    "    >>> v7 = Vector(range(7))\n",
    "    >>> v7[-1]\n",
    "    6.0\n",
    "    >>> v7[1:4]\n",
    "    Vector([1.0, 2.0, 3.0])\n",
    "    >>> v7[-1:]\n",
    "    Vector([6.0])\n",
    "    >>> v7[1,2]\n",
    "    Traceback (most recent call last):\n",
    "      ...\n",
    "    TypeError: Vector indices must be integers\n",
    "Tests of dynamic attribute access::\n",
    "    >>> v7 = Vector(range(10))\n",
    "    >>> v7.x\n",
    "    0.0\n",
    "    >>> v7.y, v7.z, v7.t\n",
    "    (1.0, 2.0, 3.0)\n",
    "Dynamic attribute lookup failures::\n",
    "    >>> v7.k\n",
    "    Traceback (most recent call last):\n",
    "      ...\n",
    "    AttributeError: 'Vector' object has no attribute 'k'\n",
    "    >>> v3 = Vector(range(3))\n",
    "    >>> v3.t\n",
    "    Traceback (most recent call last):\n",
    "      ...\n",
    "    AttributeError: 'Vector' object has no attribute 't'\n",
    "    >>> v3.spam\n",
    "    Traceback (most recent call last):\n",
    "      ...\n",
    "    AttributeError: 'Vector' object has no attribute 'spam'\n",
    "Tests of hashing::\n",
    "    >>> v1 = Vector([3, 4])\n",
    "    >>> v2 = Vector([3.1, 4.2])\n",
    "    >>> v3 = Vector([3, 4, 5])\n",
    "    >>> v6 = Vector(range(6))\n",
    "    >>> hash(v1), hash(v3), hash(v6)\n",
    "    (7, 2, 1)\n",
    "Most hash values of non-integers vary from a 32-bit to 64-bit CPython build::\n",
    "    >>> import sys\n",
    "    >>> hash(v2) == (384307168202284039 if sys.maxsize > 2**32 else 357915986)\n",
    "    True\n",
    "Tests of ``format()`` with Cartesian coordinates in 2D::\n",
    "    >>> v1 = Vector([3, 4])\n",
    "    >>> format(v1)\n",
    "    '(3.0, 4.0)'\n",
    "    >>> format(v1, '.2f')\n",
    "    '(3.00, 4.00)'\n",
    "    >>> format(v1, '.3e')\n",
    "    '(3.000e+00, 4.000e+00)'\n",
    "Tests of ``format()`` with Cartesian coordinates in 3D and 7D::\n",
    "    >>> v3 = Vector([3, 4, 5])\n",
    "    >>> format(v3)\n",
    "    '(3.0, 4.0, 5.0)'\n",
    "    >>> format(Vector(range(7)))\n",
    "    '(0.0, 1.0, 2.0, 3.0, 4.0, 5.0, 6.0)'\n",
    "Tests of ``format()`` with spherical coordinates in 2D, 3D and 4D::\n",
    "    >>> format(Vector([1, 1]), 'h')  # doctest:+ELLIPSIS\n",
    "    '<1.414213..., 0.785398...>'\n",
    "    >>> format(Vector([1, 1]), '.3eh')\n",
    "    '<1.414e+00, 7.854e-01>'\n",
    "    >>> format(Vector([1, 1]), '0.5fh')\n",
    "    '<1.41421, 0.78540>'\n",
    "    >>> format(Vector([1, 1, 1]), 'h')  # doctest:+ELLIPSIS\n",
    "    '<1.73205..., 0.95531..., 0.78539...>'\n",
    "    >>> format(Vector([2, 2, 2]), '.3eh')\n",
    "    '<3.464e+00, 9.553e-01, 7.854e-01>'\n",
    "    >>> format(Vector([0, 0, 0]), '0.5fh')\n",
    "    '<0.00000, 0.00000, 0.00000>'\n",
    "    >>> format(Vector([-1,-1,-1,-1]), 'h')  # doctest:+ELLIPSIS\n",
    "    '<2.0, 2.09439..., 2.18627..., 3.92699...>'\n",
    "    >>> format(Vector([2, 2, 2, 2]), '.3eh')\n",
    "    '<4.000e+00, 1.047e+00, 9.553e-01, 7.854e-01>'\n",
    "    >>> format(Vector([0, 1, 0, 0]), '0.5fh')\n",
    "    '<1.00000, 1.57080, 0.00000, 0.00000>'\n",
    "\"\"\"\n",
    "\n",
    "from array import array\n",
    "import reprlib\n",
    "import math\n",
    "import numbers\n",
    "import functools\n",
    "import operator\n",
    "import itertools\n",
    "\n",
    "class Vector:\n",
    "    typecode = 'd'\n",
    "    def __init__(self, components):\n",
    "        self._components = array(self.typecode, components)\n",
    "    def __iter__(self):\n",
    "        return iter(self._components)\n",
    "    def __repr__(self):\n",
    "        components = reprlib.repr(self._components)\n",
    "        components = components[components.find('['):-1]\n",
    "        return 'Vector({})'.format(components)\n",
    "    def __str__(self):\n",
    "        return str(tuple(self))\n",
    "    def __bytes__(self):\n",
    "        return (bytes([ord(self.typecode)])+\n",
    "                bytes(self._components))\n",
    "    def __eq__(self, other):\n",
    "        return (len(self) == len(other) and\n",
    "                all(a == b for a, b in zip(self, other)))\n",
    "    def __hash__(self):\n",
    "        hashes = (hash(x) for x in self)\n",
    "        return functools.reduce(operator.xor, hashes, 0)\n",
    "    def __abs__(self):\n",
    "        return math.sqrt(sum(x * x for x in self))\n",
    "    def __bool__(self):\n",
    "        return bool(abs(self))\n",
    "    def __len__(self):\n",
    "        return len(self._components)\n",
    "    def __getitem__(self, index):\n",
    "        cls = type(self)\n",
    "        if isinstance(index, slice):\n",
    "            return cls(self._components[index])\n",
    "        elif isinstance(index, numbers.Integral):\n",
    "            return self._components[index]\n",
    "        else:\n",
    "            msg = '{.__name__} indices must be integers'\n",
    "            raise TypeError(msg.format(cls))\n",
    "    shortcut_names = 'xyzt'\n",
    "    def __getattr__(self, name):\n",
    "        cls = type(self)\n",
    "        if len(name) == 1:\n",
    "            pos = cls.shortcut_names.find(name)\n",
    "            if 0 <= pos < len(self._components):\n",
    "                return self._components[pos]\n",
    "        msg = '{.__name__!r} object has no attribute {!r}'\n",
    "        raise AttributeError(msg.format(cls, name))\n",
    "    def angle(self, n):\n",
    "        r = math.sqrt(sum(x * x for x in self[n:]))\n",
    "        a = math.atan2(r, self[n-1])\n",
    "        if (n == len(self)-1) and (self[-1] < 0):\n",
    "            return math.pi * 2-a\n",
    "        else:\n",
    "            return a\n",
    "    def angles(self):\n",
    "        return (self.angle(n) for n in range(1, len(self)))\n",
    "    def __format__(self, fmt_spec=''):\n",
    "        if fmt_spec.endswith('h'):  #超球面坐标\n",
    "            fmt_spec = fmt_spec[:-1]\n",
    "            coords = itertools.chain([abs(self)],\n",
    "                                     self.angles())\n",
    "            outer_fmt = '<{}>'\n",
    "        else:\n",
    "            coords = self\n",
    "            outer_fmt = '({})'\n",
    "        components = (format(c, fmt_spec) for c in coords)\n",
    "        return outer_fmt.format(', '.join(components))\n",
    "    @classmethod\n",
    "    def frombytes(cls, octets):\n",
    "        typecode = chr(octets[0])\n",
    "        memv = memoryview(octets[1:]).cast(typecode)\n",
    "        return cls(memv)\n",
    "\n",
    "    # _________________________实现了-+运算符\n",
    "    def __neg__(self):\n",
    "        return Vector(-x for x in self)\n",
    "    def __pos__(self):\n",
    "        return Vector(self)"
   ]
  },
  {
   "cell_type": "code",
   "execution_count": 1,
   "metadata": {},
   "outputs": [
    {
     "data": {
      "text/plain": [
       "Decimal('0.3333333333333333333333333333333333333333')"
      ]
     },
     "execution_count": 1,
     "metadata": {},
     "output_type": "execute_result"
    }
   ],
   "source": [
    "#1.  a 和 +a 不相等的示例1\n",
    "\n",
    "# 算术运算上下文的精度变化可能导致x不等于+x\n",
    "\n",
    "import decimal\n",
    "\n",
    "# 获取当前全局算术运算的上下文引用。\n",
    "ctx = decimal.getcontext()\n",
    "\n",
    "# 把算术运算上下文的精度设为40。\n",
    "ctx.prec = 40\n",
    "\n",
    "# 使用当前精度计算1/3。\n",
    "one_third = decimal.Decimal('1') / decimal.Decimal('3')\n",
    "\n",
    "# 查看结果，小数点后有40个数字。\n",
    "one_third"
   ]
  },
  {
   "cell_type": "code",
   "execution_count": 2,
   "metadata": {},
   "outputs": [
    {
     "data": {
      "text/plain": [
       "True"
      ]
     },
     "execution_count": 2,
     "metadata": {},
     "output_type": "execute_result"
    }
   ],
   "source": [
    "# one_third==+one_third返回True。\n",
    "one_third == +one_third"
   ]
  },
  {
   "cell_type": "code",
   "execution_count": 3,
   "metadata": {},
   "outputs": [
    {
     "data": {
      "text/plain": [
       "False"
      ]
     },
     "execution_count": 3,
     "metadata": {},
     "output_type": "execute_result"
    }
   ],
   "source": [
    "# 把精度降低为28，这是Python 3.4为Decimal算术运算设定的默认精度。\n",
    "ctx.prec = 28\n",
    "\n",
    "# 现在，one_third==+one_third返回False。\n",
    "one_third == +one_third"
   ]
  },
  {
   "cell_type": "code",
   "execution_count": 4,
   "metadata": {},
   "outputs": [
    {
     "data": {
      "text/plain": [
       "Decimal('0.3333333333333333333333333333')"
      ]
     },
     "execution_count": 4,
     "metadata": {},
     "output_type": "execute_result"
    }
   ],
   "source": [
    "# 查看+one_third，小数点后有28个数字。\n",
    "+one_third"
   ]
  },
  {
   "cell_type": "code",
   "execution_count": 5,
   "metadata": {},
   "outputs": [
    {
     "data": {
      "text/plain": [
       "Counter({'a': 5, 'b': 2, 'r': 2, 'c': 1, 'd': 1})"
      ]
     },
     "execution_count": 5,
     "metadata": {},
     "output_type": "execute_result"
    }
   ],
   "source": [
    "#1.  a 和 +a 不相等的示例1\n",
    "\n",
    "from collections import Counter\n",
    "\n",
    "ct = Counter('abracadabra')\n",
    "ct"
   ]
  },
  {
   "cell_type": "code",
   "execution_count": 7,
   "metadata": {},
   "outputs": [],
   "source": [
    "ct['r'] = -3\n",
    "ct['d'] = 0"
   ]
  },
  {
   "cell_type": "code",
   "execution_count": 8,
   "metadata": {},
   "outputs": [
    {
     "data": {
      "text/plain": [
       "Counter({'a': 5, 'b': 2, 'c': 1, 'd': 0, 'r': -3})"
      ]
     },
     "execution_count": 8,
     "metadata": {},
     "output_type": "execute_result"
    }
   ],
   "source": [
    "ct"
   ]
  },
  {
   "cell_type": "code",
   "execution_count": 9,
   "metadata": {},
   "outputs": [
    {
     "data": {
      "text/plain": [
       "Counter({'a': 5, 'b': 2, 'c': 1})"
      ]
     },
     "execution_count": 9,
     "metadata": {},
     "output_type": "execute_result"
    }
   ],
   "source": [
    "+ct"
   ]
  },
  {
   "cell_type": "code",
   "execution_count": null,
   "metadata": {},
   "outputs": [],
   "source": []
  }
 ],
 "metadata": {
  "kernelspec": {
   "display_name": "d2l",
   "language": "python",
   "name": "python3"
  },
  "language_info": {
   "codemirror_mode": {
    "name": "ipython",
    "version": 3
   },
   "file_extension": ".py",
   "mimetype": "text/x-python",
   "name": "python",
   "nbconvert_exporter": "python",
   "pygments_lexer": "ipython3",
   "version": "3.9.19"
  }
 },
 "nbformat": 4,
 "nbformat_minor": 2
}
