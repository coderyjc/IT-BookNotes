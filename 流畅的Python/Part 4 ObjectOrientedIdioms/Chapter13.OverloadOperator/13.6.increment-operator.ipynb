{
 "cells": [
  {
   "cell_type": "code",
   "execution_count": null,
   "metadata": {},
   "outputs": [],
   "source": [
    "import itertools\n",
    "from tombola import Tombola\n",
    "from bingo import BingoCage\n",
    "\n",
    "class AddableBingoCage(BingoCage):\n",
    "    def __add__(self, other):\n",
    "        if isinstance(other, Tombola):\n",
    "            return AddableBingoCage(self.inspect() + other.inspect())\n",
    "        else:\n",
    "            return NotImplemented\n",
    "    def __iadd__(self, other):\n",
    "        if isinstance(other, Tombola):\n",
    "            other_iterable = other.inspect()\n",
    "        else:\n",
    "            try:\n",
    "                other_iterable = iter(other)\n",
    "            except TypeError:\n",
    "                self_cls = type(self).__name__\n",
    "                msg = \"right operand in+= must be {!r} or an iterable\"\n",
    "                raise TypeError(msg.format(self_cls))\n",
    "        self.load(other_iterable)\n",
    "        return self"
   ]
  }
 ],
 "metadata": {
  "language_info": {
   "name": "python"
  }
 },
 "nbformat": 4,
 "nbformat_minor": 2
}
