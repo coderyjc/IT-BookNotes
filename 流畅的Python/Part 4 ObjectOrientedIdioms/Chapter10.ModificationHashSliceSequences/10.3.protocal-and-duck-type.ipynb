{
 "cells": [
  {
   "cell_type": "markdown",
   "metadata": {},
   "source": [
    "任何有经验的Python程序员只要看一眼就知道它是序列，即便它是object的子类也无妨。我们说它是序列，因为它的行为像序列，这才是重点。"
   ]
  }
 ],
 "metadata": {
  "language_info": {
   "name": "python"
  }
 },
 "nbformat": 4,
 "nbformat_minor": 2
}
