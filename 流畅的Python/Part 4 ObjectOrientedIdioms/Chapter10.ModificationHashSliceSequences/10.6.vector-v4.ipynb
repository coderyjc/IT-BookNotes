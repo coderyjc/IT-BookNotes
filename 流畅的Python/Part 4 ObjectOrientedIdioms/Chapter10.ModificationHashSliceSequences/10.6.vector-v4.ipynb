{
 "cells": [
  {
   "cell_type": "markdown",
   "metadata": {},
   "source": [
    "使用hash和eq方法将其变成可散列对象，使用reduce实现hash，使用all和zip实现eq"
   ]
  },
  {
   "cell_type": "code",
   "execution_count": 1,
   "metadata": {},
   "outputs": [
    {
     "data": {
      "text/plain": [
       "120"
      ]
     },
     "execution_count": 1,
     "metadata": {},
     "output_type": "execute_result"
    }
   ],
   "source": [
    "# 使用reduce函数可以计算5!（5的阶乘）\n",
    "import functools\n",
    "\n",
    "functools.reduce(lambda a,b: a*b, range(1, 6))"
   ]
  },
  {
   "cell_type": "code",
   "execution_count": 2,
   "metadata": {},
   "outputs": [
    {
     "data": {
      "text/plain": [
       "5"
      ]
     },
     "execution_count": 2,
     "metadata": {},
     "output_type": "execute_result"
    }
   ],
   "source": [
    "# 计算整数0~5的累计异或的3种方式\n",
    "n = 0\n",
    "\n",
    "for i in range(1, 6):\n",
    "    n = i\n",
    "n"
   ]
  },
  {
   "cell_type": "code",
   "execution_count": 3,
   "metadata": {},
   "outputs": [
    {
     "data": {
      "text/plain": [
       "1"
      ]
     },
     "execution_count": 3,
     "metadata": {},
     "output_type": "execute_result"
    }
   ],
   "source": [
    "functools.reduce(lambda a,b: a^b, range(6))"
   ]
  },
  {
   "cell_type": "code",
   "execution_count": 4,
   "metadata": {},
   "outputs": [
    {
     "data": {
      "text/plain": [
       "1"
      ]
     },
     "execution_count": 4,
     "metadata": {},
     "output_type": "execute_result"
    }
   ],
   "source": [
    "import operator\n",
    "\n",
    "functools.reduce(operator.xor, range(6))"
   ]
  },
  {
   "cell_type": "code",
   "execution_count": null,
   "metadata": {},
   "outputs": [],
   "source": [
    "# 继续改进vector\n",
    "\n",
    "# 通过添加len和getitem方法，来让其可切片\n",
    "\n",
    "from array import array\n",
    "import reprlib\n",
    "import math\n",
    "import numbers\n",
    "import functools\n",
    "import operator\n",
    "\n",
    "class Vector:\n",
    "    typecode = 'd'\n",
    "    # _components是受保护的示例属性\n",
    "    def __init__(self, components) -> None:\n",
    "        self._components = array(self.typecode, components)\n",
    "    \n",
    "    # 构造迭代器\n",
    "    def __iter__(self):\n",
    "        return iter(self._components)\n",
    "    \n",
    "    # 可散列\n",
    "    def __hash__(self) -> int:\n",
    "        # 计算各个分量的散列值\n",
    "        hashes = (hash(x) for x in self._components)\n",
    "        # 把hashes提供给reduce函数，使用xor函数计算聚合的散列值；第三个参数，0是初始值\n",
    "        return functools.reduce(operator.xor, hashes, 0)\n",
    "    \n",
    "    def __eq__(self, other) -> bool:\n",
    "        return len(self) == other and all(a == b for a, b in zip(self, other))\n",
    "    \n",
    "    # %r\n",
    "    def __repr__(self) -> str:\n",
    "        # 使用reprlib.repr() 函数获取self._components的有限长度表示形式（如array('d',[0.0, 1.0, 2.0, 3.0, 4.0, ...]))\n",
    "        components = reprlib.repr(self._components)\n",
    "        # 把字符串插入Vector的构造方法调用之前，去掉前面的array('d'和后面的)。\n",
    "        components = components[components.find('['): -1]\n",
    "        return 'Vector({})'.format(components)\n",
    "    \n",
    "    def __str__(self) -> str:\n",
    "        return str(tuple(self))\n",
    "    \n",
    "    # 支持切片和索引\n",
    "    def __len__(self):\n",
    "        return len(self._components)\n",
    "    def __getitem__(self, index):\n",
    "        # 获取实例所属的类\n",
    "        cls = type(self)\n",
    "        # 如果是slice对象\n",
    "        if isinstance(index, slice):\n",
    "            return cls(self._components[index])\n",
    "        # 如果是其他类型，就返回在这个下标的元素\n",
    "        elif isinstance(index, numbers.Integral):\n",
    "            return self._components[index]\n",
    "        else:\n",
    "            msg = '{cls.__name__} indices must be integers'\n",
    "            raise TypeError(msg.format(cls=cls))\n",
    "    \n",
    "    shortcut_names = 'xyzt'\n",
    "    def __getattr__(self, name):\n",
    "        # 获取Vector\n",
    "        cls = type(self)\n",
    "        #  如果属性名只有一个字母，可能是shortcut_names中的一个。\n",
    "        if len(name) == 1:\n",
    "            pos = cls.shortcut_names.find(name)\n",
    "            if 0 <= pos < len(self._components):\n",
    "                # 如果位置落在范围内，返回数组中对应的元素。\n",
    "                return self._components[pos]\n",
    "        # 如果测试都失败了，抛出AttributeError，并指明标准的消息文本。\n",
    "        msg = '{.__name__!r} object has no attribute {!r}'\n",
    "        raise AttributeError(msg.format(cls, name))\n",
    "    def __setattr__(self, name, value):\n",
    "        cls = type(self)\n",
    "        #  特别处理名称是单个字符的属性。\n",
    "        if len(name) == 1:\n",
    "            # 如果name是xyzt中的一个，设置特殊的错误消息。\n",
    "            if name in cls.shortcut_names:\n",
    "                error = 'readonly attribute {attr_name!r}'\n",
    "            # 如果name是小写字母，为所有小写字母设置一个错误消息。\n",
    "            elif name.islower():\n",
    "                error = \"can't set attributes 'a' to 'z' in {cls_name!r}\"\n",
    "            # 否则，把错误消息设为空字符串。\n",
    "            else:\n",
    "                error = ''\n",
    "            if error:\n",
    "                msg = error.format(cls_name=cls.__name__, attr_name=name)\n",
    "                raise AttributeError(msg)\n",
    "        # 默认情况，调用父类的setattr\n",
    "        super().__setattr__(name, value)\n",
    "\n",
    "    # 直接使用 类型代码 + self._components构建bytes对象。\n",
    "    def __bytes__(self):\n",
    "        return (bytes([ord(self.typecode)]) + \n",
    "                bytes(self._components))\n",
    "\n",
    "\n",
    "    # 不能使用hypot方法了，因此我们先计算各分量的平方之和，然后再使用sqrt方法开平方。\n",
    "    def __abs__(self):\n",
    "        return math.sqrt(sum(x * x for x in self))\n",
    "\n",
    "    def __bool__(self):\n",
    "        return bool(abs(self))\n",
    "    \n",
    "    @classmethod\n",
    "    def frombytes(cls, octets):\n",
    "        typecode = chr(octets[0])\n",
    "        memv = memoryview(octets[1:]).cast(typecode)\n",
    "        return cls(memv)"
   ]
  },
  {
   "cell_type": "code",
   "execution_count": 5,
   "metadata": {},
   "outputs": [
    {
     "data": {
      "text/plain": [
       "<zip at 0x22459f8d940>"
      ]
     },
     "execution_count": 5,
     "metadata": {},
     "output_type": "execute_result"
    }
   ],
   "source": [
    "# 演示zip内置函数\n",
    "zip(range(3), 'ABC')"
   ]
  },
  {
   "cell_type": "code",
   "execution_count": 6,
   "metadata": {},
   "outputs": [
    {
     "data": {
      "text/plain": [
       "[(0, 'A'), (1, 'B'), (2, 'C')]"
      ]
     },
     "execution_count": 6,
     "metadata": {},
     "output_type": "execute_result"
    }
   ],
   "source": [
    "list(zip(range(3), 'ABC'))"
   ]
  },
  {
   "cell_type": "code",
   "execution_count": 7,
   "metadata": {},
   "outputs": [
    {
     "data": {
      "text/plain": [
       "[(0, 'A', 0), (1, 'B', 1), (2, 'C', 2)]"
      ]
     },
     "execution_count": 7,
     "metadata": {},
     "output_type": "execute_result"
    }
   ],
   "source": [
    "list(zip(range(3), 'ABC', [0, 1, 2]))"
   ]
  },
  {
   "cell_type": "code",
   "execution_count": 8,
   "metadata": {},
   "outputs": [
    {
     "data": {
      "text/plain": [
       "[(0, 'A', 0), (1, 'B', 1), (2, 'C', 2), (-1, -1, 3)]"
      ]
     },
     "execution_count": 8,
     "metadata": {},
     "output_type": "execute_result"
    }
   ],
   "source": [
    "from itertools import zip_longest\n",
    "\n",
    "list(zip_longest(range(3), 'ABC', [0, 1, 2, 3], fillvalue=-1))"
   ]
  },
  {
   "cell_type": "code",
   "execution_count": null,
   "metadata": {},
   "outputs": [],
   "source": []
  }
 ],
 "metadata": {
  "kernelspec": {
   "display_name": "d2l",
   "language": "python",
   "name": "python3"
  },
  "language_info": {
   "codemirror_mode": {
    "name": "ipython",
    "version": 3
   },
   "file_extension": ".py",
   "mimetype": "text/x-python",
   "name": "python",
   "nbconvert_exporter": "python",
   "pygments_lexer": "ipython3",
   "version": "3.9.19"
  }
 },
 "nbformat": 4,
 "nbformat_minor": 2
}
