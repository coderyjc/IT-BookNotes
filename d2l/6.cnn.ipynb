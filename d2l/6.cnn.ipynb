{
 "cells": [
  {
   "metadata": {},
   "cell_type": "markdown",
   "source": "## 6.1 从全连接层到卷积",
   "id": "299f338d416a74a5"
  },
  {
   "metadata": {},
   "cell_type": "markdown",
   "source": "## 6.2 图像卷积",
   "id": "ed35f95acaec43af"
  },
  {
   "metadata": {},
   "cell_type": "markdown",
   "source": "### 6.2.1 互相关运算",
   "id": "a14f5ca5b6081241"
  },
  {
   "metadata": {
    "ExecuteTime": {
     "end_time": "2024-04-28T06:41:36.297508Z",
     "start_time": "2024-04-28T06:41:34.800222Z"
    }
   },
   "cell_type": "code",
   "source": [
    "import torch\n",
    "import torch.nn as nn\n",
    "from d2l import torch as d2l"
   ],
   "id": "ca7bfd5a2666fefa",
   "outputs": [],
   "execution_count": 1
  },
  {
   "metadata": {
    "ExecuteTime": {
     "end_time": "2024-04-28T06:44:38.501682Z",
     "start_time": "2024-04-28T06:44:38.494700Z"
    }
   },
   "cell_type": "code",
   "source": [
    "def corr2d(X, K): #@save\n",
    "  h, w = K.shape\n",
    "  Y = torch.zeros((X.shape[0] - h + 1, X.shape[1] - w + 1))\n",
    "  for i in range(Y.shape[0]):\n",
    "    for j in range(Y.shape[1]):\n",
    "      Y[i, j] = (X[i: i + h, j: j + w] * K).sum()\n",
    "  return Y"
   ],
   "id": "2a2c60f890b6d718",
   "outputs": [],
   "execution_count": 5
  },
  {
   "metadata": {
    "ExecuteTime": {
     "end_time": "2024-04-28T06:44:38.625593Z",
     "start_time": "2024-04-28T06:44:38.602414Z"
    }
   },
   "cell_type": "code",
   "source": [
    "X = torch.tensor([[0.0, 1.0, 2.0], [3.0, 4.0, 5.0], [6.0, 7.0, 8.0]])\n",
    "K = torch.tensor([[0.0, 1.0], [2.0, 3.0]])\n",
    "corr2d(X, K)"
   ],
   "id": "854e61934cd87578",
   "outputs": [
    {
     "data": {
      "text/plain": [
       "tensor([[19., 25.],\n",
       "        [37., 43.]])"
      ]
     },
     "execution_count": 6,
     "metadata": {},
     "output_type": "execute_result"
    }
   ],
   "execution_count": 6
  },
  {
   "metadata": {
    "ExecuteTime": {
     "end_time": "2024-04-28T06:51:24.795099Z",
     "start_time": "2024-04-28T06:51:24.776135Z"
    }
   },
   "cell_type": "code",
   "source": [
    "class Conv2D(nn.Module):\n",
    "  def __init__(self, kernel_size):\n",
    "    super().__init__()\n",
    "    self.weight = nn.Parameter(torch.rand(kernel_size))\n",
    "    self.bias = nn.Parameter(torch.zeros(1))\n",
    "    \n",
    "  def forward(self, x):\n",
    "    return corr2d(x, self.weight) + self.bias"
   ],
   "id": "8d4d04e8df790cc4",
   "outputs": [],
   "execution_count": 7
  },
  {
   "metadata": {},
   "cell_type": "markdown",
   "source": "### 6.2.3 图像中目标的边缘检测",
   "id": "97bcb934a165ec17"
  },
  {
   "metadata": {
    "ExecuteTime": {
     "end_time": "2024-04-28T06:53:05.527519Z",
     "start_time": "2024-04-28T06:53:05.510565Z"
    }
   },
   "cell_type": "code",
   "source": [
    "X = torch.ones((6, 8))\n",
    "X[:, 2:6] = 0\n",
    "X"
   ],
   "id": "836c7fefc40b0d4",
   "outputs": [
    {
     "data": {
      "text/plain": [
       "tensor([[1., 1., 0., 0., 0., 0., 1., 1.],\n",
       "        [1., 1., 0., 0., 0., 0., 1., 1.],\n",
       "        [1., 1., 0., 0., 0., 0., 1., 1.],\n",
       "        [1., 1., 0., 0., 0., 0., 1., 1.],\n",
       "        [1., 1., 0., 0., 0., 0., 1., 1.],\n",
       "        [1., 1., 0., 0., 0., 0., 1., 1.]])"
      ]
     },
     "execution_count": 10,
     "metadata": {},
     "output_type": "execute_result"
    }
   ],
   "execution_count": 10
  },
  {
   "metadata": {
    "ExecuteTime": {
     "end_time": "2024-04-28T06:53:44.147584Z",
     "start_time": "2024-04-28T06:53:44.134619Z"
    }
   },
   "cell_type": "code",
   "source": "K = torch.tensor([[1.0, -1.0]])",
   "id": "1dd0f0a45912e857",
   "outputs": [],
   "execution_count": 11
  },
  {
   "metadata": {
    "ExecuteTime": {
     "end_time": "2024-04-28T06:53:50.388753Z",
     "start_time": "2024-04-28T06:53:50.371798Z"
    }
   },
   "cell_type": "code",
   "source": [
    "Y = corr2d(X, K)\n",
    "Y"
   ],
   "id": "80549d478bb525d2",
   "outputs": [
    {
     "data": {
      "text/plain": [
       "tensor([[ 0.,  1.,  0.,  0.,  0., -1.,  0.],\n",
       "        [ 0.,  1.,  0.,  0.,  0., -1.,  0.],\n",
       "        [ 0.,  1.,  0.,  0.,  0., -1.,  0.],\n",
       "        [ 0.,  1.,  0.,  0.,  0., -1.,  0.],\n",
       "        [ 0.,  1.,  0.,  0.,  0., -1.,  0.],\n",
       "        [ 0.,  1.,  0.,  0.,  0., -1.,  0.]])"
      ]
     },
     "execution_count": 12,
     "metadata": {},
     "output_type": "execute_result"
    }
   ],
   "execution_count": 12
  },
  {
   "metadata": {
    "ExecuteTime": {
     "end_time": "2024-04-28T06:54:02.251219Z",
     "start_time": "2024-04-28T06:54:02.233802Z"
    }
   },
   "cell_type": "code",
   "source": "corr2d(X.t(), K)",
   "id": "febc16f6120a4f9e",
   "outputs": [
    {
     "data": {
      "text/plain": [
       "tensor([[0., 0., 0., 0., 0.],\n",
       "        [0., 0., 0., 0., 0.],\n",
       "        [0., 0., 0., 0., 0.],\n",
       "        [0., 0., 0., 0., 0.],\n",
       "        [0., 0., 0., 0., 0.],\n",
       "        [0., 0., 0., 0., 0.],\n",
       "        [0., 0., 0., 0., 0.],\n",
       "        [0., 0., 0., 0., 0.]])"
      ]
     },
     "execution_count": 13,
     "metadata": {},
     "output_type": "execute_result"
    }
   ],
   "execution_count": 13
  },
  {
   "metadata": {},
   "cell_type": "markdown",
   "source": "### 6.2.4 学习卷积核",
   "id": "b57a43cef47d57d3"
  },
  {
   "metadata": {
    "ExecuteTime": {
     "end_time": "2024-04-28T07:01:49.587839Z",
     "start_time": "2024-04-28T07:01:49.552933Z"
    }
   },
   "cell_type": "code",
   "source": [
    "conv2d = nn.Conv2d(1, 1, kernel_size=(1, 2), bias=False)\n",
    "\n",
    "X = X.reshape((1, 1, 6, 8))\n",
    "Y = Y.reshape((1, 1, 6, 7))\n",
    "\n",
    "lr = 3e-2\n",
    "\n",
    "for i in range(100):\n",
    "  Y_hat = conv2d(X)\n",
    "  l = (Y_hat - Y) ** 2\n",
    "  conv2d.zero_grad()\n",
    "  l.sum().backward()\n",
    "  conv2d.weight.data[:] -= lr * conv2d.weight.grad\n",
    "  if (i + 1) % 2 == 0:\n",
    "    print(f'epoch {i + 1}, loss = {l.sum():.3f}')"
   ],
   "id": "3a0e33f9a9597f81",
   "outputs": [
    {
     "name": "stdout",
     "output_type": "stream",
     "text": [
      "epoch 2, loss = 8.906\n",
      "epoch 4, loss = 2.047\n",
      "epoch 6, loss = 0.570\n",
      "epoch 8, loss = 0.188\n",
      "epoch 10, loss = 0.070\n",
      "epoch 12, loss = 0.027\n",
      "epoch 14, loss = 0.011\n",
      "epoch 16, loss = 0.004\n",
      "epoch 18, loss = 0.002\n",
      "epoch 20, loss = 0.001\n",
      "epoch 22, loss = 0.000\n",
      "epoch 24, loss = 0.000\n",
      "epoch 26, loss = 0.000\n",
      "epoch 28, loss = 0.000\n",
      "epoch 30, loss = 0.000\n",
      "epoch 32, loss = 0.000\n",
      "epoch 34, loss = 0.000\n",
      "epoch 36, loss = 0.000\n",
      "epoch 38, loss = 0.000\n",
      "epoch 40, loss = 0.000\n",
      "epoch 42, loss = 0.000\n",
      "epoch 44, loss = 0.000\n",
      "epoch 46, loss = 0.000\n",
      "epoch 48, loss = 0.000\n",
      "epoch 50, loss = 0.000\n",
      "epoch 52, loss = 0.000\n",
      "epoch 54, loss = 0.000\n",
      "epoch 56, loss = 0.000\n",
      "epoch 58, loss = 0.000\n",
      "epoch 60, loss = 0.000\n",
      "epoch 62, loss = 0.000\n",
      "epoch 64, loss = 0.000\n",
      "epoch 66, loss = 0.000\n",
      "epoch 68, loss = 0.000\n",
      "epoch 70, loss = 0.000\n",
      "epoch 72, loss = 0.000\n",
      "epoch 74, loss = 0.000\n",
      "epoch 76, loss = 0.000\n",
      "epoch 78, loss = 0.000\n",
      "epoch 80, loss = 0.000\n",
      "epoch 82, loss = 0.000\n",
      "epoch 84, loss = 0.000\n",
      "epoch 86, loss = 0.000\n",
      "epoch 88, loss = 0.000\n",
      "epoch 90, loss = 0.000\n",
      "epoch 92, loss = 0.000\n",
      "epoch 94, loss = 0.000\n",
      "epoch 96, loss = 0.000\n",
      "epoch 98, loss = 0.000\n",
      "epoch 100, loss = 0.000\n"
     ]
    }
   ],
   "execution_count": 17
  },
  {
   "metadata": {
    "ExecuteTime": {
     "end_time": "2024-04-28T07:01:52.370868Z",
     "start_time": "2024-04-28T07:01:52.351919Z"
    }
   },
   "cell_type": "code",
   "source": "conv2d.weight.data.reshape((1, 2))",
   "id": "cf379d9db940af65",
   "outputs": [
    {
     "data": {
      "text/plain": [
       "tensor([[ 1.0000, -1.0000]])"
      ]
     },
     "execution_count": 18,
     "metadata": {},
     "output_type": "execute_result"
    }
   ],
   "execution_count": 18
  },
  {
   "metadata": {},
   "cell_type": "markdown",
   "source": "## 6.3 填充和步幅",
   "id": "4886e4ebb1229900"
  },
  {
   "metadata": {},
   "cell_type": "markdown",
   "source": "### 6.3.1 填充",
   "id": "1716fc2f00e36ee7"
  },
  {
   "metadata": {
    "ExecuteTime": {
     "end_time": "2024-04-28T07:07:18.140569Z",
     "start_time": "2024-04-28T07:07:18.126606Z"
    }
   },
   "cell_type": "code",
   "source": [
    "import torch\n",
    "from torch import nn"
   ],
   "id": "aed7e21ed94eb60",
   "outputs": [],
   "execution_count": 19
  },
  {
   "metadata": {
    "ExecuteTime": {
     "end_time": "2024-04-28T07:08:52.630798Z",
     "start_time": "2024-04-28T07:08:52.612845Z"
    }
   },
   "cell_type": "code",
   "source": [
    "def comp_conv2d(conv2d, X):\n",
    "  X = X.reshape((1, 1) + X.shape)\n",
    "  Y = conv2d(X)\n",
    "  return Y.reshape(Y.shape[2:])\n",
    "\n",
    "conv2d = nn.Conv2d(1, 1, kernel_size=3, padding=1)\n",
    "X = torch.rand(size=(8, 8))\n",
    "\n",
    "comp_conv2d(conv2d, X).shape"
   ],
   "id": "25ce0a7b27d3861a",
   "outputs": [
    {
     "data": {
      "text/plain": [
       "torch.Size([8, 8])"
      ]
     },
     "execution_count": 20,
     "metadata": {},
     "output_type": "execute_result"
    }
   ],
   "execution_count": 20
  },
  {
   "metadata": {
    "ExecuteTime": {
     "end_time": "2024-04-28T07:09:35.873880Z",
     "start_time": "2024-04-28T07:09:35.855964Z"
    }
   },
   "cell_type": "code",
   "source": [
    "conv2d = nn.Conv2d(1, 1, kernel_size=(5, 3), padding=(2, 1))\n",
    "comp_conv2d(conv2d, X).shape"
   ],
   "id": "c7dc227dc563f5f6",
   "outputs": [
    {
     "data": {
      "text/plain": [
       "torch.Size([8, 8])"
      ]
     },
     "execution_count": 21,
     "metadata": {},
     "output_type": "execute_result"
    }
   ],
   "execution_count": 21
  },
  {
   "metadata": {},
   "cell_type": "markdown",
   "source": "### 6.3.2 步幅",
   "id": "cd5bf4cfb363816b"
  },
  {
   "metadata": {
    "ExecuteTime": {
     "end_time": "2024-04-28T07:10:25.128201Z",
     "start_time": "2024-04-28T07:10:25.119226Z"
    }
   },
   "cell_type": "code",
   "source": [
    "conv2d = nn.Conv2d(1, 1, kernel_size=3, padding=1, stride=2)\n",
    "comp_conv2d(conv2d, X).shape"
   ],
   "id": "f573ba22c42f1011",
   "outputs": [
    {
     "data": {
      "text/plain": [
       "torch.Size([4, 4])"
      ]
     },
     "execution_count": 22,
     "metadata": {},
     "output_type": "execute_result"
    }
   ],
   "execution_count": 22
  },
  {
   "metadata": {
    "ExecuteTime": {
     "end_time": "2024-04-28T07:10:37.644931Z",
     "start_time": "2024-04-28T07:10:37.624985Z"
    }
   },
   "cell_type": "code",
   "source": [
    "conv2d = nn.Conv2d(1, 1, kernel_size=(3, 5), padding=(0, 1), stride=(3, 4))\n",
    "comp_conv2d(conv2d, X).shape"
   ],
   "id": "44cc66bfc04283db",
   "outputs": [
    {
     "data": {
      "text/plain": [
       "torch.Size([2, 2])"
      ]
     },
     "execution_count": 23,
     "metadata": {},
     "output_type": "execute_result"
    }
   ],
   "execution_count": 23
  },
  {
   "metadata": {},
   "cell_type": "markdown",
   "source": "## 6.4 多输入输出通道",
   "id": "23e1a225acf4c24d"
  },
  {
   "metadata": {},
   "cell_type": "markdown",
   "source": "### 6.4.1 多输入通道",
   "id": "7975279a4b323f72"
  },
  {
   "metadata": {
    "ExecuteTime": {
     "end_time": "2024-04-28T07:12:07.291537Z",
     "start_time": "2024-04-28T07:12:07.278007Z"
    }
   },
   "cell_type": "code",
   "source": [
    "import torch \n",
    "from d2l import torch as d2l"
   ],
   "id": "514fcd80a6d30b29",
   "outputs": [],
   "execution_count": 24
  },
  {
   "metadata": {
    "ExecuteTime": {
     "end_time": "2024-04-28T07:12:34.604385Z",
     "start_time": "2024-04-28T07:12:34.598402Z"
    }
   },
   "cell_type": "code",
   "source": [
    "def corr2d_multi_in(X, K):\n",
    "  return sum(d2l.corr2d(x, k) for x, k in zip(X, K))"
   ],
   "id": "b02dd6f6b64308c1",
   "outputs": [],
   "execution_count": 25
  },
  {
   "metadata": {
    "ExecuteTime": {
     "end_time": "2024-04-28T07:12:51.724553Z",
     "start_time": "2024-04-28T07:12:51.710586Z"
    }
   },
   "cell_type": "code",
   "source": [
    "X = torch.tensor([[[0.0, 1.0, 2.0], [3.0, 4.0, 5.0], [6.0, 7.0, 8.0]],\n",
    "                  [[1.0, 2.0, 3.0], [4.0, 5.0, 6.0], [7.0, 8.0, 9.0]]])\n",
    "\n",
    "K = torch.tensor([[[0.0, 1.0], [2.0, 3.0]], [[1.0, 2.0], [3.0, 4.0]]])\n",
    "\n",
    "corr2d_multi_in(X, K)"
   ],
   "id": "e11b4049597c6db5",
   "outputs": [
    {
     "data": {
      "text/plain": [
       "tensor([[ 56.,  72.],\n",
       "        [104., 120.]])"
      ]
     },
     "execution_count": 26,
     "metadata": {},
     "output_type": "execute_result"
    }
   ],
   "execution_count": 26
  },
  {
   "metadata": {},
   "cell_type": "markdown",
   "source": "### 6.4.2 多输出通道",
   "id": "80d3bee504a51581"
  },
  {
   "metadata": {
    "ExecuteTime": {
     "end_time": "2024-04-28T07:14:11.604633Z",
     "start_time": "2024-04-28T07:14:11.584707Z"
    }
   },
   "cell_type": "code",
   "source": [
    "def corr2d_multi_in_out(X, K):\n",
    "  return torch.stack([corr2d_multi_in(X, k) for k in K], 0)"
   ],
   "id": "4220b5c407f5eb7a",
   "outputs": [],
   "execution_count": 27
  },
  {
   "metadata": {
    "ExecuteTime": {
     "end_time": "2024-04-28T07:14:24.204915Z",
     "start_time": "2024-04-28T07:14:24.193909Z"
    }
   },
   "cell_type": "code",
   "source": [
    "K = torch.stack((K, K + 1, K + 2), 0)\n",
    "\n",
    "K.shape"
   ],
   "id": "b8d7bbfdac86217f",
   "outputs": [
    {
     "data": {
      "text/plain": [
       "torch.Size([3, 2, 2, 2])"
      ]
     },
     "execution_count": 28,
     "metadata": {},
     "output_type": "execute_result"
    }
   ],
   "execution_count": 28
  },
  {
   "metadata": {
    "ExecuteTime": {
     "end_time": "2024-04-28T07:14:59.610180Z",
     "start_time": "2024-04-28T07:14:59.601850Z"
    }
   },
   "cell_type": "code",
   "source": "corr2d_multi_in_out(X, K)",
   "id": "e96971804edc6d0e",
   "outputs": [
    {
     "data": {
      "text/plain": [
       "tensor([[[ 56.,  72.],\n",
       "         [104., 120.]],\n",
       "\n",
       "        [[ 76., 100.],\n",
       "         [148., 172.]],\n",
       "\n",
       "        [[ 96., 128.],\n",
       "         [192., 224.]]])"
      ]
     },
     "execution_count": 29,
     "metadata": {},
     "output_type": "execute_result"
    }
   ],
   "execution_count": 29
  },
  {
   "metadata": {},
   "cell_type": "markdown",
   "source": "### 6.4.3 1x1卷积层",
   "id": "600609fefca39cf5"
  },
  {
   "metadata": {
    "ExecuteTime": {
     "end_time": "2024-04-28T07:22:24.051634Z",
     "start_time": "2024-04-28T07:22:24.041626Z"
    }
   },
   "cell_type": "code",
   "source": [
    "def corr2d_multi_in_out_1x1(X, K):\n",
    "  c_i, h, w = X.shape\n",
    "  c_o = K.shape[0]\n",
    "  X = X.reshape((c_i, h * w))\n",
    "  K = K.reshape((c_o, c_i))\n",
    "  Y = torch.matmul(K, X)\n",
    "  return Y.reshape((c_o, h, w))"
   ],
   "id": "18bd7937afdea9a4",
   "outputs": [],
   "execution_count": 30
  },
  {
   "metadata": {
    "ExecuteTime": {
     "end_time": "2024-04-28T07:22:42.181681Z",
     "start_time": "2024-04-28T07:22:42.164579Z"
    }
   },
   "cell_type": "code",
   "source": [
    "X = torch.normal(0, 1, (3, 3, 3))\n",
    "K = torch.normal(0, 1, (2, 3, 1, 1))"
   ],
   "id": "8a6d94c138907fa",
   "outputs": [],
   "execution_count": 32
  },
  {
   "metadata": {
    "ExecuteTime": {
     "end_time": "2024-04-28T07:22:45.392010Z",
     "start_time": "2024-04-28T07:22:45.372037Z"
    }
   },
   "cell_type": "code",
   "source": [
    "Y1 = corr2d_multi_in_out_1x1(X, K)\n",
    "Y2 = corr2d_multi_in_out(X, K)\n",
    "\n",
    "assert float(torch.abs(Y1 - Y2).sum())"
   ],
   "id": "7aa8b65d5c331a4b",
   "outputs": [
    {
     "ename": "AssertionError",
     "evalue": "",
     "output_type": "error",
     "traceback": [
      "\u001B[1;31m---------------------------------------------------------------------------\u001B[0m",
      "\u001B[1;31mAssertionError\u001B[0m                            Traceback (most recent call last)",
      "Cell \u001B[1;32mIn[33], line 4\u001B[0m\n\u001B[0;32m      1\u001B[0m Y1 \u001B[38;5;241m=\u001B[39m corr2d_multi_in_out_1x1(X, K)\n\u001B[0;32m      2\u001B[0m Y2 \u001B[38;5;241m=\u001B[39m corr2d_multi_in_out(X, K)\n\u001B[1;32m----> 4\u001B[0m \u001B[38;5;28;01massert\u001B[39;00m \u001B[38;5;28mfloat\u001B[39m(torch\u001B[38;5;241m.\u001B[39mabs(Y1 \u001B[38;5;241m-\u001B[39m Y2)\u001B[38;5;241m.\u001B[39msum())\n",
      "\u001B[1;31mAssertionError\u001B[0m: "
     ]
    }
   ],
   "execution_count": 33
  },
  {
   "metadata": {},
   "cell_type": "markdown",
   "source": "## 6.5 汇聚层",
   "id": "d7d1a55433e91edb"
  },
  {
   "metadata": {},
   "cell_type": "markdown",
   "source": "### 6.5.1 最大汇聚层和平均汇聚层",
   "id": "3c103de51177fb2e"
  },
  {
   "metadata": {
    "ExecuteTime": {
     "end_time": "2024-04-28T13:21:05.641388Z",
     "start_time": "2024-04-28T13:21:03.096550Z"
    }
   },
   "cell_type": "code",
   "source": [
    "import torch\n",
    "from torch import nn\n",
    "from d2l import torch as d2l"
   ],
   "id": "8d2985c508fe4183",
   "outputs": [],
   "execution_count": 1
  },
  {
   "metadata": {
    "ExecuteTime": {
     "end_time": "2024-04-28T13:25:32.619429Z",
     "start_time": "2024-04-28T13:25:32.606465Z"
    }
   },
   "cell_type": "code",
   "source": [
    "\n",
    "def pool2d(X, pool_size, mode='max'):\n",
    "  p_h, p_w = pool_size\n",
    "  Y =  torch.zeros((X.shape[0] - p_h + 1, X.shape[1] - p_w + 1))\n",
    "  for i in range(Y.shape[0]):\n",
    "    for j in range(Y.shape[1]):\n",
    "      if mode == 'max':\n",
    "        Y[i, j] = X[i: i + p_h, j: j + p_w].max()\n",
    "      elif mode == 'avg':\n",
    "        Y[i, j] = X[i: i + p_h, j: j + p_w].mean()\n",
    "  return Y"
   ],
   "id": "dc398453011ee518",
   "outputs": [],
   "execution_count": 2
  },
  {
   "metadata": {
    "ExecuteTime": {
     "end_time": "2024-04-28T13:26:02.439073Z",
     "start_time": "2024-04-28T13:26:02.424113Z"
    }
   },
   "cell_type": "code",
   "source": [
    "X = torch.tensor([[0.0, 1.0, 2.0], [3.0, 4.0, 5.0], [6.0, 7.0, 8.0]])\n",
    "pool2d(X, (2, 2))"
   ],
   "id": "fdedb9a062ffc84c",
   "outputs": [
    {
     "data": {
      "text/plain": [
       "tensor([[4., 5.],\n",
       "        [7., 8.]])"
      ]
     },
     "execution_count": 3,
     "metadata": {},
     "output_type": "execute_result"
    }
   ],
   "execution_count": 3
  },
  {
   "metadata": {
    "ExecuteTime": {
     "end_time": "2024-04-28T13:26:16.587185Z",
     "start_time": "2024-04-28T13:26:16.580203Z"
    }
   },
   "cell_type": "code",
   "source": "pool2d(X, (2, 2), 'avg')",
   "id": "fddf65c094f709eb",
   "outputs": [
    {
     "data": {
      "text/plain": [
       "tensor([[2., 3.],\n",
       "        [5., 6.]])"
      ]
     },
     "execution_count": 4,
     "metadata": {},
     "output_type": "execute_result"
    }
   ],
   "execution_count": 4
  },
  {
   "metadata": {},
   "cell_type": "markdown",
   "source": "### 6.5.2 填充和步幅",
   "id": "ceb0ad41ac1c1990"
  },
  {
   "metadata": {
    "ExecuteTime": {
     "end_time": "2024-04-28T13:27:33.394773Z",
     "start_time": "2024-04-28T13:27:33.382807Z"
    }
   },
   "cell_type": "code",
   "source": [
    "X = torch.arange(16, dtype=torch.float32).reshape((1, 1, 4, 4))\n",
    "X"
   ],
   "id": "4d14d95c3bcfab6a",
   "outputs": [
    {
     "data": {
      "text/plain": [
       "tensor([[[[ 0.,  1.,  2.,  3.],\n",
       "          [ 4.,  5.,  6.,  7.],\n",
       "          [ 8.,  9., 10., 11.],\n",
       "          [12., 13., 14., 15.]]]])"
      ]
     },
     "execution_count": 5,
     "metadata": {},
     "output_type": "execute_result"
    }
   ],
   "execution_count": 5
  },
  {
   "metadata": {
    "ExecuteTime": {
     "end_time": "2024-04-28T13:27:58.274606Z",
     "start_time": "2024-04-28T13:27:58.262640Z"
    }
   },
   "cell_type": "code",
   "source": [
    "pool2d = nn.MaxPool2d(3)\n",
    "pool2d(X)"
   ],
   "id": "3328edb9d5787784",
   "outputs": [
    {
     "data": {
      "text/plain": [
       "tensor([[[[10.]]]])"
      ]
     },
     "execution_count": 6,
     "metadata": {},
     "output_type": "execute_result"
    }
   ],
   "execution_count": 6
  },
  {
   "metadata": {
    "ExecuteTime": {
     "end_time": "2024-04-28T13:28:23.043674Z",
     "start_time": "2024-04-28T13:28:23.030709Z"
    }
   },
   "cell_type": "code",
   "source": [
    "pool2d = nn.MaxPool2d(3, padding=1, stride=2)\n",
    "pool2d(X)"
   ],
   "id": "93c533d3829ebbda",
   "outputs": [
    {
     "data": {
      "text/plain": [
       "tensor([[[[ 5.,  7.],\n",
       "          [13., 15.]]]])"
      ]
     },
     "execution_count": 8,
     "metadata": {},
     "output_type": "execute_result"
    }
   ],
   "execution_count": 8
  },
  {
   "metadata": {
    "ExecuteTime": {
     "end_time": "2024-04-28T13:29:00.590426Z",
     "start_time": "2024-04-28T13:29:00.570473Z"
    }
   },
   "cell_type": "code",
   "source": [
    "pool2d = nn.MaxPool2d((2, 3), padding=(0, 1), stride=(2, 3))\n",
    "pool2d(X)"
   ],
   "id": "c4c790e3b8ba6277",
   "outputs": [
    {
     "data": {
      "text/plain": [
       "tensor([[[[ 5.,  7.],\n",
       "          [13., 15.]]]])"
      ]
     },
     "execution_count": 10,
     "metadata": {},
     "output_type": "execute_result"
    }
   ],
   "execution_count": 10
  },
  {
   "metadata": {},
   "cell_type": "markdown",
   "source": "### 6.5.3 多个通道",
   "id": "897d59aa063abbcd"
  },
  {
   "metadata": {
    "ExecuteTime": {
     "end_time": "2024-04-28T13:29:26.519905Z",
     "start_time": "2024-04-28T13:29:26.512924Z"
    }
   },
   "cell_type": "code",
   "source": [
    "X = torch.cat((X, X + 1), 1)\n",
    "X"
   ],
   "id": "7fd271af42002e12",
   "outputs": [
    {
     "data": {
      "text/plain": [
       "tensor([[[[ 0.,  1.,  2.,  3.],\n",
       "          [ 4.,  5.,  6.,  7.],\n",
       "          [ 8.,  9., 10., 11.],\n",
       "          [12., 13., 14., 15.]],\n",
       "\n",
       "         [[ 1.,  2.,  3.,  4.],\n",
       "          [ 5.,  6.,  7.,  8.],\n",
       "          [ 9., 10., 11., 12.],\n",
       "          [13., 14., 15., 16.]]]])"
      ]
     },
     "execution_count": 11,
     "metadata": {},
     "output_type": "execute_result"
    }
   ],
   "execution_count": 11
  },
  {
   "metadata": {
    "ExecuteTime": {
     "end_time": "2024-04-28T13:29:46.177248Z",
     "start_time": "2024-04-28T13:29:46.170269Z"
    }
   },
   "cell_type": "code",
   "source": [
    "pool2d = nn.MaxPool2d(3, padding=1, stride=2)\n",
    "pool2d(X)"
   ],
   "id": "8f13720aca477621",
   "outputs": [
    {
     "data": {
      "text/plain": [
       "tensor([[[[ 5.,  7.],\n",
       "          [13., 15.]],\n",
       "\n",
       "         [[ 6.,  8.],\n",
       "          [14., 16.]]]])"
      ]
     },
     "execution_count": 13,
     "metadata": {},
     "output_type": "execute_result"
    }
   ],
   "execution_count": 13
  },
  {
   "metadata": {},
   "cell_type": "markdown",
   "source": "## 6.6 卷积神经网络LeNet",
   "id": "87be657804852223"
  },
  {
   "metadata": {
    "ExecuteTime": {
     "end_time": "2024-04-28T13:33:05.584191Z",
     "start_time": "2024-04-28T13:33:05.570194Z"
    }
   },
   "cell_type": "code",
   "source": [
    "import torch\n",
    "from torch import nn\n",
    "from d2l import torch as d2l"
   ],
   "id": "3ede145e64402de8",
   "outputs": [],
   "execution_count": 14
  },
  {
   "metadata": {
    "ExecuteTime": {
     "end_time": "2024-04-28T13:58:16.402038Z",
     "start_time": "2024-04-28T13:58:16.380965Z"
    }
   },
   "cell_type": "code",
   "source": [
    "net = nn.Sequential(\n",
    "  nn.Conv2d(1, 6, kernel_size=5, padding=2), nn.Sigmoid(),\n",
    "  nn.AvgPool2d(kernel_size=2, stride=2),\n",
    "  nn.Conv2d(6, 16, kernel_size=5), nn.Sigmoid(),\n",
    "  nn.AvgPool2d(kernel_size=2, stride=2),\n",
    "  nn.Flatten(),\n",
    "  nn.Linear(16 * 5 * 5, 120), nn.Sigmoid(),\n",
    "  nn.Linear(120, 84), nn.Sigmoid(),\n",
    "  nn.Linear(84, 10)\n",
    ")"
   ],
   "id": "63faed741c1709e4",
   "outputs": [],
   "execution_count": 31
  },
  {
   "metadata": {
    "ExecuteTime": {
     "end_time": "2024-04-28T13:35:51.249393Z",
     "start_time": "2024-04-28T13:35:51.235083Z"
    }
   },
   "cell_type": "code",
   "source": [
    "X = torch.rand(size=(1, 1, 28, 28), dtype=torch.float32)\n",
    "for layer in net:\n",
    "  X = layer(X)\n",
    "  print(layer.__class__.__name__, 'output shape: \\t', X.shape)"
   ],
   "id": "ed42e82d0c436d01",
   "outputs": [
    {
     "name": "stdout",
     "output_type": "stream",
     "text": [
      "Conv2d output shape: \t torch.Size([1, 6, 28, 28])\n",
      "Sigmoid output shape: \t torch.Size([1, 6, 28, 28])\n",
      "AvgPool2d output shape: \t torch.Size([1, 6, 14, 14])\n",
      "Conv2d output shape: \t torch.Size([1, 16, 10, 10])\n",
      "Sigmoid output shape: \t torch.Size([1, 16, 10, 10])\n",
      "AvgPool2d output shape: \t torch.Size([1, 16, 5, 5])\n",
      "Flatten output shape: \t torch.Size([1, 400])\n",
      "Linear output shape: \t torch.Size([1, 120])\n",
      "Sigmoid output shape: \t torch.Size([1, 120])\n",
      "Linear output shape: \t torch.Size([1, 84])\n",
      "Sigmoid output shape: \t torch.Size([1, 84])\n",
      "Linear output shape: \t torch.Size([1, 10])\n"
     ]
    }
   ],
   "execution_count": 17
  },
  {
   "metadata": {},
   "cell_type": "markdown",
   "source": "### 6.6.2 模型训练",
   "id": "9d20ca8f408d3e5f"
  },
  {
   "metadata": {
    "ExecuteTime": {
     "end_time": "2024-04-28T13:36:53.652487Z",
     "start_time": "2024-04-28T13:36:34.830638Z"
    }
   },
   "cell_type": "code",
   "source": [
    "batch_size = 256\n",
    "train_iter, test_iter = d2l.load_data_fashion_mnist(batch_size=batch_size)"
   ],
   "id": "1eb27924c7900664",
   "outputs": [
    {
     "name": "stdout",
     "output_type": "stream",
     "text": [
      "Downloading http://fashion-mnist.s3-website.eu-central-1.amazonaws.com/train-images-idx3-ubyte.gz\n",
      "Downloading http://fashion-mnist.s3-website.eu-central-1.amazonaws.com/train-images-idx3-ubyte.gz to ../data\\FashionMNIST\\raw\\train-images-idx3-ubyte.gz\n"
     ]
    },
    {
     "name": "stderr",
     "output_type": "stream",
     "text": [
      "100.0%\n"
     ]
    },
    {
     "name": "stdout",
     "output_type": "stream",
     "text": [
      "Extracting ../data\\FashionMNIST\\raw\\train-images-idx3-ubyte.gz to ../data\\FashionMNIST\\raw\n",
      "\n",
      "Downloading http://fashion-mnist.s3-website.eu-central-1.amazonaws.com/train-labels-idx1-ubyte.gz\n",
      "Downloading http://fashion-mnist.s3-website.eu-central-1.amazonaws.com/train-labels-idx1-ubyte.gz to ../data\\FashionMNIST\\raw\\train-labels-idx1-ubyte.gz\n"
     ]
    },
    {
     "name": "stderr",
     "output_type": "stream",
     "text": [
      "100.0%\n"
     ]
    },
    {
     "name": "stdout",
     "output_type": "stream",
     "text": [
      "Extracting ../data\\FashionMNIST\\raw\\train-labels-idx1-ubyte.gz to ../data\\FashionMNIST\\raw\n",
      "\n",
      "Downloading http://fashion-mnist.s3-website.eu-central-1.amazonaws.com/t10k-images-idx3-ubyte.gz\n",
      "Downloading http://fashion-mnist.s3-website.eu-central-1.amazonaws.com/t10k-images-idx3-ubyte.gz to ../data\\FashionMNIST\\raw\\t10k-images-idx3-ubyte.gz\n"
     ]
    },
    {
     "name": "stderr",
     "output_type": "stream",
     "text": [
      "100.0%\n"
     ]
    },
    {
     "name": "stdout",
     "output_type": "stream",
     "text": [
      "Extracting ../data\\FashionMNIST\\raw\\t10k-images-idx3-ubyte.gz to ../data\\FashionMNIST\\raw\n",
      "\n",
      "Downloading http://fashion-mnist.s3-website.eu-central-1.amazonaws.com/t10k-labels-idx1-ubyte.gz\n",
      "Downloading http://fashion-mnist.s3-website.eu-central-1.amazonaws.com/t10k-labels-idx1-ubyte.gz to ../data\\FashionMNIST\\raw\\t10k-labels-idx1-ubyte.gz\n"
     ]
    },
    {
     "name": "stderr",
     "output_type": "stream",
     "text": [
      "100.0%"
     ]
    },
    {
     "name": "stdout",
     "output_type": "stream",
     "text": [
      "Extracting ../data\\FashionMNIST\\raw\\t10k-labels-idx1-ubyte.gz to ../data\\FashionMNIST\\raw\n",
      "\n"
     ]
    },
    {
     "name": "stderr",
     "output_type": "stream",
     "text": [
      "\n"
     ]
    }
   ],
   "execution_count": 18
  },
  {
   "metadata": {
    "ExecuteTime": {
     "end_time": "2024-04-28T13:58:03.674235Z",
     "start_time": "2024-04-28T13:58:03.656284Z"
    }
   },
   "cell_type": "code",
   "source": [
    "def evaluate_accuracy_gpu(net, data_iter, device=None): #@save\n",
    "  if isinstance(net, nn.Module):\n",
    "    net.eval()\n",
    "    if not device:\n",
    "      device = next(iter(net.parameters())).device\n",
    "  metric = d2l.Accumulator(2)\n",
    "  with torch.no_grad():\n",
    "    for X, y in data_iter:\n",
    "      if isinstance(X, list):\n",
    "        X = [x.to(device) for x in X]\n",
    "      else:\n",
    "        X = X.to(device)\n",
    "      y = y.to(device)\n",
    "      metric.add(d2l.accuracy(net(X), y), y.numel())\n",
    "  return metric[0] / metric[1]"
   ],
   "id": "6774fb80245456ae",
   "outputs": [],
   "execution_count": 28
  },
  {
   "metadata": {
    "ExecuteTime": {
     "end_time": "2024-04-28T13:58:04.222004Z",
     "start_time": "2024-04-28T13:58:04.203759Z"
    }
   },
   "cell_type": "code",
   "source": [
    "#@save\n",
    "def train_ch6(net, train_iter, test_iter, num_epochs, lr, device):\n",
    "  def init_weights(m):\n",
    "    if type(m) == nn.Linear or type(m) == nn.Conv2d:\n",
    "      nn.init.xavier_uniform_(m.weight)\n",
    "    net.apply(init_weights)\n",
    "    print('training on', device)\n",
    "    net.to(device)\n",
    "    optimizer = torch.optim.SGD(net.parameters(), lr=lr)\n",
    "    loss = torch.nn.CrossEntropyLoss()\n",
    "    animator = d2l.Animator(xlabel='epoch', xlim=[1, num_epochs],\n",
    "                            legend=['train loss', 'train acc', 'test acc'],)\n",
    "    timer, num_batches = d2l.Timer(), len(train_iter)\n",
    "    for epoch in range(num_epochs):\n",
    "      metric = d2l.Accumulator(3)\n",
    "      net.train()\n",
    "      for i, (X, y) in enumerate(train_iter):\n",
    "        timer.start()\n",
    "        optimizer.zero_grad()\n",
    "        X, y = X.to(device), y.to(device)\n",
    "        y_hat = net(X)\n",
    "        l = loss(y_hat, y)\n",
    "        l.backward()\n",
    "        optimizer.step()\n",
    "        with torch.no_grad():\n",
    "          metric.add(l * X.shape[0], d2l.accuracy(y_hat, y), X.shape[0])\n",
    "        timer.stop()\n",
    "        train_l = metric[0] / metric[2]\n",
    "        train_acc = metric[1] / metric[2]\n",
    "        if (i + 1) % (num_batches // 5) == 0 or i == num_batches - 1:\n",
    "          animator.add(epoch + (i + 1) / num_batches,\n",
    "                       (train_l, train_acc, None))\n",
    "          \n",
    "      test_acc = evaluate_accuracy_gpu(net, test_iter)\n",
    "      animator.add(epoch + 1, (None, None, test_acc))\n",
    "    \n",
    "    print(f'loss {train_l:.3f}, train acc {train_acc:.3f}, '\n",
    "          f'test acc {test_acc:.3f}')\n",
    "    print(f'{metric[2] * num_epochs / timer.sum():.1f} examples/sec '\n",
    "          f'on {str(device)}')"
   ],
   "id": "f42fa725f3f3bd61",
   "outputs": [],
   "execution_count": 29
  },
  {
   "metadata": {
    "ExecuteTime": {
     "end_time": "2024-04-28T13:58:04.786169Z",
     "start_time": "2024-04-28T13:58:04.777193Z"
    }
   },
   "cell_type": "code",
   "source": [
    "lr, num_epochs = 0.9, 10\n",
    "train_ch6(net, train_iter, test_iter, num_epochs, lr, d2l.try_gpu())"
   ],
   "id": "903f15e4c0e80237",
   "outputs": [],
   "execution_count": 30
  }
 ],
 "metadata": {
  "kernelspec": {
   "display_name": "Python 3",
   "language": "python",
   "name": "python3"
  },
  "language_info": {
   "codemirror_mode": {
    "name": "ipython",
    "version": 2
   },
   "file_extension": ".py",
   "mimetype": "text/x-python",
   "name": "python",
   "nbconvert_exporter": "python",
   "pygments_lexer": "ipython2",
   "version": "2.7.6"
  }
 },
 "nbformat": 4,
 "nbformat_minor": 5
}
