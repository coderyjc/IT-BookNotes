{
 "cells": [
  {
   "cell_type": "markdown",
   "source": [
    "## 5.4 简单层的实现"
   ],
   "metadata": {
    "collapsed": false
   },
   "id": "c989bcdac7e7eb20"
  },
  {
   "cell_type": "markdown",
   "source": [
    "### 5.4.1 乘法层的实现"
   ],
   "metadata": {
    "collapsed": false
   },
   "id": "53f3253c7151b86e"
  },
  {
   "cell_type": "code",
   "outputs": [],
   "source": [
    "import numpy as np\n",
    "\n",
    "\n",
    "class MulLayer:\n",
    "    def __init__(self):\n",
    "        self.x = None\n",
    "        self.y = None\n",
    "    \n",
    "    def forward(self, x, y):\n",
    "        self.x = x\n",
    "        self.y = y\n",
    "        out = x * y\n",
    "        return out\n",
    "    \n",
    "    def backward(self, dout):\n",
    "        dx = dout * self.y\n",
    "        dy = dout * self.x\n",
    "        return dx, dy"
   ],
   "metadata": {
    "collapsed": false,
    "ExecuteTime": {
     "end_time": "2024-04-08T02:38:53.785509Z",
     "start_time": "2024-04-08T02:38:53.779986600Z"
    }
   },
   "id": "ee1f316ad241068a",
   "execution_count": 12
  },
  {
   "cell_type": "code",
   "outputs": [
    {
     "name": "stdout",
     "output_type": "stream",
     "text": [
      "220.00000000000003\n"
     ]
    }
   ],
   "source": [
    "# 苹果的正向传播\n",
    "apple = 100\n",
    "apple_num = 2\n",
    "tax = 1.1\n",
    "\n",
    "# layer\n",
    "mul_apple_layer = MulLayer()\n",
    "mul_tax_layer = MulLayer()\n",
    "\n",
    "# forward\n",
    "apple_price = mul_apple_layer.forward(apple, apple_num)\n",
    "price = mul_tax_layer.forward(apple_price, tax)\n",
    "\n",
    "print(price)"
   ],
   "metadata": {
    "collapsed": false,
    "ExecuteTime": {
     "end_time": "2024-04-08T02:18:45.468990700Z",
     "start_time": "2024-04-08T02:18:45.462121200Z"
    }
   },
   "id": "74ff405f54e2b3af",
   "execution_count": 5
  },
  {
   "cell_type": "code",
   "outputs": [
    {
     "name": "stdout",
     "output_type": "stream",
     "text": [
      "2.2 110.00000000000001 200\n"
     ]
    }
   ],
   "source": [
    "# backward\n",
    "\n",
    "dprice = 1\n",
    "dapple_price, dtax = mul_tax_layer.backward(dprice)\n",
    "dapple, dapple_num = mul_apple_layer.backward(dapple_price)\n",
    "\n",
    "print(dapple, dapple_num, dtax)"
   ],
   "metadata": {
    "collapsed": false,
    "ExecuteTime": {
     "end_time": "2024-04-08T02:22:29.683665900Z",
     "start_time": "2024-04-08T02:22:29.681665300Z"
    }
   },
   "id": "8dafc7e4d70c591c",
   "execution_count": 9
  },
  {
   "cell_type": "markdown",
   "source": [
    "### 5.4.2 加法层的实现"
   ],
   "metadata": {
    "collapsed": false
   },
   "id": "95a2be61f652e1f8"
  },
  {
   "cell_type": "code",
   "outputs": [],
   "source": [
    "class AddLayer:\n",
    "    def __init__(self):\n",
    "        pass\n",
    "    \n",
    "    def forward(self, x, y):\n",
    "        out = x + y\n",
    "        return out  \n",
    "    \n",
    "    def backward(self, dout):\n",
    "        dx = dout * 1\n",
    "        dy = dout * 1\n",
    "        return dx, dy"
   ],
   "metadata": {
    "collapsed": false,
    "ExecuteTime": {
     "end_time": "2024-04-08T02:25:31.235304500Z",
     "start_time": "2024-04-08T02:25:31.224328900Z"
    }
   },
   "id": "c2f6fb7ce41d846b",
   "execution_count": 10
  },
  {
   "cell_type": "code",
   "outputs": [
    {
     "name": "stdout",
     "output_type": "stream",
     "text": [
      "dtax= 650 dall_price= 1.1\n",
      "dapple_price= 1.1 dorange_price= 1.1\n",
      "dapple_num= 110.00000000000001 , dapple= 2.2\n",
      "dorange_num= 165.0 , dorange= 3.3000000000000003\n",
      "715.0000000000001\n"
     ]
    }
   ],
   "source": [
    "# 综合案例\n",
    "\n",
    "apple = 100\n",
    "apple_num = 2\n",
    "orange = 150\n",
    "orange_num = 3\n",
    "tax = 1.1\n",
    "\n",
    "# layer\n",
    "mul_apple_layer = MulLayer()\n",
    "mul_orange_layer = MulLayer()\n",
    "add_apple_orange = AddLayer()\n",
    "mul_tax_layer = MulLayer()\n",
    "\n",
    "# forward\n",
    "apple_price = mul_apple_layer.forward(apple, apple_num)\n",
    "orange_price = mul_orange_layer.forward(orange, orange_num)\n",
    "all_price = add_apple_orange.forward(apple_price, orange_price)\n",
    "price = mul_tax_layer.forward(all_price, tax)\n",
    "\n",
    "# backward\n",
    "dprice = 1\n",
    "dall_price, dtax = mul_tax_layer.backward(dprice)\n",
    "print(\"dtax=\", dtax, \"dall_price=\", dall_price)\n",
    "dapple_price, dorange_price = add_apple_orange.backward(dall_price)\n",
    "print(\"dapple_price=\", dapple_price, \"dorange_price=\", dorange_price)\n",
    "dapple, dapple_num = mul_apple_layer.backward(dapple_price)\n",
    "print(\"dapple_num=\", dapple_num, \", dapple=\", dapple)\n",
    "dorange, dorange_num = mul_orange_layer.backward(dorange_price)\n",
    "print(\"dorange_num=\", dorange_num, \", dorange=\", dorange)\n",
    "\n",
    "print(price)"
   ],
   "metadata": {
    "collapsed": false,
    "ExecuteTime": {
     "end_time": "2024-04-08T02:43:07.033237500Z",
     "start_time": "2024-04-08T02:43:07.025381900Z"
    }
   },
   "id": "7f54851f7d550b70",
   "execution_count": 20
  },
  {
   "cell_type": "markdown",
   "source": [
    "## 5.5 激活函数层的实现"
   ],
   "metadata": {
    "collapsed": false
   },
   "id": "fefb97c8534feaf5"
  },
  {
   "cell_type": "markdown",
   "source": [
    "### 5.5.1 ReLu层"
   ],
   "metadata": {
    "collapsed": false
   },
   "id": "86ab88079df811f8"
  },
  {
   "cell_type": "code",
   "outputs": [],
   "source": [
    "import numpy as np"
   ],
   "metadata": {
    "collapsed": false,
    "ExecuteTime": {
     "end_time": "2024-04-08T02:52:18.574675700Z",
     "start_time": "2024-04-08T02:52:18.514087600Z"
    }
   },
   "id": "4e4ca030f4bcbe8e",
   "execution_count": 23
  },
  {
   "cell_type": "code",
   "outputs": [],
   "source": [
    "class Relu:\n",
    "    def __init__(self):\n",
    "        self.mask = None\n",
    "    \n",
    "    def forward(self, x):\n",
    "        self.mask = (x <= 0)\n",
    "        out = x.copy()\n",
    "        out[self.mask] = 0\n",
    "        return out\n",
    "\n",
    "    def backward(self, dout):\n",
    "        dout[self.mask] = 0\n",
    "        dx = dout\n",
    "        return dx"
   ],
   "metadata": {
    "collapsed": false,
    "ExecuteTime": {
     "end_time": "2024-04-08T02:52:20.288320400Z",
     "start_time": "2024-04-08T02:52:20.283330100Z"
    }
   },
   "id": "922f82a07e80fe3b",
   "execution_count": 24
  },
  {
   "cell_type": "code",
   "outputs": [
    {
     "name": "stdout",
     "output_type": "stream",
     "text": [
      "[[ 1.  -0.5]\n",
      " [-2.   3. ]]\n"
     ]
    }
   ],
   "source": [
    "x = np.array([[1.0, -0.5], [-2.0, 3.0]])\n",
    "print(x)"
   ],
   "metadata": {
    "collapsed": false,
    "ExecuteTime": {
     "end_time": "2024-04-08T02:52:24.606664200Z",
     "start_time": "2024-04-08T02:52:24.557790600Z"
    }
   },
   "id": "c2853c5f9a304cdc",
   "execution_count": 26
  },
  {
   "cell_type": "code",
   "outputs": [
    {
     "name": "stdout",
     "output_type": "stream",
     "text": [
      "[[False  True]\n",
      " [ True False]]\n"
     ]
    }
   ],
   "source": [
    "mask = (x <= 0)\n",
    "print(mask)"
   ],
   "metadata": {
    "collapsed": false,
    "ExecuteTime": {
     "end_time": "2024-04-08T02:52:47.941309800Z",
     "start_time": "2024-04-08T02:52:47.931305Z"
    }
   },
   "id": "4c8f9f7debb9b7e1",
   "execution_count": 27
  },
  {
   "cell_type": "code",
   "outputs": [
    {
     "name": "stdout",
     "output_type": "stream",
     "text": [
      "[[1. 0.]\n",
      " [0. 3.]]\n"
     ]
    }
   ],
   "source": [
    "x[mask] = 0\n",
    "print(x)"
   ],
   "metadata": {
    "collapsed": false,
    "ExecuteTime": {
     "end_time": "2024-04-08T02:53:12.024938400Z",
     "start_time": "2024-04-08T02:53:12.022437300Z"
    }
   },
   "id": "7683e92d96fa9164",
   "execution_count": 29
  },
  {
   "cell_type": "markdown",
   "source": [
    "### 5.5.2 sigmoid层"
   ],
   "metadata": {
    "collapsed": false
   },
   "id": "2fcd52645d8b022f"
  },
  {
   "cell_type": "code",
   "outputs": [],
   "source": [
    "class Sigmoid:\n",
    "    def __init__(self):\n",
    "        self.out = None\n",
    "        \n",
    "    def forward(self, x):\n",
    "        out = 1 / (1 + np.exp(-x))\n",
    "        self.out = out\n",
    "        \n",
    "        return out  \n",
    "    \n",
    "    def backward(self, dout):\n",
    "        dx = dout * (1.0 - self.out) * self.out\n",
    "        \n",
    "        return dx"
   ],
   "metadata": {
    "collapsed": false,
    "ExecuteTime": {
     "end_time": "2024-04-08T03:23:12.084231700Z",
     "start_time": "2024-04-08T03:23:12.080239800Z"
    }
   },
   "id": "3d4decb3313a9cc5",
   "execution_count": 30
  },
  {
   "cell_type": "markdown",
   "source": [
    "## 5.6 Affine/Softmax层的实现"
   ],
   "metadata": {
    "collapsed": false
   },
   "id": "961d464df9b2c682"
  },
  {
   "cell_type": "markdown",
   "source": [
    "### 5.6.2 批处理版本的Affine层"
   ],
   "metadata": {
    "collapsed": false
   },
   "id": "75add65843261a8a"
  },
  {
   "cell_type": "code",
   "outputs": [],
   "source": [
    "import numpy as np"
   ],
   "metadata": {
    "collapsed": false,
    "ExecuteTime": {
     "end_time": "2024-04-08T07:42:20.876683200Z",
     "start_time": "2024-04-08T07:42:20.810190400Z"
    }
   },
   "id": "5ff044d68c473aee",
   "execution_count": 1
  },
  {
   "cell_type": "code",
   "outputs": [
    {
     "data": {
      "text/plain": "array([[ 0,  0,  0],\n       [10, 10, 10]])"
     },
     "execution_count": 2,
     "metadata": {},
     "output_type": "execute_result"
    }
   ],
   "source": [
    "X_dot_W = np.array([[0, 0, 0], [10, 10, 10]])\n",
    "B = np.array([1, 2, 3])\n",
    "print(X_dot_W)"
   ],
   "metadata": {
    "collapsed": false,
    "ExecuteTime": {
     "end_time": "2024-04-08T07:42:52.283642700Z",
     "start_time": "2024-04-08T07:42:52.270012600Z"
    }
   },
   "id": "db192da1454b4b56",
   "execution_count": 2
  },
  {
   "cell_type": "code",
   "outputs": [
    {
     "data": {
      "text/plain": "array([[ 1,  2,  3],\n       [11, 12, 13]])"
     },
     "execution_count": 3,
     "metadata": {},
     "output_type": "execute_result"
    }
   ],
   "source": [
    "X_dot_W + B"
   ],
   "metadata": {
    "collapsed": false,
    "ExecuteTime": {
     "end_time": "2024-04-08T07:43:09.395590800Z",
     "start_time": "2024-04-08T07:43:09.371356300Z"
    }
   },
   "id": "6b9cee9eda16f9a",
   "execution_count": 3
  },
  {
   "cell_type": "code",
   "outputs": [
    {
     "data": {
      "text/plain": "array([[1, 2, 3],\n       [4, 5, 6]])"
     },
     "execution_count": 4,
     "metadata": {},
     "output_type": "execute_result"
    }
   ],
   "source": [
    "dY = np.array([[1, 2, 3], [4, 5, 6]])\n",
    "dY"
   ],
   "metadata": {
    "collapsed": false,
    "ExecuteTime": {
     "end_time": "2024-04-08T07:43:34.154200300Z",
     "start_time": "2024-04-08T07:43:34.139705800Z"
    }
   },
   "id": "bd56664b1c16d7b",
   "execution_count": 4
  },
  {
   "cell_type": "code",
   "outputs": [
    {
     "data": {
      "text/plain": "array([5, 7, 9])"
     },
     "execution_count": 5,
     "metadata": {},
     "output_type": "execute_result"
    }
   ],
   "source": [
    "dB = np.sum(dY, axis=0)\n",
    "dB"
   ],
   "metadata": {
    "collapsed": false,
    "ExecuteTime": {
     "end_time": "2024-04-08T07:43:47.348213Z",
     "start_time": "2024-04-08T07:43:47.333744200Z"
    }
   },
   "id": "e5233ab3e89faabf",
   "execution_count": 5
  },
  {
   "cell_type": "code",
   "outputs": [],
   "source": [
    "class Affine:\n",
    "    def __init__(self, W, b):\n",
    "        self.W = W\n",
    "        self.b = b\n",
    "        self.x = None\n",
    "        self.dW = None\n",
    "        self.db = None\n",
    "        \n",
    "    def forward(self, x):\n",
    "        self.x = x\n",
    "        out = np.dot(x, self.W) + self.b\n",
    "        return out\n",
    "    \n",
    "    def backward(self, dout):\n",
    "        dx = np.dot(dout, self.W.T)\n",
    "        self.dW = np.dot(self.x.T, dout)\n",
    "        self.db = np.sum(dout, axis=0)\n",
    "        \n",
    "        return dx"
   ],
   "metadata": {
    "collapsed": false,
    "ExecuteTime": {
     "end_time": "2024-04-08T07:46:36.869048400Z",
     "start_time": "2024-04-08T07:46:36.863038600Z"
    }
   },
   "id": "5d2a18ba07810e44",
   "execution_count": 6
  },
  {
   "cell_type": "markdown",
   "source": [
    "### 5.6.3 Softmax-with-Loss 层"
   ],
   "metadata": {
    "collapsed": false
   },
   "id": "8f580b8372a11ef3"
  },
  {
   "cell_type": "code",
   "outputs": [],
   "source": [
    "from common.functions import softmax, cross_entropy_error"
   ],
   "metadata": {
    "collapsed": false,
    "ExecuteTime": {
     "end_time": "2024-04-08T07:56:35.745529400Z",
     "start_time": "2024-04-08T07:56:35.713678700Z"
    }
   },
   "id": "4b08d5eca1808024",
   "execution_count": 7
  },
  {
   "cell_type": "code",
   "outputs": [],
   "source": [
    "class SoftmaxWithLoss:\n",
    "    def __init__(self):\n",
    "        self.loss = None\n",
    "        self.y = None\n",
    "        self.t = None\n",
    "    \n",
    "    def forward(self, x, t):\n",
    "        self.t = t\n",
    "        self.y = softmax(x)\n",
    "        self.loss = cross_entropy_error(self.y, self.t)\n",
    "        \n",
    "        return self.loss\n",
    "    \n",
    "    def backward(self, dout=1):\n",
    "        batch_size = self.t.shape[0]\n",
    "        dx = (self.y - self.t) / batch_size\n",
    "        \n",
    "        return dx"
   ],
   "metadata": {
    "collapsed": false,
    "ExecuteTime": {
     "end_time": "2024-04-08T08:01:42.183969500Z",
     "start_time": "2024-04-08T08:01:42.179470500Z"
    }
   },
   "id": "9b07fc70d50d8ac1",
   "execution_count": 8
  },
  {
   "cell_type": "markdown",
   "source": [
    "## 5.7 误差反向传播法的实现"
   ],
   "metadata": {
    "collapsed": false
   },
   "id": "98de0483638b1e8c"
  },
  {
   "cell_type": "markdown",
   "source": [
    "### 5.7.2 对应误差反向传播法的神经网络的实现"
   ],
   "metadata": {
    "collapsed": false
   },
   "id": "88f73820f6f6db68"
  },
  {
   "cell_type": "code",
   "outputs": [],
   "source": [
    "import sys, os\n",
    "sys.path.append(os.pardir)\n",
    "import numpy as np\n",
    "from common.layers import *\n",
    "from common.gradient import numerical_gradient\n",
    "from collections import OrderedDict"
   ],
   "metadata": {
    "collapsed": false,
    "ExecuteTime": {
     "end_time": "2024-04-09T02:55:55.413376900Z",
     "start_time": "2024-04-09T02:55:55.224604300Z"
    }
   },
   "id": "6ba8b5a6f43bc3bf",
   "execution_count": 1
  },
  {
   "cell_type": "code",
   "outputs": [],
   "source": [
    "class TwoLayerNet:\n",
    "    \n",
    "    def __init__(self, input_size, hidden_size, output_size,\n",
    "                 weight_init_std = 0.01):\n",
    "        # 初始化权重\n",
    "        self.params = {}\n",
    "        self.params['W1'] = weight_init_std * np.random.randn(input_size, hidden_size)\n",
    "        self.params['b1'] = np.zeros(hidden_size)\n",
    "        self.params['W2'] = weight_init_std * np.random.randn(hidden_size, output_size)\n",
    "        self.params['b2'] = np.zeros(hidden_size)\n",
    "        \n",
    "        # 生成层\n",
    "        self.layers = OrderedDict()\n",
    "        self.layers['Affine1'] = Affine(self.params['W1'], self.params['b1'])\n",
    "        self.layers['Relu1'] = Relu()\n",
    "        self.layers['Affine2'] = Affine(self.params['W2'], self.params['b2'])\n",
    "        \n",
    "        self.lastLayer = SoftmaxWithLoss()\n",
    "    \n",
    "    def predict(self, x):\n",
    "        for layer in self.layers.values():\n",
    "            x = layer.forward(x)\n",
    "        return x\n",
    "    \n",
    "    def loss(self, x, t):\n",
    "        y = self.predict(x)\n",
    "        return self.lastLayer.forward(y, t)\n",
    "\n",
    "    def accuracy(self, x, t):\n",
    "        y = self.predict(x)\n",
    "        y = np.argmax(y, axis=1)\n",
    "        if t.ndim != 1 : t = np.argmax(t, axis=1)\n",
    "        accuracy = np.sum(y == t) / float(x.shape[0])\n",
    "        return accuracy\n",
    "    \n",
    "    def numerical_gradient(self, x, t):\n",
    "        loss_W = lambda W : self.loss(x, t)\n",
    "        grads = {}\n",
    "        grads['W1'] = numerical_gradient(loss_W, self.params['W1'])\n",
    "        grads['b1'] = numerical_gradient(loss_W, self.params['b1'])\n",
    "        grads['W2'] = numerical_gradient(loss_W, self.params['W2'])\n",
    "        grads['b2'] = numerical_gradient(loss_W, self.params['b2'])\n",
    "        \n",
    "        return grads\n",
    "        \n",
    "    def gradient(self, x, t):\n",
    "        # forward\n",
    "        self.loss(x, t)\n",
    "        \n",
    "        # backward\n",
    "        dout = 1\n",
    "        dout = self.lastLayer.backward(dout)\n",
    "        layers = list(self.layers.values())\n",
    "        for layer in layers:\n",
    "            dout = layer.backward(dout)\n",
    "        # 设定\n",
    "        grads = {}\n",
    "        grads['W1'] = self.layers['Affine1'].dW\n",
    "        grads['b1'] = self.layers['Affine1'].db\n",
    "        grads['W2'] = self.layers['Affine2'].dW\n",
    "        grads['b2'] = self.layers['Affine2'].db\n",
    "        \n",
    "        return grads\n",
    "        "
   ],
   "metadata": {
    "collapsed": false,
    "ExecuteTime": {
     "end_time": "2024-04-09T03:48:22.052211600Z",
     "start_time": "2024-04-09T03:48:22.023551800Z"
    }
   },
   "id": "7efe520b8ed058f",
   "execution_count": 3
  },
  {
   "cell_type": "markdown",
   "source": [
    "### 5.7.3 误差反向传播法的梯度确认"
   ],
   "metadata": {
    "collapsed": false
   },
   "id": "5bb4e81019f6efe6"
  },
  {
   "cell_type": "code",
   "outputs": [],
   "source": [
    "import sys, os\n",
    "sys.path.append(os.pardir)\n",
    "import numpy as np\n",
    "from dataset.dataset import load_mnist"
   ],
   "metadata": {
    "collapsed": false,
    "ExecuteTime": {
     "end_time": "2024-04-09T03:48:30.155896300Z",
     "start_time": "2024-04-09T03:48:30.148409Z"
    }
   },
   "id": "375274104a82748b",
   "execution_count": 5
  },
  {
   "cell_type": "code",
   "outputs": [],
   "source": [
    "(x_train, t_train), (x_test, t_test) = load_mnist(normalize=True, one_hot_label=True)\n",
    "network = TwoLayerNet(input_size=784, hidden_size=50, output_size=10)\n",
    "\n",
    "x_batch = x_train[:3]\n",
    "t_batch = t_train[:3]\n",
    "\n",
    "grad_numerical = network.numerical_gradient(x_batch, t_batch)\n",
    "grad_backprop = network.gradient(x_batch, t_batch)\n",
    "\n",
    "for key in grad_numerical.keys():\n",
    "    diff = np.average( np.abs(grad_backprop[key] - grad_numerical[key]) )\n",
    "    print(key + \":\" + str(diff))"
   ],
   "metadata": {
    "collapsed": false
   },
   "id": "5214d9256bcbaaec"
  },
  {
   "cell_type": "markdown",
   "source": [
    "### 5.7.4 使用误差反向传播法的学习"
   ],
   "metadata": {
    "collapsed": false
   },
   "id": "6f3483e8b9583bd6"
  },
  {
   "cell_type": "code",
   "outputs": [],
   "source": [
    "import sys, os\n",
    "sys.path.append(os.pardir)\n",
    "import numpy as np\n",
    "from dataset.dataset import load_mnist"
   ],
   "metadata": {
    "collapsed": false
   },
   "id": "6a0d38ce695e8a11"
  },
  {
   "cell_type": "code",
   "outputs": [],
   "source": [
    "(x_train, t_train), (x_test, t_test) = load_mnist(normalize=True, one_hot_label=True)\n",
    "\n",
    "network = TwoLayerNet(input_size=784, hidden_size=50, output_size=10)\n",
    "\n",
    "iters_num = 1000\n",
    "train_size = x_train.shape[0]\n",
    "batch_size = 100\n",
    "learning_rate = 0.1\n",
    "train_loss_list = []\n",
    "train_acc_list = []\n",
    "test_acc_list = []\n",
    "\n",
    "iter_per_epoch = max(train_size / batch_size, 1)\n",
    "\n",
    "for i in range(iters_num):\n",
    "    batch_mask = np.random.choice(train_size, batch_size)\n",
    "    x_batch = x_train[batch_mask]\n",
    "    t_batch = t_train[batch_mask]\n",
    "    \n",
    "    grad = network.gradient(x_batch, t_batch)\n",
    "    \n",
    "    for key in ('W1', 'b1', 'W2', 'b2'):\n",
    "        network.params[key] -= learning_rate * grad[key]\n",
    "        \n",
    "    loss = network.loss(x_batch, t_batch)\n",
    "    train_loss_list.append(loss)\n",
    "    \n",
    "    if i % iter_per_epoch == 0:\n",
    "        train_acc = network.accuracy(x_train, t_train)\n",
    "        test_acc = network.accuracy(x_test, t_test)\n",
    "        train_acc_list.append(train_acc)\n",
    "        test_acc_list.append(test_acc)\n",
    "        print(train_acc, test_acc)"
   ],
   "metadata": {
    "collapsed": false
   },
   "id": "d19c00a7e3fd31e"
  },
  {
   "cell_type": "code",
   "outputs": [],
   "source": [],
   "metadata": {
    "collapsed": false
   },
   "id": "dc88352d980a8916"
  }
 ],
 "metadata": {
  "kernelspec": {
   "display_name": "Python 3",
   "language": "python",
   "name": "python3"
  },
  "language_info": {
   "codemirror_mode": {
    "name": "ipython",
    "version": 2
   },
   "file_extension": ".py",
   "mimetype": "text/x-python",
   "name": "python",
   "nbconvert_exporter": "python",
   "pygments_lexer": "ipython2",
   "version": "2.7.6"
  }
 },
 "nbformat": 4,
 "nbformat_minor": 5
}
