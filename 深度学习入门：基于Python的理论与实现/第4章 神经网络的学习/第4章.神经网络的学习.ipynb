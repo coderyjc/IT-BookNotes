{
 "cells": [
  {
   "cell_type": "code",
   "outputs": [],
   "source": [
    "import numpy as np\n",
    "import sys, os\n",
    "sys.path.append(os.pardir)\n",
    "from dataset.dataset import load_mnist"
   ],
   "metadata": {
    "collapsed": false,
    "ExecuteTime": {
     "end_time": "2024-04-07T08:16:11.486094900Z",
     "start_time": "2024-04-07T08:16:11.465147200Z"
    }
   },
   "id": "3516d76581725358",
   "execution_count": 2
  },
  {
   "cell_type": "markdown",
   "source": [
    "## 4.2 损失函数"
   ],
   "metadata": {
    "collapsed": false
   },
   "id": "36e36af5fa916c42"
  },
  {
   "cell_type": "code",
   "execution_count": 3,
   "id": "initial_id",
   "metadata": {
    "collapsed": true,
    "ExecuteTime": {
     "end_time": "2024-04-07T08:16:12.297761Z",
     "start_time": "2024-04-07T08:16:12.285761800Z"
    }
   },
   "outputs": [],
   "source": [
    "# 均方误差【4.2.1】\n",
    "# def mean_squared_error(y, t):\n",
    "#   return 0.5 * np.sum((y -t) ** 2)"
   ]
  },
  {
   "cell_type": "code",
   "outputs": [],
   "source": [
    "# 交叉熵误差【4.2.1】\n",
    "# def cross_entropy_error(y, t):\n",
    "#     delta = 1e-7\n",
    "#     return -np.sum(t * np.log(y + delta))"
   ],
   "metadata": {
    "collapsed": false,
    "ExecuteTime": {
     "end_time": "2024-04-07T08:16:12.796651300Z",
     "start_time": "2024-04-07T08:16:12.790188300Z"
    }
   },
   "id": "2146c6bd269e64f7",
   "execution_count": 4
  },
  {
   "cell_type": "code",
   "outputs": [],
   "source": [
    "# 导入数据集\n",
    "(x_train, t_train), (x_test, t_test) = load_mnist(normalize=True, one_hot_label=True)"
   ],
   "metadata": {
    "collapsed": false,
    "ExecuteTime": {
     "end_time": "2024-04-07T08:16:13.679772500Z",
     "start_time": "2024-04-07T08:16:13.209226600Z"
    }
   },
   "id": "ca1c1398daccdd77",
   "execution_count": 5
  },
  {
   "cell_type": "code",
   "outputs": [
    {
     "name": "stdout",
     "output_type": "stream",
     "text": [
      "(60000, 784)\n",
      "(60000, 10)\n"
     ]
    }
   ],
   "source": [
    "# 形状\n",
    "print(x_train.shape)\n",
    "print(t_train.shape)"
   ],
   "metadata": {
    "collapsed": false,
    "ExecuteTime": {
     "end_time": "2024-04-07T08:16:13.806137200Z",
     "start_time": "2024-04-07T08:16:13.747746300Z"
    }
   },
   "id": "c274615fddfed02b",
   "execution_count": 6
  },
  {
   "cell_type": "code",
   "outputs": [],
   "source": [
    "# 随机选择10个数据\n",
    "train_size = x_train.shape[0]\n",
    "batch_size = 10\n",
    "# 从train_size中选择batch_size个数据出来，返回下标\n",
    "batch_mask = np.random.choice(train_size, batch_size)\n",
    "# 取出训练集和对应的标签\n",
    "x_batch = x_train[batch_mask]\n",
    "t_batch = t_train[batch_mask]"
   ],
   "metadata": {
    "collapsed": false,
    "ExecuteTime": {
     "end_time": "2024-04-07T08:16:13.985990700Z",
     "start_time": "2024-04-07T08:16:13.882279900Z"
    }
   },
   "id": "f4199589aa8d4313",
   "execution_count": 7
  },
  {
   "cell_type": "code",
   "outputs": [],
   "source": [
    "# 可以同时处理单个数据和批量数据（数据作为batch集中输入）两种情况的交叉熵函数\n",
    "def cross_entropy_loss(y, t):\n",
    "    if y.ndim == 1:\n",
    "        t = t.reshape(1, t.size)\n",
    "        y = y.reshape(1, y.size)\n",
    "    batch_size = t.shape[0]\n",
    "    return -np.sum(t * np.log(y + 1e-7)) / batch_size"
   ],
   "metadata": {
    "collapsed": false,
    "ExecuteTime": {
     "end_time": "2024-04-07T08:16:14.053814400Z",
     "start_time": "2024-04-07T08:16:13.969538300Z"
    }
   },
   "id": "b2d81881a202de33",
   "execution_count": 8
  },
  {
   "cell_type": "code",
   "outputs": [],
   "source": [
    "# 非one-hot表示的交叉熵函数\n",
    "# def cross_entropy_loss(y, t):\n",
    "#     if y.ndim == 1:\n",
    "#         t = t.reshape(1, t.size)\n",
    "#         y = y.reshape(1, y.size)\n",
    "#     batch_size = t.shape[0]\n",
    "#     return -np.sum(np.log(y[np.arange(batch_size)] + 1e-7)) / batch_size"
   ],
   "metadata": {
    "collapsed": false,
    "ExecuteTime": {
     "end_time": "2024-04-07T08:16:14.117830300Z",
     "start_time": "2024-04-07T08:16:14.057017700Z"
    }
   },
   "id": "a817f466f122c06",
   "execution_count": 9
  },
  {
   "cell_type": "markdown",
   "source": [
    "## 4.3 数值微分"
   ],
   "metadata": {
    "collapsed": false
   },
   "id": "d51d3c5ebf9cefb1"
  },
  {
   "cell_type": "code",
   "outputs": [],
   "source": [
    "# 不好的实现示例\n",
    "# def numerical_diff(f, x):\n",
    "#     h = 10e-50\n",
    "#     return (f(x+h) - f(x)) / h\n",
    "\n",
    "# 中心差分\n",
    "def numerical_diff(f, x):\n",
    "    h = 1e-4\n",
    "    return (f(x+h) - f(x-h)) / (2 * h)"
   ],
   "metadata": {
    "collapsed": false,
    "ExecuteTime": {
     "end_time": "2024-04-07T08:16:14.136332600Z",
     "start_time": "2024-04-07T08:16:14.107857300Z"
    }
   },
   "id": "3ddccd288469cba6",
   "execution_count": 10
  },
  {
   "cell_type": "code",
   "outputs": [],
   "source": [
    "def function_1(x):\n",
    "    return 0.01*x**2 + 0.1*x"
   ],
   "metadata": {
    "collapsed": false,
    "ExecuteTime": {
     "end_time": "2024-04-07T08:16:14.164286600Z",
     "start_time": "2024-04-07T08:16:14.127354700Z"
    }
   },
   "id": "8f330890f2c7c762",
   "execution_count": 11
  },
  {
   "cell_type": "code",
   "outputs": [],
   "source": [
    "import matplotlib.pylab as plt"
   ],
   "metadata": {
    "collapsed": false,
    "ExecuteTime": {
     "end_time": "2024-04-07T08:16:15.827697900Z",
     "start_time": "2024-04-07T08:16:14.168249700Z"
    }
   },
   "id": "3faa32966a60e445",
   "execution_count": 12
  },
  {
   "cell_type": "code",
   "outputs": [
    {
     "data": {
      "text/plain": "<Figure size 640x480 with 1 Axes>",
      "image/png": "[encoded data removed]"
     },
     "metadata": {},
     "output_type": "display_data"
    }
   ],
   "source": [
    "x = np.arange(0.0, 20.0, 0.1) # 以0.1为单位，从0到20的数组x\n",
    "y = function_1(x)\n",
    "\n",
    "plt.xlabel(\"x\")\n",
    "plt.ylabel(\"f(x)\")\n",
    "plt.plot(x, y)\n",
    "plt.show()"
   ],
   "metadata": {
    "collapsed": false,
    "ExecuteTime": {
     "end_time": "2024-04-07T08:16:16.593491300Z",
     "start_time": "2024-04-07T08:16:15.830690300Z"
    }
   },
   "id": "c4e8b74659f3e73c",
   "execution_count": 13
  },
  {
   "cell_type": "code",
   "outputs": [
    {
     "data": {
      "text/plain": "0.1999999999990898"
     },
     "execution_count": 14,
     "metadata": {},
     "output_type": "execute_result"
    }
   ],
   "source": [
    "numerical_diff(function_1, 5)"
   ],
   "metadata": {
    "collapsed": false,
    "ExecuteTime": {
     "end_time": "2024-04-07T08:16:16.607463400Z",
     "start_time": "2024-04-07T08:16:16.595682400Z"
    }
   },
   "id": "ecb014acc2d0215b",
   "execution_count": 14
  },
  {
   "cell_type": "code",
   "outputs": [
    {
     "data": {
      "text/plain": "0.2999999999986347"
     },
     "execution_count": 15,
     "metadata": {},
     "output_type": "execute_result"
    }
   ],
   "source": [
    "numerical_diff(function_1, 10)"
   ],
   "metadata": {
    "collapsed": false,
    "ExecuteTime": {
     "end_time": "2024-04-07T08:16:16.609457700Z",
     "start_time": "2024-04-07T08:16:16.597679300Z"
    }
   },
   "id": "c912e774c9bad133",
   "execution_count": 15
  },
  {
   "cell_type": "code",
   "outputs": [],
   "source": [
    "def function_2(x):\n",
    "    return x[0]**2 + x[1]**2"
   ],
   "metadata": {
    "collapsed": false,
    "ExecuteTime": {
     "end_time": "2024-04-07T08:16:17.477957500Z",
     "start_time": "2024-04-07T08:16:17.468955100Z"
    }
   },
   "id": "86010cadf65aaba",
   "execution_count": 16
  },
  {
   "cell_type": "markdown",
   "source": [
    "## 4.4 梯度"
   ],
   "metadata": {
    "collapsed": false
   },
   "id": "bf5cb863674a7999"
  },
  {
   "cell_type": "code",
   "outputs": [],
   "source": [
    "def numerical_gradient(f, x):\n",
    "    h = 1e-4\n",
    "    grad = np.zeros_like(x) # 与x形状相同的数组\n",
    "    \n",
    "    for idx in range(x.size):\n",
    "        tmp_val = x[idx]\n",
    "        # f(x+h)的计算\n",
    "        x[idx] = tmp_val + h\n",
    "        fxh1 = f(x)\n",
    "        # f(x-h)的计算\n",
    "        x[idx] = tmp_val - h\n",
    "        fxh2 = f(x)\n",
    "        \n",
    "        grad[idx] = (fxh1 - fxh2) / (2*h)\n",
    "        x[idx] = tmp_val\n",
    "        \n",
    "    return grad        "
   ],
   "metadata": {
    "collapsed": false,
    "ExecuteTime": {
     "end_time": "2024-04-07T08:16:19.155721700Z",
     "start_time": "2024-04-07T08:16:19.148738700Z"
    }
   },
   "id": "32013483b4e9c6c7",
   "execution_count": 17
  },
  {
   "cell_type": "code",
   "outputs": [
    {
     "data": {
      "text/plain": "array([6., 8.])"
     },
     "execution_count": 18,
     "metadata": {},
     "output_type": "execute_result"
    }
   ],
   "source": [
    "numerical_gradient(function_2, np.array([3.0, 4.0]))"
   ],
   "metadata": {
    "collapsed": false,
    "ExecuteTime": {
     "end_time": "2024-04-07T08:16:19.888922600Z",
     "start_time": "2024-04-07T08:16:19.833919200Z"
    }
   },
   "id": "17e11199a68ba113",
   "execution_count": 18
  },
  {
   "cell_type": "markdown",
   "source": [
    "### 4.4.1 梯度法"
   ],
   "metadata": {
    "collapsed": false
   },
   "id": "74b863712de822e4"
  },
  {
   "cell_type": "code",
   "outputs": [],
   "source": [
    "# 梯度下降\n",
    "def gradient_descent(f, init_x, lr=0.01, step_num=100):\n",
    "    x = init_x\n",
    "    for i in range(step_num):\n",
    "        grad = numerical_gradient(f, x)\n",
    "        x -= lr * grad\n",
    "    return x"
   ],
   "metadata": {
    "collapsed": false,
    "ExecuteTime": {
     "end_time": "2024-04-07T08:16:24.286326500Z",
     "start_time": "2024-04-07T08:16:24.283825Z"
    }
   },
   "id": "29be70baca6669d",
   "execution_count": 19
  },
  {
   "cell_type": "code",
   "outputs": [],
   "source": [
    "# 使用梯度法求x0^2+x1^2的最小值\n",
    "init_x = np.array([3.0, 4.0])"
   ],
   "metadata": {
    "collapsed": false,
    "ExecuteTime": {
     "end_time": "2024-04-07T08:16:24.297934Z",
     "start_time": "2024-04-07T08:16:24.286326500Z"
    }
   },
   "id": "70b219e07ed1c5f9",
   "execution_count": 20
  },
  {
   "cell_type": "code",
   "outputs": [
    {
     "data": {
      "text/plain": "array([6.11110793e-10, 8.14814391e-10])"
     },
     "execution_count": 21,
     "metadata": {},
     "output_type": "execute_result"
    }
   ],
   "source": [
    "# 学习率刚好\n",
    "gradient_descent(function_2, init_x,lr=0.1)"
   ],
   "metadata": {
    "collapsed": false,
    "ExecuteTime": {
     "end_time": "2024-04-07T08:16:24.302871Z",
     "start_time": "2024-04-07T08:16:24.293944900Z"
    }
   },
   "id": "22099f22c2928013",
   "execution_count": 21
  },
  {
   "cell_type": "code",
   "outputs": [
    {
     "data": {
      "text/plain": "array([-2.34235971e+12, -3.96091057e+12])"
     },
     "execution_count": 22,
     "metadata": {},
     "output_type": "execute_result"
    }
   ],
   "source": [
    "# 学习率过高\n",
    "gradient_descent(function_2, init_x,lr=10)"
   ],
   "metadata": {
    "collapsed": false,
    "ExecuteTime": {
     "end_time": "2024-04-07T08:16:24.316390100Z",
     "start_time": "2024-04-07T08:16:24.303870400Z"
    }
   },
   "id": "3650d8f6ad3dbdc1",
   "execution_count": 22
  },
  {
   "cell_type": "code",
   "outputs": [
    {
     "data": {
      "text/plain": "array([-2.34235971e+12, -3.96091057e+12])"
     },
     "execution_count": 23,
     "metadata": {},
     "output_type": "execute_result"
    }
   ],
   "source": [
    "# 学习率过低\n",
    "gradient_descent(function_2, init_x,lr=1e-10)"
   ],
   "metadata": {
    "collapsed": false,
    "ExecuteTime": {
     "end_time": "2024-04-07T08:16:24.338291200Z",
     "start_time": "2024-04-07T08:16:24.310130900Z"
    }
   },
   "id": "69f028e0fadf176b",
   "execution_count": 23
  },
  {
   "cell_type": "markdown",
   "source": [
    "### 4.4.2 神经网络的梯度"
   ],
   "metadata": {
    "collapsed": false
   },
   "id": "681115176a678038"
  },
  {
   "cell_type": "code",
   "outputs": [],
   "source": [
    "from common.functions import softmax, cross_entropy_error\n",
    "from common.gradient import numerical_gradient"
   ],
   "metadata": {
    "collapsed": false,
    "ExecuteTime": {
     "end_time": "2024-04-07T08:16:24.341288400Z",
     "start_time": "2024-04-07T08:16:24.319382700Z"
    }
   },
   "id": "413ce30b26255fa8",
   "execution_count": 24
  },
  {
   "cell_type": "code",
   "outputs": [],
   "source": [
    "class simpleNet:\n",
    "    def __init__(self):\n",
    "        # 高斯分布初始化\n",
    "        self.W = np.random.randn(2, 3)\n",
    "    \n",
    "    def predict(self, x):\n",
    "        return np.dot(x, self.W)\n",
    "    \n",
    "    def loss(self, x, t):\n",
    "        z = self.predict(x)\n",
    "        y = softmax(z)\n",
    "        loss = cross_entropy_error(y, t)\n",
    "        return loss"
   ],
   "metadata": {
    "collapsed": false,
    "ExecuteTime": {
     "end_time": "2024-04-07T08:16:24.342284400Z",
     "start_time": "2024-04-07T08:16:24.326783700Z"
    }
   },
   "id": "58e924b69c97949f",
   "execution_count": 25
  },
  {
   "cell_type": "code",
   "outputs": [
    {
     "name": "stdout",
     "output_type": "stream",
     "text": [
      "[[ 1.32428049 -0.27022341  0.03552217]\n",
      " [-0.26229309 -0.98163866  0.13657049]]\n"
     ]
    }
   ],
   "source": [
    "net = simpleNet()\n",
    "print(net.W)"
   ],
   "metadata": {
    "collapsed": false,
    "ExecuteTime": {
     "end_time": "2024-04-07T08:16:24.393326700Z",
     "start_time": "2024-04-07T08:16:24.330285Z"
    }
   },
   "id": "15f5369f172fd5e3",
   "execution_count": 26
  },
  {
   "cell_type": "code",
   "outputs": [
    {
     "name": "stdout",
     "output_type": "stream",
     "text": [
      "[ 0.55850451 -1.04560884  0.14422674]\n"
     ]
    }
   ],
   "source": [
    "x = np.array([0.6, 0.9])\n",
    "p = net.predict(x)\n",
    "print(p)"
   ],
   "metadata": {
    "collapsed": false,
    "ExecuteTime": {
     "end_time": "2024-04-07T08:16:24.789949900Z",
     "start_time": "2024-04-07T08:16:24.362410600Z"
    }
   },
   "id": "417e1a6d6d48c46",
   "execution_count": 27
  },
  {
   "cell_type": "code",
   "outputs": [],
   "source": [
    "t = np.array([0, 0, 1])"
   ],
   "metadata": {
    "collapsed": false,
    "ExecuteTime": {
     "end_time": "2024-04-07T08:16:24.791945500Z",
     "start_time": "2024-04-07T08:16:24.456478900Z"
    }
   },
   "id": "b4a6623a0136c8bd",
   "execution_count": 28
  },
  {
   "cell_type": "code",
   "outputs": [
    {
     "name": "stdout",
     "output_type": "stream",
     "text": [
      "[[ 0.32225395  0.06479488 -0.38704882]\n",
      " [ 0.48338092  0.09719232 -0.58057324]]\n"
     ]
    }
   ],
   "source": [
    "f = lambda w: net.loss(x, t)\n",
    "dW = numerical_gradient(f, net.W)\n",
    "print(dW)"
   ],
   "metadata": {
    "collapsed": false,
    "ExecuteTime": {
     "end_time": "2024-04-07T08:16:24.858276900Z",
     "start_time": "2024-04-07T08:16:24.459497500Z"
    }
   },
   "id": "c741aad937066f14",
   "execution_count": 29
  },
  {
   "cell_type": "markdown",
   "source": [
    "## 4.5 学习算法的实现"
   ],
   "metadata": {
    "collapsed": false
   },
   "id": "50dae2d40cf499e8"
  },
  {
   "cell_type": "markdown",
   "source": [
    "### 4.5.1 2层神经网络的类"
   ],
   "metadata": {
    "collapsed": false
   },
   "id": "3319dd5981bbf2c6"
  },
  {
   "cell_type": "code",
   "outputs": [],
   "source": [
    "from common.functions import *\n",
    "from common.gradient import numerical_gradient"
   ],
   "metadata": {
    "collapsed": false,
    "ExecuteTime": {
     "end_time": "2024-04-07T08:16:24.859301900Z",
     "start_time": "2024-04-07T08:16:24.486826100Z"
    }
   },
   "id": "e9bb22a052e12719",
   "execution_count": 30
  },
  {
   "cell_type": "code",
   "outputs": [],
   "source": [
    "class TwoLayerNet:\n",
    "    \n",
    "    def __init__(self, input_size, hidden_size, output_size,\n",
    "                weight_init_std=0.01):\n",
    "        # 初始化权重\n",
    "        self.params = {}\n",
    "        self.params['W1'] = weight_init_std * np.random.randn(input_size, hidden_size)\n",
    "        self.params['W2'] = weight_init_std * np.random.randn(hidden_size, output_size)\n",
    "        self.params['b1'] = np.zeros(hidden_size)\n",
    "        self.params['b2'] = np.zeros(output_size)\n",
    "        \n",
    "    def predict(self, x):\n",
    "        W1, W2 = self.params['W1'], self.params['W2']\n",
    "        b1, b2 = self.params['b1'], self.params['b2']\n",
    "        \n",
    "        a1 = np.dot(x, W1) + b1\n",
    "        z1 = sigmoid(a1)\n",
    "        a2 = np.dot(z1, W2) + b2\n",
    "        y = softmax(a2)\n",
    "        \n",
    "        return y\n",
    "    \n",
    "    def loss(self, x, t):\n",
    "        y = self.predict(x)\n",
    "        return cross_entropy_error(y, t)\n",
    "    \n",
    "    def accuracy(self, x, t):\n",
    "        y = self.predict(x)\n",
    "        y = np.argmax(y, axis=1)\n",
    "        t = np.argmax(t, axis=1)\n",
    "        accuracy = np.sum(y == t) / float(x.shape[0])\n",
    "        return accuracy\n",
    "    \n",
    "    def numerical_gradient(self, x, t):\n",
    "        loss_W = lambda w: self.loss(x, t)\n",
    "        \n",
    "        grads = {}\n",
    "        grads['W1'] = numerical_gradient(loss_W, self.params['W1'])\n",
    "        grads['b1'] = numerical_gradient(loss_W, self.params['b1'])\n",
    "        grads['W2'] = numerical_gradient(loss_W, self.params['W2'])\n",
    "        grads['b2'] = numerical_gradient(loss_W, self.params['b2'])\n",
    "        \n",
    "        return grads"
   ],
   "metadata": {
    "collapsed": false,
    "ExecuteTime": {
     "end_time": "2024-04-07T08:20:21.495146800Z",
     "start_time": "2024-04-07T08:20:21.491132400Z"
    }
   },
   "id": "87d4c1e0e493ff77",
   "execution_count": 33
  },
  {
   "cell_type": "code",
   "outputs": [],
   "source": [
    "# 这里来看一个例子\n",
    "net = TwoLayerNet(input_size=784, hidden_size=100,output_size=10)"
   ],
   "metadata": {
    "collapsed": false,
    "ExecuteTime": {
     "end_time": "2024-04-07T08:20:30.936120Z",
     "start_time": "2024-04-07T08:20:30.930084600Z"
    }
   },
   "id": "cfdacb5fca1c761",
   "execution_count": 35
  },
  {
   "cell_type": "code",
   "outputs": [
    {
     "data": {
      "text/plain": "(784, 100)"
     },
     "execution_count": 37,
     "metadata": {},
     "output_type": "execute_result"
    }
   ],
   "source": [
    "net.params['W1'].shape"
   ],
   "metadata": {
    "collapsed": false,
    "ExecuteTime": {
     "end_time": "2024-04-07T08:20:48.577250200Z",
     "start_time": "2024-04-07T08:20:48.570817500Z"
    }
   },
   "id": "6aa9b8d05774276d",
   "execution_count": 37
  },
  {
   "cell_type": "code",
   "outputs": [
    {
     "data": {
      "text/plain": "(100,)"
     },
     "execution_count": 38,
     "metadata": {},
     "output_type": "execute_result"
    }
   ],
   "source": [
    "net.params['b1'].shape"
   ],
   "metadata": {
    "collapsed": false,
    "ExecuteTime": {
     "end_time": "2024-04-07T08:21:04.790186300Z",
     "start_time": "2024-04-07T08:21:04.774309100Z"
    }
   },
   "id": "6b9c2e2211548a14",
   "execution_count": 38
  },
  {
   "cell_type": "code",
   "outputs": [
    {
     "data": {
      "text/plain": "(100, 10)"
     },
     "execution_count": 39,
     "metadata": {},
     "output_type": "execute_result"
    }
   ],
   "source": [
    "net.params['W2'].shape"
   ],
   "metadata": {
    "collapsed": false,
    "ExecuteTime": {
     "end_time": "2024-04-07T08:21:09.589661Z",
     "start_time": "2024-04-07T08:21:09.575139900Z"
    }
   },
   "id": "26574a788f7733e6",
   "execution_count": 39
  },
  {
   "cell_type": "code",
   "outputs": [
    {
     "data": {
      "text/plain": "(10,)"
     },
     "execution_count": 40,
     "metadata": {},
     "output_type": "execute_result"
    }
   ],
   "source": [
    "net.params['b2'].shape"
   ],
   "metadata": {
    "collapsed": false,
    "ExecuteTime": {
     "end_time": "2024-04-07T08:21:14.175329800Z",
     "start_time": "2024-04-07T08:21:14.160578400Z"
    }
   },
   "id": "1272d371fb1b39f",
   "execution_count": 40
  },
  {
   "cell_type": "code",
   "outputs": [],
   "source": [
    "x = np.random.rand(100, 784)\n",
    "y = net.predict(x) # 接近均匀分布。"
   ],
   "metadata": {
    "collapsed": false,
    "ExecuteTime": {
     "end_time": "2024-04-07T08:22:49.725598100Z",
     "start_time": "2024-04-07T08:22:49.645978900Z"
    }
   },
   "id": "48e38021d9597d82",
   "execution_count": 41
  },
  {
   "cell_type": "code",
   "outputs": [
    {
     "data": {
      "text/plain": "(784, 100)"
     },
     "execution_count": 45,
     "metadata": {},
     "output_type": "execute_result"
    }
   ],
   "source": [
    "x = np.random.rand(100, 784) # 伪输入数据\n",
    "t = np.random.rand(100, 10) # 伪正确解标签\n",
    "\n",
    "# ! 这一步耗时较长\n",
    "grads = net.numerical_gradient(x, t)"
   ],
   "metadata": {
    "collapsed": false,
    "ExecuteTime": {
     "end_time": "2024-04-07T08:26:38.947309700Z",
     "start_time": "2024-04-07T08:25:53.141251600Z"
    }
   },
   "id": "65c5193ca64af757",
   "execution_count": 45
  },
  {
   "cell_type": "code",
   "outputs": [
    {
     "name": "stdout",
     "output_type": "stream",
     "text": [
      "(784, 100)\n",
      "(100,)\n",
      "(100, 10)\n",
      "(10,)\n"
     ]
    }
   ],
   "source": [
    "print(grads['W1'].shape)\n",
    "print(grads['b1'].shape)\n",
    "print(grads['W2'].shape)\n",
    "print(grads['b2'].shape)"
   ],
   "metadata": {
    "collapsed": false,
    "ExecuteTime": {
     "end_time": "2024-04-07T08:27:27.786150500Z",
     "start_time": "2024-04-07T08:27:27.778940800Z"
    }
   },
   "id": "b4d269ac285f4f59",
   "execution_count": 47
  },
  {
   "cell_type": "markdown",
   "source": [
    "### 4.5.2. mini-batch"
   ],
   "metadata": {
    "collapsed": false
   },
   "id": "8e6b934e5567d9c4"
  },
  {
   "cell_type": "code",
   "outputs": [
    {
     "ename": "KeyboardInterrupt",
     "evalue": "",
     "output_type": "error",
     "traceback": [
      "\u001B[1;31m---------------------------------------------------------------------------\u001B[0m",
      "\u001B[1;31mKeyboardInterrupt\u001B[0m                         Traceback (most recent call last)",
      "Cell \u001B[1;32mIn[50], line 20\u001B[0m\n\u001B[0;32m     17\u001B[0m t_batch \u001B[38;5;241m=\u001B[39m t_train[batch_mask]\n\u001B[0;32m     19\u001B[0m \u001B[38;5;66;03m# cal the gradient\u001B[39;00m\n\u001B[1;32m---> 20\u001B[0m grad \u001B[38;5;241m=\u001B[39m network\u001B[38;5;241m.\u001B[39mnumerical_gradient(x_batch, t_batch)\n\u001B[0;32m     22\u001B[0m \u001B[38;5;28;01mfor\u001B[39;00m key \u001B[38;5;129;01min\u001B[39;00m (\u001B[38;5;124m'\u001B[39m\u001B[38;5;124mW1\u001B[39m\u001B[38;5;124m'\u001B[39m, \u001B[38;5;124m'\u001B[39m\u001B[38;5;124mb1\u001B[39m\u001B[38;5;124m'\u001B[39m, \u001B[38;5;124m'\u001B[39m\u001B[38;5;124mW2\u001B[39m\u001B[38;5;124m'\u001B[39m, \u001B[38;5;124m'\u001B[39m\u001B[38;5;124mb2\u001B[39m\u001B[38;5;124m'\u001B[39m):\n\u001B[0;32m     23\u001B[0m     network\u001B[38;5;241m.\u001B[39mparams[key] \u001B[38;5;241m-\u001B[39m\u001B[38;5;241m=\u001B[39m learning_rate \u001B[38;5;241m*\u001B[39m grad[key]\n",
      "Cell \u001B[1;32mIn[33], line 38\u001B[0m, in \u001B[0;36mTwoLayerNet.numerical_gradient\u001B[1;34m(self, x, t)\u001B[0m\n\u001B[0;32m     35\u001B[0m loss_W \u001B[38;5;241m=\u001B[39m \u001B[38;5;28;01mlambda\u001B[39;00m w: \u001B[38;5;28mself\u001B[39m\u001B[38;5;241m.\u001B[39mloss(x, t)\n\u001B[0;32m     37\u001B[0m grads \u001B[38;5;241m=\u001B[39m {}\n\u001B[1;32m---> 38\u001B[0m grads[\u001B[38;5;124m'\u001B[39m\u001B[38;5;124mW1\u001B[39m\u001B[38;5;124m'\u001B[39m] \u001B[38;5;241m=\u001B[39m numerical_gradient(loss_W, \u001B[38;5;28mself\u001B[39m\u001B[38;5;241m.\u001B[39mparams[\u001B[38;5;124m'\u001B[39m\u001B[38;5;124mW1\u001B[39m\u001B[38;5;124m'\u001B[39m])\n\u001B[0;32m     39\u001B[0m grads[\u001B[38;5;124m'\u001B[39m\u001B[38;5;124mb1\u001B[39m\u001B[38;5;124m'\u001B[39m] \u001B[38;5;241m=\u001B[39m numerical_gradient(loss_W, \u001B[38;5;28mself\u001B[39m\u001B[38;5;241m.\u001B[39mparams[\u001B[38;5;124m'\u001B[39m\u001B[38;5;124mb1\u001B[39m\u001B[38;5;124m'\u001B[39m])\n\u001B[0;32m     40\u001B[0m grads[\u001B[38;5;124m'\u001B[39m\u001B[38;5;124mW2\u001B[39m\u001B[38;5;124m'\u001B[39m] \u001B[38;5;241m=\u001B[39m numerical_gradient(loss_W, \u001B[38;5;28mself\u001B[39m\u001B[38;5;241m.\u001B[39mparams[\u001B[38;5;124m'\u001B[39m\u001B[38;5;124mW2\u001B[39m\u001B[38;5;124m'\u001B[39m])\n",
      "File \u001B[1;32mR:\\code\\github\\IT-BookNotes\\深度学习入门：基于Python的理论与实现\\common\\gradient.py:44\u001B[0m, in \u001B[0;36mnumerical_gradient\u001B[1;34m(f, x)\u001B[0m\n\u001B[0;32m     42\u001B[0m tmp_val \u001B[38;5;241m=\u001B[39m x[idx]\n\u001B[0;32m     43\u001B[0m x[idx] \u001B[38;5;241m=\u001B[39m tmp_val \u001B[38;5;241m+\u001B[39m h\n\u001B[1;32m---> 44\u001B[0m fxh1 \u001B[38;5;241m=\u001B[39m f(x)  \u001B[38;5;66;03m# f(x+h)\u001B[39;00m\n\u001B[0;32m     46\u001B[0m x[idx] \u001B[38;5;241m=\u001B[39m tmp_val \u001B[38;5;241m-\u001B[39m h\n\u001B[0;32m     47\u001B[0m fxh2 \u001B[38;5;241m=\u001B[39m f(x)  \u001B[38;5;66;03m# f(x-h)\u001B[39;00m\n",
      "Cell \u001B[1;32mIn[33], line 35\u001B[0m, in \u001B[0;36mTwoLayerNet.numerical_gradient.<locals>.<lambda>\u001B[1;34m(w)\u001B[0m\n\u001B[0;32m     34\u001B[0m \u001B[38;5;28;01mdef\u001B[39;00m \u001B[38;5;21mnumerical_gradient\u001B[39m(\u001B[38;5;28mself\u001B[39m, x, t):\n\u001B[1;32m---> 35\u001B[0m     loss_W \u001B[38;5;241m=\u001B[39m \u001B[38;5;28;01mlambda\u001B[39;00m w: \u001B[38;5;28mself\u001B[39m\u001B[38;5;241m.\u001B[39mloss(x, t)\n\u001B[0;32m     37\u001B[0m     grads \u001B[38;5;241m=\u001B[39m {}\n\u001B[0;32m     38\u001B[0m     grads[\u001B[38;5;124m'\u001B[39m\u001B[38;5;124mW1\u001B[39m\u001B[38;5;124m'\u001B[39m] \u001B[38;5;241m=\u001B[39m numerical_gradient(loss_W, \u001B[38;5;28mself\u001B[39m\u001B[38;5;241m.\u001B[39mparams[\u001B[38;5;124m'\u001B[39m\u001B[38;5;124mW1\u001B[39m\u001B[38;5;124m'\u001B[39m])\n",
      "Cell \u001B[1;32mIn[33], line 24\u001B[0m, in \u001B[0;36mTwoLayerNet.loss\u001B[1;34m(self, x, t)\u001B[0m\n\u001B[0;32m     23\u001B[0m \u001B[38;5;28;01mdef\u001B[39;00m \u001B[38;5;21mloss\u001B[39m(\u001B[38;5;28mself\u001B[39m, x, t):\n\u001B[1;32m---> 24\u001B[0m     y \u001B[38;5;241m=\u001B[39m \u001B[38;5;28mself\u001B[39m\u001B[38;5;241m.\u001B[39mpredict(x)\n\u001B[0;32m     25\u001B[0m     \u001B[38;5;28;01mreturn\u001B[39;00m cross_entropy_error(y, t)\n",
      "Cell \u001B[1;32mIn[33], line 17\u001B[0m, in \u001B[0;36mTwoLayerNet.predict\u001B[1;34m(self, x)\u001B[0m\n\u001B[0;32m     14\u001B[0m b1, b2 \u001B[38;5;241m=\u001B[39m \u001B[38;5;28mself\u001B[39m\u001B[38;5;241m.\u001B[39mparams[\u001B[38;5;124m'\u001B[39m\u001B[38;5;124mb1\u001B[39m\u001B[38;5;124m'\u001B[39m], \u001B[38;5;28mself\u001B[39m\u001B[38;5;241m.\u001B[39mparams[\u001B[38;5;124m'\u001B[39m\u001B[38;5;124mb2\u001B[39m\u001B[38;5;124m'\u001B[39m]\n\u001B[0;32m     16\u001B[0m a1 \u001B[38;5;241m=\u001B[39m np\u001B[38;5;241m.\u001B[39mdot(x, W1) \u001B[38;5;241m+\u001B[39m b1\n\u001B[1;32m---> 17\u001B[0m z1 \u001B[38;5;241m=\u001B[39m sigmoid(a1)\n\u001B[0;32m     18\u001B[0m a2 \u001B[38;5;241m=\u001B[39m np\u001B[38;5;241m.\u001B[39mdot(z1, W2) \u001B[38;5;241m+\u001B[39m b2\n\u001B[0;32m     19\u001B[0m y \u001B[38;5;241m=\u001B[39m softmax(a2)\n",
      "File \u001B[1;32mR:\\code\\github\\IT-BookNotes\\深度学习入门：基于Python的理论与实现\\common\\functions.py:14\u001B[0m, in \u001B[0;36msigmoid\u001B[1;34m(x)\u001B[0m\n\u001B[0;32m     13\u001B[0m \u001B[38;5;28;01mdef\u001B[39;00m \u001B[38;5;21msigmoid\u001B[39m(x):\n\u001B[1;32m---> 14\u001B[0m     \u001B[38;5;28;01mreturn\u001B[39;00m \u001B[38;5;241m1\u001B[39m \u001B[38;5;241m/\u001B[39m (\u001B[38;5;241m1\u001B[39m \u001B[38;5;241m+\u001B[39m np\u001B[38;5;241m.\u001B[39mexp(\u001B[38;5;241m-\u001B[39mx))\n",
      "\u001B[1;31mKeyboardInterrupt\u001B[0m: "
     ]
    }
   ],
   "source": [
    "(x_train, t_train), (x_test, t_test) = load_mnist(normalize=True, one_hot_label=True)\n",
    "\n",
    "train_loss_list = []\n",
    "\n",
    "# 超参数\n",
    "iters_num = 1000\n",
    "train_size = x_train.shape[0]\n",
    "batch_size = 100\n",
    "learning_rate = 0.1\n",
    "\n",
    "network = TwoLayerNet(input_size=784, hidden_size=50, output_size=10)\n",
    "\n",
    "for i in range(iters_num):\n",
    "    # get mini-batch\n",
    "    batch_mask = np.random.choice(train_size, batch_size)\n",
    "    x_batch = x_train[batch_mask]\n",
    "    t_batch = t_train[batch_mask]\n",
    "    \n",
    "    # cal the gradient\n",
    "    grad = network.numerical_gradient(x_batch, t_batch)\n",
    "    \n",
    "    for key in ('W1', 'b1', 'W2', 'b2'):\n",
    "        network.params[key] -= learning_rate * grad[key]\n",
    "        \n",
    "    loss = network.loss(x_batch, t_batch)\n",
    "    train_loss_list.append(loss)"
   ],
   "metadata": {
    "collapsed": false,
    "ExecuteTime": {
     "end_time": "2024-04-07T09:40:38.919254Z",
     "start_time": "2024-04-07T09:36:14.641056300Z"
    }
   },
   "id": "78e0b0b64d249282",
   "execution_count": 50
  },
  {
   "cell_type": "markdown",
   "source": [
    "### 4.5.3 基于测试数据的评价"
   ],
   "metadata": {
    "collapsed": false
   },
   "id": "5491e82dd929bab2"
  },
  {
   "cell_type": "code",
   "outputs": [],
   "source": [
    "(x_train, t_train), (x_test, t_test) = load_mnist(normalize=True, one_hot_label=True)\n",
    "\n",
    "train_loss_list = []\n",
    "train_acc_list = []\n",
    "test_acc_list = []\n",
    "# 平均每个epoch的重复次数\n",
    "iter_per_epoch = max(train_size / batch_size, 1)\n",
    "\n",
    "# 超参数\n",
    "iters_num = 1000\n",
    "train_size = x_train.shape[0]\n",
    "batch_size = 100\n",
    "learning_rate = 0.1\n",
    "\n",
    "network = TwoLayerNet(input_size=784, hidden_size=50, output_size=10)\n",
    "\n",
    "for i in range(iters_num):\n",
    "    # get mini-batch\n",
    "    batch_mask = np.random.choice(train_size, batch_size)\n",
    "    x_batch = x_train[batch_mask]\n",
    "    t_batch = t_train[batch_mask]\n",
    "    \n",
    "    # cal the gradient\n",
    "    grad = network.numerical_gradient(x_batch, t_batch)\n",
    "    \n",
    "    for key in ('W1', 'b1', 'W2', 'b2'):\n",
    "        network.params[key] -= learning_rate * grad[key]\n",
    "        \n",
    "    loss = network.loss(x_batch, t_batch)\n",
    "    train_loss_list.append(loss)\n",
    "    \n",
    "#     计算每个epoch的识别精度\n",
    "    if i % iter_per_epoch == 0:\n",
    "        train_acc = network.accuracy(x_train, t_train)\n",
    "        test_acc = network.accuracy(x_test, t_test)\n",
    "        train_acc_list.append(train_acc)\n",
    "        test_acc_list.append(test_acc)\n",
    "        print(\"train_acc, test_acc \" + str(train_acc) + \",\" + str(test_acc))\n"
   ],
   "metadata": {
    "collapsed": false,
    "ExecuteTime": {
     "end_time": "2024-04-07T08:16:24.913882700Z",
     "start_time": "2024-04-07T08:16:24.528435500Z"
    }
   },
   "id": "6f4e5a0977f1cd96",
   "execution_count": 31
  },
  {
   "cell_type": "code",
   "outputs": [],
   "source": [],
   "metadata": {
    "collapsed": false
   },
   "id": "90b81d1da54a7e48"
  }
 ],
 "metadata": {
  "kernelspec": {
   "display_name": "Python 3",
   "language": "python",
   "name": "python3"
  },
  "language_info": {
   "codemirror_mode": {
    "name": "ipython",
    "version": 2
   },
   "file_extension": ".py",
   "mimetype": "text/x-python",
   "name": "python",
   "nbconvert_exporter": "python",
   "pygments_lexer": "ipython2",
   "version": "2.7.6"
  }
 },
 "nbformat": 4,
 "nbformat_minor": 5
}
