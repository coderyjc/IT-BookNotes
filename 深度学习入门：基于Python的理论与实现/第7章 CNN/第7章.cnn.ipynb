{
 "cells": [
  {
   "cell_type": "markdown",
   "metadata": {},
   "source": [
    "## 7.4 卷积层和池化层的实现"
   ]
  },
  {
   "cell_type": "markdown",
   "metadata": {},
   "source": [
    "### 7.4.3 卷积层的实现"
   ]
  },
  {
   "cell_type": "code",
   "execution_count": 2,
   "metadata": {},
   "outputs": [],
   "source": [
    "import sys, os\n",
    "sys.path.append(os.pardir)\n",
    "\n",
    "import numpy as np\n",
    "from common.util import im2col \n"
   ]
  },
  {
   "cell_type": "code",
   "execution_count": 4,
   "metadata": {},
   "outputs": [
    {
     "name": "stdout",
     "output_type": "stream",
     "text": [
      "(9, 75)\n"
     ]
    }
   ],
   "source": [
    "x1 = np.random.rand(1, 3, 7, 7)\n",
    "col1 = im2col(x1, 5, 5, stride=1, pad=0)\n",
    "print(col1.shape)"
   ]
  },
  {
   "cell_type": "code",
   "execution_count": 5,
   "metadata": {},
   "outputs": [
    {
     "name": "stdout",
     "output_type": "stream",
     "text": [
      "(90, 75)\n"
     ]
    }
   ],
   "source": [
    "x2 = np.random.rand(10, 3, 7, 7)\n",
    "col1 = im2col(x2, 5, 5, stride=1, pad=0)\n",
    "print(col1.shape)"
   ]
  },
  {
   "cell_type": "code",
   "execution_count": null,
   "metadata": {},
   "outputs": [],
   "source": [
    "class Convolution:\n",
    "  def __init__(self, W, b, stride=1, pad=0):\n",
    "    self.W = W\n",
    "    self.b = b\n",
    "    self.stride = stride\n",
    "    self.pad = pad\n",
    "  \n",
    "  def forward(self, x):\n",
    "    FN, C, FH, FW = self.W.shape\n",
    "    N, C, H, W = x.shape\n",
    "    out_h = int(1 + (H + 2*self.pad - FH) / self.stride)\n",
    "    out_w = int(1 + (W + 2*self.pad - FW) / self.stride)\n",
    "\n",
    "    col = im2col(x, FH, FW, self.stride, self.pad)\n",
    "    col_W = self.W.reshape(FN, -1).T # 滤波器的展开\n",
    "    out = np.dot(col, col_W) + self.b\n",
    "\n",
    "    out = out.reshape(N, out_h, out_w, -1).transpose(0,3,1,2)\n",
    "\n",
    "    return out"
   ]
  },
  {
   "cell_type": "markdown",
   "metadata": {},
   "source": [
    "### 7.4.4 池化层的实现"
   ]
  },
  {
   "cell_type": "code",
   "execution_count": 7,
   "metadata": {},
   "outputs": [],
   "source": [
    "class Pooling:\n",
    "  def __init__(self, pool_h, pool_w, stride=1, pad=0):\n",
    "    self.pool_h = pool_h\n",
    "    self.pool_w = pool_w\n",
    "    self.stride = stride\n",
    "    self.pad = pad\n",
    "\n",
    "  def forward(self, x):\n",
    "    N, C, H, W = x.shape\n",
    "    out_h = int(1 + (H - self.pool_h) / self.stride)\n",
    "    out_w = int(1 + (W - self.pool_w) / self.stride)``\n",
    "\n",
    "    # 展开\n",
    "    col = im2col(x, self.pool_h, self.pool_w, self.stride, self.pad)\n",
    "    col = col.reshape(-1, self.pool_h*self.pool_w)\n",
    "\n",
    "    # 最大值\n",
    "    out = np.max(col, axis=1)\n",
    "\n",
    "    out = out.reshape(N, out_h, out_w, C).transpose(0, 3, 1, 2)\n",
    "\n",
    "    return out"
   ]
  },
  {
   "cell_type": "markdown",
   "metadata": {},
   "source": [
    "## 7.5 CNN的实现\n"
   ]
  },
  {
   "cell_type": "code",
   "execution_count": 10,
   "metadata": {},
   "outputs": [],
   "source": [
    "from common.layers import Relu, Affine, SoftmaxWithLoss"
   ]
  },
  {
   "cell_type": "code",
   "execution_count": 11,
   "metadata": {},
   "outputs": [],
   "source": [
    "class SimpleConvNet:\n",
    "  def __init__(self, input_dim=(1, 28, 28),\n",
    "               conv_param={'filter_num':30,'filter_size': 5, 'pad': 0, 'stride': 1},\n",
    "               hidden_size=100, output_size=10, weight_init_std=0.01):\n",
    "    filter_num = conv_param['filter_num']\n",
    "    filter_size = conv_param['filter_size']\n",
    "    filter_pad = conv_param['pad']\n",
    "    filter_stride = conv_param['stride']\n",
    "    input_size = input_dim[1]\n",
    "    conv_output_size = (input_size - filter_size + 2 * filter_pad) / filter_stride + 1\n",
    "    pool_output_size = int(filter_num * (conv_output_size / 2) * (conv_output_size / 2))\n",
    "\n",
    "    self.params = {}\n",
    "    self.params['W1'] = weight_init_std * np.random.rnadn(filter_num, input_dim[0], filter_size, filter_size)\n",
    "    self.params['b1'] = np.zeros(filter_num)\n",
    "    self.params['W2'] = weight_init_std * np.random.rnadn(pool_output_size, hidden_size)\n",
    "    self.params['b2'] = np.zeros(hidden_size)\n",
    "    self.params['W3'] = weight_init_std * np.random.randn(hidden_size, output_size)\n",
    "    self.params['b3'] = np.zeros(output_size)\n",
    "\n",
    "    self.layers = {}\n",
    "    self.layers['Conv1'] = Convolution(self.params['W1'],\n",
    "                                       self.params['b1'],\n",
    "                                       conv_param['stride'],\n",
    "                                       comv_param['pad'])\n",
    "    self.layers['Relu1'] = Relu()\n",
    "    self.layers['Pool1'] = Affine(self.params['W3'], self.params['b3'])\n",
    "    self.last_layer = SoftmaxWithLoss()\n",
    "\n",
    "  def predict(self, x):\n",
    "    for layer in self.layers.values():\n",
    "      x = layer.forward(x)\n",
    "    return x\n",
    "    \n",
    "  def loss(self, x, t):\n",
    "    y = self.predict(x)\n",
    "    return self.lastLayer.forward(y, t)\n",
    "  \n",
    "\n",
    "  def gradient(self, x, t):\n",
    "    # forward\n",
    "    self.loss(x, t)\n",
    "\n",
    "    # backward\n",
    "    dout = 1\n",
    "    dout = self.lastLayer.backward(dout)\n",
    "\n",
    "    layers = list(self.layers.values())\n",
    "    layers.reverse()\n",
    "    for layer in layers:\n",
    "      dout = layer.backward(dout)\n",
    "    \n",
    "    grads = {}\n",
    "    grads['W1'] = self.layers['Conv1'].dW\n",
    "    grads['b1'] = self.layers['Conv1'].db\n",
    "    grads['W2'] = self.layers['Affine1'].dW\n",
    "    grads['b2'] = self.layers['Affine1'].db\n",
    "    grads['W3'] = self.layers['Affine2'].dW\n",
    "    grads['b3'] = self.layers['Affine2'].db\n",
    "\n",
    "    return grads\n"
   ]
  }
 ],
 "metadata": {
  "kernelspec": {
   "display_name": "base",
   "language": "python",
   "name": "python3"
  },
  "language_info": {
   "codemirror_mode": {
    "name": "ipython",
    "version": 3
   },
   "file_extension": ".py",
   "mimetype": "text/x-python",
   "name": "python",
   "nbconvert_exporter": "python",
   "pygments_lexer": "ipython3",
   "version": "3.12.2"
  }
 },
 "nbformat": 4,
 "nbformat_minor": 2
}
